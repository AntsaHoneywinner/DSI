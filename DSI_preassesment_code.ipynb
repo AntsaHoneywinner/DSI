{
  "nbformat": 4,
  "nbformat_minor": 0,
  "metadata": {
    "colab": {
      "name": "DSI preassesment code.ipynb",
      "provenance": [],
      "authorship_tag": "ABX9TyNs3MfCv7jlmhoU2xkcCQQR",
      "include_colab_link": true
    },
    "kernelspec": {
      "name": "python3",
      "display_name": "Python 3"
    },
    "language_info": {
      "name": "python"
    }
  },
  "cells": [
    {
      "cell_type": "markdown",
      "metadata": {
        "id": "view-in-github",
        "colab_type": "text"
      },
      "source": [
        "<a href=\"https://colab.research.google.com/github/antsaaims/DSI/blob/main/DSI_preassesment_code.ipynb\" target=\"_parent\"><img src=\"https://colab.research.google.com/assets/colab-badge.svg\" alt=\"Open In Colab\"/></a>"
      ]
    },
    {
      "cell_type": "markdown",
      "metadata": {
        "id": "0eRs2PVy1Fwy"
      },
      "source": [
        "\n",
        "\n",
        "\n",
        "\n",
        "# **DSI PreAssesnment - 2022**\n",
        "\n",
        "## Antsa Tantely Fandresena Rakotondrafara\n",
        "\n",
        "\n",
        "My github account : https://github.com/antsaaims\n"
      ]
    },
    {
      "cell_type": "markdown",
      "metadata": {
        "id": "O_flEgOphox_"
      },
      "source": [
        "## Part 01"
      ]
    },
    {
      "cell_type": "markdown",
      "metadata": {
        "id": "AERHgaib1Ym1"
      },
      "source": [
        "**1 Create a hexagon**"
      ]
    },
    {
      "cell_type": "code",
      "metadata": {
        "id": "e2nRLSyc1SdJ"
      },
      "source": [
        "import matplotlib.pyplot as plt\n",
        "import numpy as np\n",
        "%matplotlib inline\n",
        "import random as rnd"
      ],
      "execution_count": null,
      "outputs": []
    },
    {
      "cell_type": "code",
      "metadata": {
        "id": "E3EQGdg42F2S"
      },
      "source": [
        "xs=[1,1,3,6,7,5,1]#x values of the vertices of my hexagon\n",
        "ys=[1,3,6,7,4,1,1]#y values of the vertices of my hexagon"
      ],
      "execution_count": null,
      "outputs": []
    },
    {
      "cell_type": "code",
      "metadata": {
        "colab": {
          "base_uri": "https://localhost:8080/",
          "height": 282
        },
        "id": "fAa70rrc3hJs",
        "outputId": "51421709-0076-45fb-8603-55223f3c19fc"
      },
      "source": [
        "plt.plot(xs,ys)#ploting my hexagon"
      ],
      "execution_count": null,
      "outputs": [
        {
          "output_type": "execute_result",
          "data": {
            "text/plain": [
              "[<matplotlib.lines.Line2D at 0x7f95ac16a050>]"
            ]
          },
          "metadata": {},
          "execution_count": 3
        },
        {
          "output_type": "display_data",
          "data": {
            "image/png": "[encoded data removed]",
            "text/plain": [
              "<Figure size 432x288 with 1 Axes>"
            ]
          },
          "metadata": {
            "needs_background": "light"
          }
        }
      ]
    },
    {
      "cell_type": "markdown",
      "metadata": {
        "id": "ijWfTF9w-JmT"
      },
      "source": [
        "2 Pick a random point, P, inside the hexagon.\n",
        "\n",
        "This is the hardest part of this code so I will do it at the end.\n",
        "\n",
        "For the question 1 to 4, we will test it with selected points and at the end, after constructing the random point, we will be able to test it. "
      ]
    },
    {
      "cell_type": "markdown",
      "metadata": {
        "id": "9Ae3TmgjEmD-"
      },
      "source": [
        "Make a triangle, T, by randomly connecting P to two adjacent vertices of the hexagon."
      ]
    },
    {
      "cell_type": "code",
      "metadata": {
        "id": "4cM1P7dLF8wD"
      },
      "source": [
        "def hexvertex(i):\n",
        "\n",
        "  '''This function return a vertex given its range in the list of vertices'''\n",
        "  return((xs[i%6],ys[i%6]))"
      ],
      "execution_count": null,
      "outputs": []
    },
    {
      "cell_type": "code",
      "metadata": {
        "colab": {
          "base_uri": "https://localhost:8080/"
        },
        "id": "9FjpOgfoGQIf",
        "outputId": "eb4522c0-cb3c-457a-fd6a-fe3f9df700a5"
      },
      "source": [
        "#test\n",
        "hexvertex(0)#true"
      ],
      "execution_count": null,
      "outputs": [
        {
          "output_type": "execute_result",
          "data": {
            "text/plain": [
              "(1, 1)"
            ]
          },
          "metadata": {},
          "execution_count": 5
        }
      ]
    },
    {
      "cell_type": "code",
      "metadata": {
        "id": "8TVVUe5q-OzC"
      },
      "source": [
        "def triangle(P):\n",
        "  numvertex=rnd.randint(0,5) # select the first vertices to join with P\n",
        "  adjacent= numvertex + rnd.choice([-1,1])# select the second vertices to join with\n",
        "  # P zich should be adjacent to the first one, before or after\n",
        "  return([P,hexvertex(numvertex),hexvertex(adjacent)]) # list of vertex "
      ],
      "execution_count": null,
      "outputs": []
    },
    {
      "cell_type": "code",
      "metadata": {
        "id": "Mst2vgb-Fhxq"
      },
      "source": [
        "def showthetriangle(T):\n",
        "  xt=[]\n",
        "  yt=[]\n",
        "  for i in [0,1,2,0]:\n",
        "    xt.append(T[i][0])#list of xvalues\n",
        "    yt.append(T[i][1])#list of yvalues\n",
        "  \n",
        "  plt.plot(xt,yt)"
      ],
      "execution_count": null,
      "outputs": []
    },
    {
      "cell_type": "markdown",
      "metadata": {
        "id": "spGHx8RBEeni"
      },
      "source": [
        "Let us test if it give us the waited result"
      ]
    },
    {
      "cell_type": "code",
      "metadata": {
        "colab": {
          "base_uri": "https://localhost:8080/",
          "height": 265
        },
        "id": "7NKJidsjIId7",
        "outputId": "6fe76835-97ba-41c7-df6e-7cd3d4c3fa9c"
      },
      "source": [
        "#test\n",
        "T=triangle((2,3))\n",
        "plt.plot(xs,ys)#ploting my hexagon\n",
        "showthetriangle(T)"
      ],
      "execution_count": null,
      "outputs": [
        {
          "output_type": "display_data",
          "data": {
            "image/png": "[encoded data removed]",
            "text/plain": [
              "<Figure size 432x288 with 1 Axes>"
            ]
          },
          "metadata": {
            "needs_background": "light"
          }
        }
      ]
    },
    {
      "cell_type": "markdown",
      "metadata": {
        "id": "HGksKOBONNs3"
      },
      "source": [
        "Compute the centroid of T"
      ]
    },
    {
      "cell_type": "code",
      "metadata": {
        "id": "QNAvIumWNLZN"
      },
      "source": [
        "def centroid(T):\n",
        "  xG=0\n",
        "  yG=0\n",
        "  for i in [0,1,2]:\n",
        "    xG+=T[i][0]\n",
        "    yG+=T[i][1]\n",
        "  return(xG/3,yG/3)"
      ],
      "execution_count": null,
      "outputs": []
    },
    {
      "cell_type": "code",
      "metadata": {
        "colab": {
          "base_uri": "https://localhost:8080/"
        },
        "id": "Pp6QBrWbMRp-",
        "outputId": "518091ef-e410-45a3-9cbf-408d53236158"
      },
      "source": [
        "centroid(T)"
      ],
      "execution_count": null,
      "outputs": [
        {
          "output_type": "execute_result",
          "data": {
            "text/plain": [
              "(2.6666666666666665, 1.6666666666666667)"
            ]
          },
          "metadata": {},
          "execution_count": 10
        }
      ]
    },
    {
      "cell_type": "code",
      "metadata": {
        "colab": {
          "base_uri": "https://localhost:8080/",
          "height": 265
        },
        "id": "W_jx3DsPRI_l",
        "outputId": "ccc89052-01ec-42db-c1e0-435c575015f5"
      },
      "source": [
        "T=triangle((2,3))\n",
        "C=centroid(T)\n",
        "x = C[0]\n",
        "y = C[1]\n",
        "plt.grid()\n",
        "plt.plot(x, y, marker=\"o\", markersize=20, markeredgecolor=\"red\", markerfacecolor=\"green\")\n",
        "showthetriangle(T)\n",
        "\n",
        "plt.show()\n"
      ],
      "execution_count": null,
      "outputs": [
        {
          "output_type": "display_data",
          "data": {
            "image/png": "[encoded data removed]",
            "text/plain": [
              "<Figure size 432x288 with 1 Axes>"
            ]
          },
          "metadata": {
            "needs_background": "light"
          }
        }
      ]
    },
    {
      "cell_type": "code",
      "metadata": {
        "id": "emmn5qLv1V6E"
      },
      "source": [
        ""
      ],
      "execution_count": null,
      "outputs": []
    },
    {
      "cell_type": "markdown",
      "metadata": {
        "id": "KegsK6ZfPk4D"
      },
      "source": [
        "Compute the centroid of T. This becomes your new random point, P.  Save it, make a new random triangle as above, compute the new centroid etc… Repeat this process 10,000 times. \n"
      ]
    },
    {
      "cell_type": "code",
      "metadata": {
        "id": "aDPBc3bdISpt"
      },
      "source": [
        "n=10000"
      ],
      "execution_count": null,
      "outputs": []
    },
    {
      "cell_type": "code",
      "metadata": {
        "colab": {
          "base_uri": "https://localhost:8080/",
          "height": 282
        },
        "id": "zBov1yBPI9f-",
        "outputId": "69e50982-7a18-4f5e-ebdb-c46abbb54149"
      },
      "source": [
        "P=(2,3)\n",
        "xlist=[]#here is where I will store the x vqlues of the random point\n",
        "ylist=[]#here is where I will store the x vqlues of the random point\n",
        "for i in range(n):\n",
        "  xlist.append(P[0])#storing the value of x\n",
        "  ylist.append(P[1])#storing the value of y\n",
        "  P=centroid(triangle(P))\n",
        "plt.plot(xs,ys)#ploting my hexagon  \n",
        "plt.plot(xlist,ylist)#ploting the points"
      ],
      "execution_count": null,
      "outputs": [
        {
          "output_type": "execute_result",
          "data": {
            "text/plain": [
              "[<matplotlib.lines.Line2D at 0x7f95abaf8550>]"
            ]
          },
          "metadata": {},
          "execution_count": 13
        },
        {
          "output_type": "display_data",
          "data": {
            "image/png": "[encoded data removed]",
            "text/plain": [
              "<Figure size 432x288 with 1 Axes>"
            ]
          },
          "metadata": {
            "needs_background": "light"
          }
        }
      ]
    },
    {
      "cell_type": "code",
      "metadata": {
        "id": "3MCxQtuKLs6s"
      },
      "source": [
        "def showshape(P):\n",
        "  K=P\n",
        "  xlist=[]#here is where I will store the x vqlues of the random point\n",
        "  ylist=[]#here is where I will store the x vqlues of the random point\n",
        "  for i in range(n):\n",
        "    xlist.append(K[0])#storing the value of x\n",
        "    ylist.append(K[1])#storing the value of y\n",
        "    K=centroid(triangle(K))\n",
        "  plt.plot(xs,ys)#ploting my hexagon  \n",
        "  plt.plot(xlist,ylist)#ploting the points\n",
        "  print(K)  "
      ],
      "execution_count": null,
      "outputs": []
    },
    {
      "cell_type": "code",
      "metadata": {
        "colab": {
          "base_uri": "https://localhost:8080/",
          "height": 282
        },
        "id": "9b1XxnDZLu7Z",
        "outputId": "de8bba15-a0a2-446e-bd52-30aa2d1b70d7"
      },
      "source": [
        "showshape((2,3))"
      ],
      "execution_count": null,
      "outputs": [
        {
          "output_type": "stream",
          "name": "stdout",
          "text": [
            "(3.0630297438699565, 4.396018567258571)\n"
          ]
        },
        {
          "output_type": "display_data",
          "data": {
            "image/png": "[encoded data removed]",
            "text/plain": [
              "<Figure size 432x288 with 1 Axes>"
            ]
          },
          "metadata": {
            "needs_background": "light"
          }
        }
      ]
    },
    {
      "cell_type": "code",
      "metadata": {
        "colab": {
          "base_uri": "https://localhost:8080/",
          "height": 282
        },
        "id": "xMNMdm9ALwoo",
        "outputId": "e465ece0-62ef-4fc4-ed25-0303be8eeab0"
      },
      "source": [
        "showshape((6,5))"
      ],
      "execution_count": null,
      "outputs": [
        {
          "output_type": "stream",
          "name": "stdout",
          "text": [
            "(3.9709059375671445, 2.1570161730968875)\n"
          ]
        },
        {
          "output_type": "display_data",
          "data": {
            "image/png": "[encoded data removed]",
            "text/plain": [
              "<Figure size 432x288 with 1 Axes>"
            ]
          },
          "metadata": {
            "needs_background": "light"
          }
        }
      ]
    },
    {
      "cell_type": "markdown",
      "metadata": {
        "id": "cKbXgwK0UOkv"
      },
      "source": [
        "Let us now use our random point.\n",
        "\n",
        "So let me first explain the code :\n",
        "\n",
        "What I know how to do : \n",
        "  - Generate a random number in a given range with the uniform distribution with rnd.uniform()\n",
        "  - So I can now generate points in a rectangle as it is just a couple of random numbers\n",
        "  - Then, I can generate random points laying in a given rectangle triangle by using the diagonal symetry of the point if the point generated is in the other part of the rectangle\n",
        "  - Then, I can generate random points in any given triangles by using an affine function from a rectangle triangle\n",
        "  - Then I can divide my polygon into many triangles\n",
        "  - So first I need to randomly choose in which of the triangles I will put my random point and then I will select the number randomly from that triangle.\n",
        "\n",
        "\n",
        "\n"
      ]
    },
    {
      "cell_type": "code",
      "metadata": {
        "id": "puIDp6Eacbj1"
      },
      "source": [
        "# Creating a function that generate a random point inside the triangle [(0,0),(1,0),(0;1)]\n",
        "def sym(point):\n",
        "  '''This function gives the symetry of a point by the axe y+x=1'''\n",
        "  x=point[0]\n",
        "  y=point[1]\n",
        "  return((-y+1,1-x))\n"
      ],
      "execution_count": null,
      "outputs": []
    },
    {
      "cell_type": "code",
      "metadata": {
        "colab": {
          "base_uri": "https://localhost:8080/"
        },
        "id": "5GSG8xPggEyX",
        "outputId": "ef0b6be6-309a-4a0b-e331-c98caef7ceb9"
      },
      "source": [
        "sym((2,1))#work properly"
      ],
      "execution_count": null,
      "outputs": [
        {
          "output_type": "execute_result",
          "data": {
            "text/plain": [
              "(0, -1)"
            ]
          },
          "metadata": {},
          "execution_count": 18
        }
      ]
    },
    {
      "cell_type": "code",
      "metadata": {
        "id": "kZjt35nZSx9K"
      },
      "source": [
        "def gernerateintri():\n",
        "  '''This function generate a random point inside the triangle  [(0,0),(1,0),(0,1)]''' \n",
        "  x=rnd.uniform(0,1)\n",
        "  y=rnd.uniform(0,1)\n",
        "  if x+y>1: \n",
        "    return(sym((x,y)))\n",
        "  else:\n",
        "    return((x,y))\n"
      ],
      "execution_count": null,
      "outputs": []
    },
    {
      "cell_type": "code",
      "metadata": {
        "colab": {
          "base_uri": "https://localhost:8080/"
        },
        "id": "KNpjbNEUg2To",
        "outputId": "ca448861-66c7-46d5-f97c-8c66595720db"
      },
      "source": [
        "gernerateintri()"
      ],
      "execution_count": null,
      "outputs": [
        {
          "output_type": "execute_result",
          "data": {
            "text/plain": [
              "(0.740785616355404, 0.057497699780971745)"
            ]
          },
          "metadata": {},
          "execution_count": 20
        }
      ]
    },
    {
      "cell_type": "code",
      "metadata": {
        "id": "tcgRi_XNjl9J"
      },
      "source": [
        "# here ze test if the triangle is direct or not and generate the correponding direct triengle\n",
        "\n",
        "def givedirect(T):\n",
        "  P=T\n",
        "  v1=np.array(P[1])-np.array(P[0])\n",
        "  v2=np.array(P[2])-np.array(P[0])\n",
        "  a = np.array(([ v1[0], v2[0]],[ v1[1], v2[1]]))\n",
        "  d=np.linalg.det(a)#test the positivity of teh determinant\n",
        "  if d<0:\n",
        "    k=P[1]\n",
        "    P[1]=P[2]\n",
        "    P[2]=k\n",
        "  return P"
      ],
      "execution_count": null,
      "outputs": []
    },
    {
      "cell_type": "code",
      "metadata": {
        "colab": {
          "base_uri": "https://localhost:8080/"
        },
        "id": "OBmRqa_9lkJW",
        "outputId": "077f8810-2856-4042-b5d8-3f69557cb166"
      },
      "source": [
        "T= [(0,0),(1,0),(0,1)]\n",
        "givedirect(T)"
      ],
      "execution_count": null,
      "outputs": [
        {
          "output_type": "execute_result",
          "data": {
            "text/plain": [
              "[(0, 0), (1, 0), (0, 1)]"
            ]
          },
          "metadata": {},
          "execution_count": 22
        }
      ]
    },
    {
      "cell_type": "code",
      "metadata": {
        "colab": {
          "base_uri": "https://localhost:8080/"
        },
        "id": "T5rXvUIbl7VI",
        "outputId": "02ba1daf-745a-4f39-9b5e-a490070c9c0e"
      },
      "source": [
        "T= [(0,0),(0,1),(1,0)]\n",
        "givedirect(T)"
      ],
      "execution_count": null,
      "outputs": [
        {
          "output_type": "execute_result",
          "data": {
            "text/plain": [
              "[(0, 0), (1, 0), (0, 1)]"
            ]
          },
          "metadata": {},
          "execution_count": 23
        }
      ]
    },
    {
      "cell_type": "markdown",
      "metadata": {
        "id": "De-nsX-inPAX"
      },
      "source": [
        "As all triangles can be converted to a direct one, we will define an affine map from [(0,0),(0,1),(1,0)] to any given triangle.\n",
        "\n",
        "\n",
        "let the triangle be (P1,P2,P3) wich is already diret,\n",
        "then \n",
        "\n",
        "let f the function\n",
        "\n",
        "\n",
        "f((0,0))=P1\n",
        "\n",
        "f((1,0))=P2\n",
        "\n",
        "f((0,1))=P3\n",
        "\n",
        "\n",
        "Then f(a(1,0)+ b(0,1))= a(P2-P1)+b(P3-P1)+P1 "
      ]
    },
    {
      "cell_type": "markdown",
      "metadata": {
        "id": "NtaZtVGLrHz9"
      },
      "source": [
        ""
      ]
    },
    {
      "cell_type": "code",
      "metadata": {
        "id": "al05n76yhErC"
      },
      "source": [
        "#generationg a bijective function from [(0,0),(1,0),(0,1)] to any direct triangle ?BOLA MISY TSY %ETY BDB ITY FA JERENA REHEFA LUNDI\n",
        "def image(point, triangle):\n",
        "  triangle=givedirect(triangle)\n",
        "  P1=np.array(triangle[0])\n",
        "  P2=np.array(triangle[1])\n",
        "  P3=np.array(triangle[2])\n",
        "\n",
        "  #eto no misy tsy maharesy lahatra ahy \n",
        "  return(point[0]*(P2-P1)+point[1]*(P3-P1) + P1)\n"
      ],
      "execution_count": null,
      "outputs": []
    },
    {
      "cell_type": "code",
      "metadata": {
        "id": "PDlncjsxwjMe"
      },
      "source": [
        "# Dividing our hexagon into 4 triangles\n",
        "listtriangle=[[hexvertex(i) for i in [0,1,2]],[hexvertex(i) for i in [2,3,4]],[hexvertex(i) for i in [4,5,0]],[hexvertex(i) for i in [0,2,4]] ]\n",
        "\n",
        "def providetriangle(choice):\n",
        "  return(listtriangle[choice])\n",
        "\n"
      ],
      "execution_count": null,
      "outputs": []
    },
    {
      "cell_type": "code",
      "metadata": {
        "colab": {
          "base_uri": "https://localhost:8080/"
        },
        "id": "JrEt3CxU0oX8",
        "outputId": "f9d52509-8f97-4fc5-cfea-167bfad133da"
      },
      "source": [
        "hexvertex(5)"
      ],
      "execution_count": null,
      "outputs": [
        {
          "output_type": "execute_result",
          "data": {
            "text/plain": [
              "(5, 1)"
            ]
          },
          "metadata": {},
          "execution_count": 26
        }
      ]
    },
    {
      "cell_type": "code",
      "metadata": {
        "colab": {
          "base_uri": "https://localhost:8080/"
        },
        "id": "oq67S9uw0LXh",
        "outputId": "f7d7677a-0c57-4899-c9b4-b67a229498c0"
      },
      "source": [
        "listtriangle"
      ],
      "execution_count": null,
      "outputs": [
        {
          "output_type": "execute_result",
          "data": {
            "text/plain": [
              "[[(1, 1), (1, 3), (3, 6)],\n",
              " [(3, 6), (6, 7), (7, 4)],\n",
              " [(7, 4), (5, 1), (1, 1)],\n",
              " [(1, 1), (3, 6), (7, 4)]]"
            ]
          },
          "metadata": {},
          "execution_count": 27
        }
      ]
    },
    {
      "cell_type": "code",
      "metadata": {
        "colab": {
          "base_uri": "https://localhost:8080/"
        },
        "id": "3vSt1tgm0TAM",
        "outputId": "c86b6913-7db8-4d41-daaa-48ab936df390"
      },
      "source": [
        "providetriangle(1)"
      ],
      "execution_count": null,
      "outputs": [
        {
          "output_type": "execute_result",
          "data": {
            "text/plain": [
              "[(3, 6), (6, 7), (7, 4)]"
            ]
          },
          "metadata": {},
          "execution_count": 28
        }
      ]
    },
    {
      "cell_type": "code",
      "metadata": {
        "id": "OHZ8mb13jk4u"
      },
      "source": [
        "# generation of a function that select a triangles then give a random point inside the choosen triangle\n",
        "\n",
        "def choosepoint():\n",
        "  '''This function generate a random point inside the given hexagon'''\n",
        " # CHOOSE THe triangle\n",
        "  c =rnd.randint(0,3) #choosing wich of the triangle will be selected\n",
        "  triangle= providetriangle(c)\n",
        "  point=gernerateintri()#Generate the random point in [(0, 0), (1, 0), (0, 1)]\n",
        "  return(image(point, triangle))\n",
        " # generate a point  in this triangle\n",
        " "
      ],
      "execution_count": null,
      "outputs": []
    },
    {
      "cell_type": "code",
      "metadata": {
        "id": "8M_8lz8N1G8L"
      },
      "source": [
        ""
      ],
      "execution_count": null,
      "outputs": []
    },
    {
      "cell_type": "code",
      "metadata": {
        "colab": {
          "base_uri": "https://localhost:8080/"
        },
        "id": "-U02oSnp1I8z",
        "outputId": "216ccc3e-26fc-43ed-8030-93352cea7c9b"
      },
      "source": [
        "P"
      ],
      "execution_count": null,
      "outputs": [
        {
          "output_type": "execute_result",
          "data": {
            "text/plain": [
              "(2.936146166511089, 1.3677849887778581)"
            ]
          },
          "metadata": {},
          "execution_count": 30
        }
      ]
    },
    {
      "cell_type": "code",
      "metadata": {
        "colab": {
          "base_uri": "https://localhost:8080/",
          "height": 265
        },
        "id": "HCI_g5Cy1Ytl",
        "outputId": "f9486d80-4d6c-412e-d7a7-78675251988f"
      },
      "source": [
        "P= choosepoint()\n",
        "x = P[0]\n",
        "y = P[1]\n",
        "plt.grid()\n",
        "plt.plot(x, y, marker=\"o\", markersize=10, markeredgecolor=\"red\", markerfacecolor=\"green\")\n",
        "plt.plot(xs,ys)#ploting my hexagon\n",
        "plt.show()"
      ],
      "execution_count": null,
      "outputs": [
        {
          "output_type": "display_data",
          "data": {
            "image/png": "[encoded data removed]",
            "text/plain": [
              "<Figure size 432x288 with 1 Axes>"
            ]
          },
          "metadata": {
            "needs_background": "light"
          }
        }
      ]
    },
    {
      "cell_type": "code",
      "metadata": {
        "colab": {
          "base_uri": "https://localhost:8080/",
          "height": 282
        },
        "id": "jAw1N94myJwX",
        "outputId": "452e11bd-d17d-4b94-95d3-2c699b887e46"
      },
      "source": [
        "# test with our function show\n",
        "\n",
        "showshape(P)"
      ],
      "execution_count": null,
      "outputs": [
        {
          "output_type": "stream",
          "name": "stdout",
          "text": [
            "(2.5639560302141864, 3.73283862078863)\n"
          ]
        },
        {
          "output_type": "display_data",
          "data": {
            "image/png": "[encoded data removed]",
            "text/plain": [
              "<Figure size 432x288 with 1 Axes>"
            ]
          },
          "metadata": {
            "needs_background": "light"
          }
        }
      ]
    },
    {
      "cell_type": "markdown",
      "metadata": {
        "id": "VY0zLKZCUnhv"
      },
      "source": [
        "We see that the shape is the hexagon having as vertices the middle points the edges of the original hexagon."
      ]
    },
    {
      "cell_type": "markdown",
      "source": [
        "# **Question 2:** Datascience with Pandas and Movie Data"
      ],
      "metadata": {
        "id": "S6UdXHw7W0j5"
      }
    },
    {
      "cell_type": "markdown",
      "source": [
        "0. Access some historical IMDB data files from the shared drive: \n",
        "\n",
        "https://drive.google.com/drive/folders/1dl6nw0HO9XVrT8dSBJHHn3mDW9EWQpXS?usp=sharing\n"
      ],
      "metadata": {
        "id": "9Z37p5pAW7K9"
      }
    },
    {
      "cell_type": "code",
      "source": [
        "#importing the needed library\n",
        "\n",
        "import pandas as pd\n",
        "import zipfile\n",
        "from google.colab import files\n",
        "import io"
      ],
      "metadata": {
        "id": "X3aULTB7Y9LM"
      },
      "execution_count": 11,
      "outputs": []
    },
    {
      "cell_type": "code",
      "source": [
        "# Code to read csv file into Colaboratory:\n",
        "!pip install -U -q PyDrive\n",
        "from pydrive.auth import GoogleAuth\n",
        "from pydrive.drive import GoogleDrive\n",
        "from google.colab import auth\n",
        "from oauth2client.client import GoogleCredentials\n",
        "# Authenticate and create the PyDrive client.\n",
        "auth.authenticate_user()\n",
        "gauth = GoogleAuth()\n",
        "gauth.credentials = GoogleCredentials.get_application_default()\n",
        "drive = GoogleDrive(gauth)"
      ],
      "metadata": {
        "id": "lt3I_F3lY0dJ"
      },
      "execution_count": 12,
      "outputs": []
    },
    {
      "cell_type": "code",
      "source": [
        "from google.colab import drive\n",
        "drive.mount('/content/gdrive')"
      ],
      "metadata": {
        "id": "EcBysnOjebGn",
        "colab": {
          "base_uri": "https://localhost:8080/"
        },
        "outputId": "d5a6d68d-7663-453b-d1c0-bb8f756afb02"
      },
      "execution_count": 17,
      "outputs": [
        {
          "output_type": "stream",
          "name": "stdout",
          "text": [
            "Mounted at /content/gdrive\n"
          ]
        }
      ]
    },
    {
      "cell_type": "code",
      "source": [
        "!ls '/content/gdrive/My Drive/DSI_Pre_Assignment_2022'\n"
      ],
      "metadata": {
        "id": "1N0aQwg3ejjk",
        "colab": {
          "base_uri": "https://localhost:8080/"
        },
        "outputId": "1153754a-a432-4062-9b2c-b98e6a461c28"
      },
      "execution_count": 38,
      "outputs": [
        {
          "output_type": "stream",
          "name": "stdout",
          "text": [
            "'Pre-DSI Assignment.gdoc'   title.basics.tsv.gz\n",
            " title.akas.tsv.gz\t    title.ratings.tsv.gz\n"
          ]
        }
      ]
    },
    {
      "cell_type": "code",
      "source": [
        "root_path = '/content/gdrive/My Drive/DSI_Pre_Assignment_2022'"
      ],
      "metadata": {
        "id": "ySnyG76WZBVH"
      },
      "execution_count": 39,
      "outputs": []
    },
    {
      "cell_type": "code",
      "source": [
        "ls"
      ],
      "metadata": {
        "id": "hAVjTEU7ZEgE",
        "colab": {
          "base_uri": "https://localhost:8080/"
        },
        "outputId": "8f389908-d229-4b79-cd5e-1e9063f22755"
      },
      "execution_count": 40,
      "outputs": [
        {
          "output_type": "stream",
          "name": "stdout",
          "text": [
            " adc.json   Filename.csv   \u001b[0m\u001b[01;34msample_data\u001b[0m/             title.akas.tsv.gz\n",
            " akas.tsv   \u001b[01;34mgdrive\u001b[0m/       'title.akas.tsv (1).gz'   title.basics.tsv.gz\n"
          ]
        }
      ]
    },
    {
      "cell_type": "code",
      "source": [
        ""
      ],
      "metadata": {
        "colab": {
          "base_uri": "https://localhost:8080/",
          "height": 35
        },
        "id": "XC5em1p0ughv",
        "outputId": "9fa59262-96cd-4730-cbac-7e8c4e6a715f"
      },
      "execution_count": 46,
      "outputs": [
        {
          "output_type": "execute_result",
          "data": {
            "application/vnd.google.colaboratory.intrinsic+json": {
              "type": "string"
            },
            "text/plain": [
              "'/content'"
            ]
          },
          "metadata": {},
          "execution_count": 46
        }
      ]
    },
    {
      "cell_type": "markdown",
      "source": [
        "1 Read the files 'title.basics.tsv.gz', 'title.akas.tsv.gz' and 'title.ratings.tsv.gz' into three separate dataframes using the read_csv method in Pandas.  \n"
      ],
      "metadata": {
        "id": "_d0xk6FdfQ6z"
      }
    },
    {
      "cell_type": "code",
      "source": [
        "basics = pd.read_csv('/content/gdrive/My Drive/DSI_Pre_Assignment_2022/title.basics.tsv.gz', compression='gzip',  sep='\\t')\n",
        "basics.head(10)"
      ],
      "metadata": {
        "id": "esoGP9Csg_L5",
        "colab": {
          "base_uri": "https://localhost:8080/",
          "height": 626
        },
        "outputId": "3b47c31c-ab18-482e-8804-df2ee9256e2a"
      },
      "execution_count": 50,
      "outputs": [
        {
          "output_type": "stream",
          "name": "stderr",
          "text": [
            "/usr/local/lib/python3.7/dist-packages/IPython/core/interactiveshell.py:2718: DtypeWarning: Columns (5) have mixed types.Specify dtype option on import or set low_memory=False.\n",
            "  interactivity=interactivity, compiler=compiler, result=result)\n"
          ]
        },
        {
          "output_type": "execute_result",
          "data": {
            "text/html": [
              "<div>\n",
              "<style scoped>\n",
              "    .dataframe tbody tr th:only-of-type {\n",
              "        vertical-align: middle;\n",
              "    }\n",
              "\n",
              "    .dataframe tbody tr th {\n",
              "        vertical-align: top;\n",
              "    }\n",
              "\n",
              "    .dataframe thead th {\n",
              "        text-align: right;\n",
              "    }\n",
              "</style>\n",
              "<table border=\"1\" class=\"dataframe\">\n",
              "  <thead>\n",
              "    <tr style=\"text-align: right;\">\n",
              "      <th></th>\n",
              "      <th>tconst</th>\n",
              "      <th>titleType</th>\n",
              "      <th>primaryTitle</th>\n",
              "      <th>originalTitle</th>\n",
              "      <th>isAdult</th>\n",
              "      <th>startYear</th>\n",
              "      <th>endYear</th>\n",
              "      <th>runtimeMinutes</th>\n",
              "      <th>genres</th>\n",
              "    </tr>\n",
              "  </thead>\n",
              "  <tbody>\n",
              "    <tr>\n",
              "      <th>0</th>\n",
              "      <td>tt0000001</td>\n",
              "      <td>short</td>\n",
              "      <td>Carmencita</td>\n",
              "      <td>Carmencita</td>\n",
              "      <td>0</td>\n",
              "      <td>1894</td>\n",
              "      <td>\\N</td>\n",
              "      <td>1</td>\n",
              "      <td>Documentary,Short</td>\n",
              "    </tr>\n",
              "    <tr>\n",
              "      <th>1</th>\n",
              "      <td>tt0000002</td>\n",
              "      <td>short</td>\n",
              "      <td>Le clown et ses chiens</td>\n",
              "      <td>Le clown et ses chiens</td>\n",
              "      <td>0</td>\n",
              "      <td>1892</td>\n",
              "      <td>\\N</td>\n",
              "      <td>5</td>\n",
              "      <td>Animation,Short</td>\n",
              "    </tr>\n",
              "    <tr>\n",
              "      <th>2</th>\n",
              "      <td>tt0000003</td>\n",
              "      <td>short</td>\n",
              "      <td>Pauvre Pierrot</td>\n",
              "      <td>Pauvre Pierrot</td>\n",
              "      <td>0</td>\n",
              "      <td>1892</td>\n",
              "      <td>\\N</td>\n",
              "      <td>4</td>\n",
              "      <td>Animation,Comedy,Romance</td>\n",
              "    </tr>\n",
              "    <tr>\n",
              "      <th>3</th>\n",
              "      <td>tt0000004</td>\n",
              "      <td>short</td>\n",
              "      <td>Un bon bock</td>\n",
              "      <td>Un bon bock</td>\n",
              "      <td>0</td>\n",
              "      <td>1892</td>\n",
              "      <td>\\N</td>\n",
              "      <td>\\N</td>\n",
              "      <td>Animation,Short</td>\n",
              "    </tr>\n",
              "    <tr>\n",
              "      <th>4</th>\n",
              "      <td>tt0000005</td>\n",
              "      <td>short</td>\n",
              "      <td>Blacksmith Scene</td>\n",
              "      <td>Blacksmith Scene</td>\n",
              "      <td>0</td>\n",
              "      <td>1893</td>\n",
              "      <td>\\N</td>\n",
              "      <td>1</td>\n",
              "      <td>Comedy,Short</td>\n",
              "    </tr>\n",
              "    <tr>\n",
              "      <th>5</th>\n",
              "      <td>tt0000006</td>\n",
              "      <td>short</td>\n",
              "      <td>Chinese Opium Den</td>\n",
              "      <td>Chinese Opium Den</td>\n",
              "      <td>0</td>\n",
              "      <td>1894</td>\n",
              "      <td>\\N</td>\n",
              "      <td>1</td>\n",
              "      <td>Short</td>\n",
              "    </tr>\n",
              "    <tr>\n",
              "      <th>6</th>\n",
              "      <td>tt0000007</td>\n",
              "      <td>short</td>\n",
              "      <td>Corbett and Courtney Before the Kinetograph</td>\n",
              "      <td>Corbett and Courtney Before the Kinetograph</td>\n",
              "      <td>0</td>\n",
              "      <td>1894</td>\n",
              "      <td>\\N</td>\n",
              "      <td>1</td>\n",
              "      <td>Short,Sport</td>\n",
              "    </tr>\n",
              "    <tr>\n",
              "      <th>7</th>\n",
              "      <td>tt0000008</td>\n",
              "      <td>short</td>\n",
              "      <td>Edison Kinetoscopic Record of a Sneeze</td>\n",
              "      <td>Edison Kinetoscopic Record of a Sneeze</td>\n",
              "      <td>0</td>\n",
              "      <td>1894</td>\n",
              "      <td>\\N</td>\n",
              "      <td>1</td>\n",
              "      <td>Documentary,Short</td>\n",
              "    </tr>\n",
              "    <tr>\n",
              "      <th>8</th>\n",
              "      <td>tt0000009</td>\n",
              "      <td>movie</td>\n",
              "      <td>Miss Jerry</td>\n",
              "      <td>Miss Jerry</td>\n",
              "      <td>0</td>\n",
              "      <td>1894</td>\n",
              "      <td>\\N</td>\n",
              "      <td>45</td>\n",
              "      <td>Romance</td>\n",
              "    </tr>\n",
              "    <tr>\n",
              "      <th>9</th>\n",
              "      <td>tt0000010</td>\n",
              "      <td>short</td>\n",
              "      <td>Employees Leaving the Lumière Factory</td>\n",
              "      <td>La sortie de l'usine Lumière à Lyon</td>\n",
              "      <td>0</td>\n",
              "      <td>1895</td>\n",
              "      <td>\\N</td>\n",
              "      <td>1</td>\n",
              "      <td>Documentary,Short</td>\n",
              "    </tr>\n",
              "  </tbody>\n",
              "</table>\n",
              "</div>"
            ],
            "text/plain": [
              "      tconst titleType  ... runtimeMinutes                    genres\n",
              "0  tt0000001     short  ...              1         Documentary,Short\n",
              "1  tt0000002     short  ...              5           Animation,Short\n",
              "2  tt0000003     short  ...              4  Animation,Comedy,Romance\n",
              "3  tt0000004     short  ...             \\N           Animation,Short\n",
              "4  tt0000005     short  ...              1              Comedy,Short\n",
              "5  tt0000006     short  ...              1                     Short\n",
              "6  tt0000007     short  ...              1               Short,Sport\n",
              "7  tt0000008     short  ...              1         Documentary,Short\n",
              "8  tt0000009     movie  ...             45                   Romance\n",
              "9  tt0000010     short  ...              1         Documentary,Short\n",
              "\n",
              "[10 rows x 9 columns]"
            ]
          },
          "metadata": {},
          "execution_count": 50
        }
      ]
    },
    {
      "cell_type": "code",
      "source": [
        "akas = pd.read_csv('/content/gdrive/My Drive/DSI_Pre_Assignment_2022/title.akas.tsv.gz', compression='gzip',  sep='\\t')\n",
        "akas.head(10)"
      ],
      "metadata": {
        "colab": {
          "base_uri": "https://localhost:8080/",
          "height": 418
        },
        "id": "e_7uVnc6v8Am",
        "outputId": "58fd9e5b-a273-4880-c566-528b672ea4e9"
      },
      "execution_count": 51,
      "outputs": [
        {
          "output_type": "stream",
          "name": "stderr",
          "text": [
            "/usr/local/lib/python3.7/dist-packages/IPython/core/interactiveshell.py:2718: DtypeWarning: Columns (7) have mixed types.Specify dtype option on import or set low_memory=False.\n",
            "  interactivity=interactivity, compiler=compiler, result=result)\n"
          ]
        },
        {
          "output_type": "execute_result",
          "data": {
            "text/html": [
              "<div>\n",
              "<style scoped>\n",
              "    .dataframe tbody tr th:only-of-type {\n",
              "        vertical-align: middle;\n",
              "    }\n",
              "\n",
              "    .dataframe tbody tr th {\n",
              "        vertical-align: top;\n",
              "    }\n",
              "\n",
              "    .dataframe thead th {\n",
              "        text-align: right;\n",
              "    }\n",
              "</style>\n",
              "<table border=\"1\" class=\"dataframe\">\n",
              "  <thead>\n",
              "    <tr style=\"text-align: right;\">\n",
              "      <th></th>\n",
              "      <th>titleId</th>\n",
              "      <th>ordering</th>\n",
              "      <th>title</th>\n",
              "      <th>region</th>\n",
              "      <th>language</th>\n",
              "      <th>types</th>\n",
              "      <th>attributes</th>\n",
              "      <th>isOriginalTitle</th>\n",
              "    </tr>\n",
              "  </thead>\n",
              "  <tbody>\n",
              "    <tr>\n",
              "      <th>0</th>\n",
              "      <td>tt0000001</td>\n",
              "      <td>1</td>\n",
              "      <td>Carmencita - spanyol tánc</td>\n",
              "      <td>HU</td>\n",
              "      <td>\\N</td>\n",
              "      <td>imdbDisplay</td>\n",
              "      <td>\\N</td>\n",
              "      <td>0</td>\n",
              "    </tr>\n",
              "    <tr>\n",
              "      <th>1</th>\n",
              "      <td>tt0000001</td>\n",
              "      <td>2</td>\n",
              "      <td>Карменсита</td>\n",
              "      <td>RU</td>\n",
              "      <td>\\N</td>\n",
              "      <td>\\N</td>\n",
              "      <td>\\N</td>\n",
              "      <td>0</td>\n",
              "    </tr>\n",
              "    <tr>\n",
              "      <th>2</th>\n",
              "      <td>tt0000001</td>\n",
              "      <td>3</td>\n",
              "      <td>Carmencita</td>\n",
              "      <td>US</td>\n",
              "      <td>\\N</td>\n",
              "      <td>\\N</td>\n",
              "      <td>\\N</td>\n",
              "      <td>0</td>\n",
              "    </tr>\n",
              "    <tr>\n",
              "      <th>3</th>\n",
              "      <td>tt0000001</td>\n",
              "      <td>4</td>\n",
              "      <td>Carmencita</td>\n",
              "      <td>\\N</td>\n",
              "      <td>\\N</td>\n",
              "      <td>original</td>\n",
              "      <td>\\N</td>\n",
              "      <td>1</td>\n",
              "    </tr>\n",
              "    <tr>\n",
              "      <th>4</th>\n",
              "      <td>tt0000002</td>\n",
              "      <td>1</td>\n",
              "      <td>Le clown et ses chiens</td>\n",
              "      <td>\\N</td>\n",
              "      <td>\\N</td>\n",
              "      <td>original</td>\n",
              "      <td>\\N</td>\n",
              "      <td>1</td>\n",
              "    </tr>\n",
              "    <tr>\n",
              "      <th>5</th>\n",
              "      <td>tt0000002</td>\n",
              "      <td>2</td>\n",
              "      <td>A bohóc és kutyái</td>\n",
              "      <td>HU</td>\n",
              "      <td>\\N</td>\n",
              "      <td>imdbDisplay</td>\n",
              "      <td>\\N</td>\n",
              "      <td>0</td>\n",
              "    </tr>\n",
              "    <tr>\n",
              "      <th>6</th>\n",
              "      <td>tt0000002</td>\n",
              "      <td>3</td>\n",
              "      <td>Le clown et ses chiens</td>\n",
              "      <td>FR</td>\n",
              "      <td>\\N</td>\n",
              "      <td>\\N</td>\n",
              "      <td>\\N</td>\n",
              "      <td>0</td>\n",
              "    </tr>\n",
              "    <tr>\n",
              "      <th>7</th>\n",
              "      <td>tt0000002</td>\n",
              "      <td>4</td>\n",
              "      <td>Clovnul si cainii sai</td>\n",
              "      <td>RO</td>\n",
              "      <td>\\N</td>\n",
              "      <td>imdbDisplay</td>\n",
              "      <td>\\N</td>\n",
              "      <td>0</td>\n",
              "    </tr>\n",
              "    <tr>\n",
              "      <th>8</th>\n",
              "      <td>tt0000002</td>\n",
              "      <td>5</td>\n",
              "      <td>The Clown and His Dogs</td>\n",
              "      <td>US</td>\n",
              "      <td>\\N</td>\n",
              "      <td>\\N</td>\n",
              "      <td>literal English title</td>\n",
              "      <td>0</td>\n",
              "    </tr>\n",
              "    <tr>\n",
              "      <th>9</th>\n",
              "      <td>tt0000002</td>\n",
              "      <td>6</td>\n",
              "      <td>Клоун и его собаки</td>\n",
              "      <td>RU</td>\n",
              "      <td>\\N</td>\n",
              "      <td>\\N</td>\n",
              "      <td>\\N</td>\n",
              "      <td>0</td>\n",
              "    </tr>\n",
              "  </tbody>\n",
              "</table>\n",
              "</div>"
            ],
            "text/plain": [
              "     titleId  ordering  ...             attributes isOriginalTitle\n",
              "0  tt0000001         1  ...                     \\N               0\n",
              "1  tt0000001         2  ...                     \\N               0\n",
              "2  tt0000001         3  ...                     \\N               0\n",
              "3  tt0000001         4  ...                     \\N               1\n",
              "4  tt0000002         1  ...                     \\N               1\n",
              "5  tt0000002         2  ...                     \\N               0\n",
              "6  tt0000002         3  ...                     \\N               0\n",
              "7  tt0000002         4  ...                     \\N               0\n",
              "8  tt0000002         5  ...  literal English title               0\n",
              "9  tt0000002         6  ...                     \\N               0\n",
              "\n",
              "[10 rows x 8 columns]"
            ]
          },
          "metadata": {},
          "execution_count": 51
        }
      ]
    },
    {
      "cell_type": "code",
      "source": [
        "ratings = pd.read_csv('/content/gdrive/My Drive/DSI_Pre_Assignment_2022/title.ratings.tsv.gz', compression='gzip',  sep='\\t')\n",
        "ratings.head(10)"
      ],
      "metadata": {
        "colab": {
          "base_uri": "https://localhost:8080/",
          "height": 363
        },
        "id": "2TWJRNs_wD-r",
        "outputId": "18d67ff2-e50b-4e64-cafb-e629f3309fa7"
      },
      "execution_count": 52,
      "outputs": [
        {
          "output_type": "execute_result",
          "data": {
            "text/html": [
              "<div>\n",
              "<style scoped>\n",
              "    .dataframe tbody tr th:only-of-type {\n",
              "        vertical-align: middle;\n",
              "    }\n",
              "\n",
              "    .dataframe tbody tr th {\n",
              "        vertical-align: top;\n",
              "    }\n",
              "\n",
              "    .dataframe thead th {\n",
              "        text-align: right;\n",
              "    }\n",
              "</style>\n",
              "<table border=\"1\" class=\"dataframe\">\n",
              "  <thead>\n",
              "    <tr style=\"text-align: right;\">\n",
              "      <th></th>\n",
              "      <th>tconst</th>\n",
              "      <th>averageRating</th>\n",
              "      <th>numVotes</th>\n",
              "    </tr>\n",
              "  </thead>\n",
              "  <tbody>\n",
              "    <tr>\n",
              "      <th>0</th>\n",
              "      <td>tt0000001</td>\n",
              "      <td>5.8</td>\n",
              "      <td>1422</td>\n",
              "    </tr>\n",
              "    <tr>\n",
              "      <th>1</th>\n",
              "      <td>tt0000002</td>\n",
              "      <td>6.4</td>\n",
              "      <td>168</td>\n",
              "    </tr>\n",
              "    <tr>\n",
              "      <th>2</th>\n",
              "      <td>tt0000003</td>\n",
              "      <td>6.6</td>\n",
              "      <td>1015</td>\n",
              "    </tr>\n",
              "    <tr>\n",
              "      <th>3</th>\n",
              "      <td>tt0000004</td>\n",
              "      <td>6.4</td>\n",
              "      <td>100</td>\n",
              "    </tr>\n",
              "    <tr>\n",
              "      <th>4</th>\n",
              "      <td>tt0000005</td>\n",
              "      <td>6.2</td>\n",
              "      <td>1713</td>\n",
              "    </tr>\n",
              "    <tr>\n",
              "      <th>5</th>\n",
              "      <td>tt0000006</td>\n",
              "      <td>5.5</td>\n",
              "      <td>88</td>\n",
              "    </tr>\n",
              "    <tr>\n",
              "      <th>6</th>\n",
              "      <td>tt0000007</td>\n",
              "      <td>5.5</td>\n",
              "      <td>573</td>\n",
              "    </tr>\n",
              "    <tr>\n",
              "      <th>7</th>\n",
              "      <td>tt0000008</td>\n",
              "      <td>5.6</td>\n",
              "      <td>1526</td>\n",
              "    </tr>\n",
              "    <tr>\n",
              "      <th>8</th>\n",
              "      <td>tt0000009</td>\n",
              "      <td>5.5</td>\n",
              "      <td>70</td>\n",
              "    </tr>\n",
              "    <tr>\n",
              "      <th>9</th>\n",
              "      <td>tt0000010</td>\n",
              "      <td>6.9</td>\n",
              "      <td>5083</td>\n",
              "    </tr>\n",
              "  </tbody>\n",
              "</table>\n",
              "</div>"
            ],
            "text/plain": [
              "      tconst  averageRating  numVotes\n",
              "0  tt0000001            5.8      1422\n",
              "1  tt0000002            6.4       168\n",
              "2  tt0000003            6.6      1015\n",
              "3  tt0000004            6.4       100\n",
              "4  tt0000005            6.2      1713\n",
              "5  tt0000006            5.5        88\n",
              "6  tt0000007            5.5       573\n",
              "7  tt0000008            5.6      1526\n",
              "8  tt0000009            5.5        70\n",
              "9  tt0000010            6.9      5083"
            ]
          },
          "metadata": {},
          "execution_count": 52
        }
      ]
    },
    {
      "cell_type": "markdown",
      "source": [
        ""
      ],
      "metadata": {
        "id": "9X_JrhrXfTBW"
      }
    },
    {
      "cell_type": "markdown",
      "source": [
        "2. Drop duplicates in all the dataframes, if there are any. \n",
        "\n"
      ],
      "metadata": {
        "id": "V8R80Wh8fTFM"
      }
    },
    {
      "cell_type": "code",
      "source": [
        ""
      ],
      "metadata": {
        "id": "ZVL0cQgOfV8Y"
      },
      "execution_count": null,
      "outputs": []
    },
    {
      "cell_type": "markdown",
      "source": [
        "3. Using the Pandas 'merge' method, combine all three dataframes using the Title ID (titleID or tconst) to perform the merge and save it into a new dataframe. \n",
        "\n",
        "   3.1 How many lines does the resulting dataframe have if you use an inner merge or outer  \n",
        "   merge? Make sure you understand the difference. \n"
      ],
      "metadata": {
        "id": "ohteMJ2EfWg_"
      }
    },
    {
      "cell_type": "code",
      "source": [
        ""
      ],
      "metadata": {
        "id": "AuLZ1FNwfaPm"
      },
      "execution_count": null,
      "outputs": []
    },
    {
      "cell_type": "markdown",
      "source": [
        " 3.2 Using the unique() method, compute how many different 'titleTypes' there are "
      ],
      "metadata": {
        "id": "AbtPA4sSfc9h"
      }
    },
    {
      "cell_type": "code",
      "source": [
        ""
      ],
      "metadata": {
        "id": "lvGnVYkyfdiy"
      },
      "execution_count": null,
      "outputs": []
    },
    {
      "cell_type": "markdown",
      "source": [
        "4. Make a new dataframe from step 3 by selecting only rows corresponding to English-language films ('en') OR US-region films ('US') AND only those that are movies (using the 'titleType' column). Put the resulting data into a new dataframe; call it df_new. \n"
      ],
      "metadata": {
        "id": "w9Tg--A8fggP"
      }
    },
    {
      "cell_type": "code",
      "source": [
        ""
      ],
      "metadata": {
        "id": "Md1ksNIIfhG6"
      },
      "execution_count": null,
      "outputs": []
    },
    {
      "cell_type": "markdown",
      "source": [
        "5. Add a new column to df_new with column title 'log10Votes' which gives the Log_10 number of the 'numVotes' column. \n"
      ],
      "metadata": {
        "id": "mmZsVblQfhy3"
      }
    },
    {
      "cell_type": "code",
      "source": [
        ""
      ],
      "metadata": {
        "id": "V8ZzB4kYfjct"
      },
      "execution_count": null,
      "outputs": []
    },
    {
      "cell_type": "markdown",
      "source": [
        "6. Lower the case of all text in the 'genres' column. "
      ],
      "metadata": {
        "id": "bUMOj73WfkG4"
      }
    },
    {
      "cell_type": "code",
      "source": [
        ""
      ],
      "metadata": {
        "id": "hn4iX1xofnPe"
      },
      "execution_count": null,
      "outputs": []
    },
    {
      "cell_type": "markdown",
      "source": [
        "6. Using Groupby (or other technique) group all data by 'genres' and display the top 10 highest genres by:\n",
        "\n",
        "    6.1 mean number of log10Votes\n"
      ],
      "metadata": {
        "id": "8JZSz0PRfntP"
      }
    },
    {
      "cell_type": "code",
      "source": [
        ""
      ],
      "metadata": {
        "id": "QpvtbDOyfrh1"
      },
      "execution_count": null,
      "outputs": []
    },
    {
      "cell_type": "markdown",
      "source": [
        "6.2 mean averageRating\n"
      ],
      "metadata": {
        "id": "FiOssuslfsOe"
      }
    },
    {
      "cell_type": "code",
      "source": [
        ""
      ],
      "metadata": {
        "id": "0dIuNzjdfuny"
      },
      "execution_count": null,
      "outputs": []
    },
    {
      "cell_type": "markdown",
      "source": [
        "7. Using ‘groupby’ group all data by averageRating and make a scatter plot of averageRating vs log10Votes. \n"
      ],
      "metadata": {
        "id": "XdXWNFtqfyyL"
      }
    },
    {
      "cell_type": "code",
      "source": [
        ""
      ],
      "metadata": {
        "id": "QVQGYGi_fzck"
      },
      "execution_count": null,
      "outputs": []
    },
    {
      "cell_type": "markdown",
      "source": [
        "8. Perform linear regression on your data (averageRating vs log10Votes) created in the previous step in three different ways:\n",
        "\n",
        "    8.1 Using sklearn\n"
      ],
      "metadata": {
        "id": "ZSDbXV-Sf0Bw"
      }
    },
    {
      "cell_type": "code",
      "source": [
        ""
      ],
      "metadata": {
        "id": "vBWYcequf2Sa"
      },
      "execution_count": null,
      "outputs": []
    },
    {
      "cell_type": "markdown",
      "source": [
        " 8.2 Using scipy "
      ],
      "metadata": {
        "id": "WyqoQyP0f29o"
      }
    },
    {
      "cell_type": "code",
      "source": [
        ""
      ],
      "metadata": {
        "id": "JDkgEnthf4uQ"
      },
      "execution_count": null,
      "outputs": []
    },
    {
      "cell_type": "markdown",
      "source": [
        "8.3 Using pytorch "
      ],
      "metadata": {
        "id": "CeKNE3mZf5iu"
      }
    },
    {
      "cell_type": "code",
      "source": [
        ""
      ],
      "metadata": {
        "id": "44Ag7gOcf7kT"
      },
      "execution_count": null,
      "outputs": []
    },
    {
      "cell_type": "markdown",
      "source": [
        "Ensure that you get the same result in each case (or explain why the results are different). You will need to install the corresponding packages. If you wanted to build a better regression model what would you do?  \n"
      ],
      "metadata": {
        "id": "LGeiVsRof-CX"
      }
    },
    {
      "cell_type": "code",
      "source": [
        ""
      ],
      "metadata": {
        "id": "W15udweLf-kp"
      },
      "execution_count": null,
      "outputs": []
    },
    {
      "cell_type": "markdown",
      "source": [
        "9. You should commit at least three different versions of your notebook to your github account to demonstrate that you know the basics of using git for version control."
      ],
      "metadata": {
        "id": "qFsm_gKbgB8A"
      }
    },
    {
      "cell_type": "code",
      "source": [
        ""
      ],
      "metadata": {
        "id": "p_nrLQEPgCgx"
      },
      "execution_count": null,
      "outputs": []
    },
    {
      "cell_type": "markdown",
      "source": [
        "10. Share your notebook with us as a Google Colab notebook. Include your github account in your Colab notebook intro and make sure your commits are public. \n"
      ],
      "metadata": {
        "id": "vd_snBowgHLm"
      }
    },
    {
      "cell_type": "code",
      "source": [
        ""
      ],
      "metadata": {
        "id": "_U5tZSbCgH3C"
      },
      "execution_count": null,
      "outputs": []
    }
  ]
}