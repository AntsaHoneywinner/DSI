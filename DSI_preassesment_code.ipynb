{
  "nbformat": 4,
  "nbformat_minor": 0,
  "metadata": {
    "colab": {
      "name": "DSI preassesment code.ipynb",
      "provenance": [],
      "include_colab_link": true
    },
    "kernelspec": {
      "name": "python3",
      "display_name": "Python 3"
    },
    "language_info": {
      "name": "python"
    }
  },
  "cells": [
    {
      "cell_type": "markdown",
      "metadata": {
        "id": "view-in-github",
        "colab_type": "text"
      },
      "source": [
        "<a href=\"https://colab.research.google.com/github/antsaaims/DSI/blob/main/DSI_preassesment_code.ipynb\" target=\"_parent\"><img src=\"https://colab.research.google.com/assets/colab-badge.svg\" alt=\"Open In Colab\"/></a>"
      ]
    },
    {
      "cell_type": "markdown",
      "metadata": {
        "id": "0eRs2PVy1Fwy"
      },
      "source": [
        "\n",
        "\n",
        "\n",
        "\n",
        "# **DSI PreAssesnment - 2022**\n",
        "\n",
        "## Antsa Tantely Fandresena Rakotondrafara\n",
        "\n",
        "\n",
        "My github account : https://github.com/antsaaims\n",
        "\n",
        "\n",
        "See this file at https://github.com/antsaaims/DSI"
      ]
    },
    {
      "cell_type": "markdown",
      "metadata": {
        "id": "O_flEgOphox_"
      },
      "source": [
        "## Part 01"
      ]
    },
    {
      "cell_type": "markdown",
      "metadata": {
        "id": "AERHgaib1Ym1"
      },
      "source": [
        "**1 Create a hexagon**"
      ]
    },
    {
      "cell_type": "code",
      "metadata": {
        "id": "e2nRLSyc1SdJ"
      },
      "source": [
        "import matplotlib.pyplot as plt\n",
        "import numpy as np\n",
        "%matplotlib inline\n",
        "import random as rnd"
      ],
      "execution_count": null,
      "outputs": []
    },
    {
      "cell_type": "code",
      "source": [
        "from math import sqrt"
      ],
      "metadata": {
        "id": "6cFDQt0KMPCy"
      },
      "execution_count": null,
      "outputs": []
    },
    {
      "cell_type": "code",
      "metadata": {
        "id": "E3EQGdg42F2S"
      },
      "source": [
        "# Creating a regular hexagon\n",
        "\n",
        "xs=[-1, -1/2, 1/2,1,1/2,-1/2,-1]#x values of the vertices of my hexagon\n",
        "ys=[0,sqrt(3)/2, sqrt(3)/2,0,- sqrt(3)/2,-sqrt(3)/2,0]#y values of the vertices of my hexagon"
      ],
      "execution_count": null,
      "outputs": []
    },
    {
      "cell_type": "code",
      "metadata": {
        "colab": {
          "base_uri": "https://localhost:8080/",
          "height": 282
        },
        "id": "fAa70rrc3hJs",
        "outputId": "80de9ca6-8754-462b-b48f-67c11e6a88c5"
      },
      "source": [
        "plt.plot(xs,ys)#ploting my hexagon"
      ],
      "execution_count": null,
      "outputs": [
        {
          "output_type": "execute_result",
          "data": {
            "text/plain": [
              "[<matplotlib.lines.Line2D at 0x7f05ad0c5610>]"
            ]
          },
          "metadata": {},
          "execution_count": 5
        },
        {
          "output_type": "display_data",
          "data": {
            "image/png": "[encoded data removed]",
            "text/plain": [
              "<Figure size 432x288 with 1 Axes>"
            ]
          },
          "metadata": {
            "needs_background": "light"
          }
        }
      ]
    },
    {
      "cell_type": "markdown",
      "metadata": {
        "id": "ijWfTF9w-JmT"
      },
      "source": [
        "2 Pick a random point, P, inside the hexagon.\n",
        "\n",
        "This is the hardest part of this code so I will do it at the end.\n",
        "\n",
        "For the question 1 to 4, we will test it with selected points and at the end, after constructing the random point, we will be able to test it. "
      ]
    },
    {
      "cell_type": "markdown",
      "metadata": {
        "id": "9Ae3TmgjEmD-"
      },
      "source": [
        "Make a triangle, T, by randomly connecting P to two adjacent vertices of the hexagon."
      ]
    },
    {
      "cell_type": "code",
      "metadata": {
        "id": "4cM1P7dLF8wD"
      },
      "source": [
        "def hexvertex(i):\n",
        "\n",
        "  '''This function return a vertex given its range in the list of vertices'''\n",
        "  return((xs[i%6],ys[i%6]))"
      ],
      "execution_count": null,
      "outputs": []
    },
    {
      "cell_type": "code",
      "metadata": {
        "colab": {
          "base_uri": "https://localhost:8080/"
        },
        "id": "9FjpOgfoGQIf",
        "outputId": "f9476ea7-9b28-48cb-e906-628910fe4f97"
      },
      "source": [
        "#test\n",
        "hexvertex(0)#true"
      ],
      "execution_count": null,
      "outputs": [
        {
          "output_type": "execute_result",
          "data": {
            "text/plain": [
              "(1, 1)"
            ]
          },
          "metadata": {},
          "execution_count": 5
        }
      ]
    },
    {
      "cell_type": "code",
      "metadata": {
        "id": "8TVVUe5q-OzC"
      },
      "source": [
        "def triangle(P):\n",
        "  numvertex=rnd.randint(0,5) # select the first vertices to join with P\n",
        "  adjacent = numvertex + rnd.choice([-1,1])# select the second vertices to join with\n",
        "  # P zich should be adjacent to the first one, before or after\n",
        "  return([P,hexvertex(numvertex),hexvertex(adjacent)]) # list of vertex "
      ],
      "execution_count": null,
      "outputs": []
    },
    {
      "cell_type": "code",
      "metadata": {
        "id": "Mst2vgb-Fhxq"
      },
      "source": [
        "def showthetriangle(T):\n",
        "  xt=[]\n",
        "  yt=[]\n",
        "  for i in [0,1,2,0]:\n",
        "    xt.append(T[i][0])#list of xvalues\n",
        "    yt.append(T[i][1])#list of yvalues\n",
        "  \n",
        "  plt.plot(xt,yt)"
      ],
      "execution_count": null,
      "outputs": []
    },
    {
      "cell_type": "markdown",
      "metadata": {
        "id": "spGHx8RBEeni"
      },
      "source": [
        "Let us test if it give us the waited result"
      ]
    },
    {
      "cell_type": "code",
      "metadata": {
        "colab": {
          "base_uri": "https://localhost:8080/",
          "height": 265
        },
        "id": "7NKJidsjIId7",
        "outputId": "aad477bc-7df1-4da2-847e-b5eac4d5263f"
      },
      "source": [
        "#test\n",
        "T=triangle((2,3))\n",
        "plt.plot(xs,ys)#ploting my hexagon\n",
        "showthetriangle(T)"
      ],
      "execution_count": null,
      "outputs": [
        {
          "output_type": "display_data",
          "data": {
            "image/png": "[encoded data removed]",
            "text/plain": [
              "<Figure size 432x288 with 1 Axes>"
            ]
          },
          "metadata": {
            "needs_background": "light"
          }
        }
      ]
    },
    {
      "cell_type": "markdown",
      "metadata": {
        "id": "HGksKOBONNs3"
      },
      "source": [
        "Compute the centroid of T"
      ]
    },
    {
      "cell_type": "code",
      "metadata": {
        "id": "QNAvIumWNLZN"
      },
      "source": [
        "def centroid(T):\n",
        "  xG=0\n",
        "  yG=0\n",
        "  for i in [0,1,2]:\n",
        "    xG+=T[i][0]\n",
        "    yG+=T[i][1]\n",
        "  return(xG/3,yG/3)"
      ],
      "execution_count": null,
      "outputs": []
    },
    {
      "cell_type": "code",
      "metadata": {
        "colab": {
          "base_uri": "https://localhost:8080/"
        },
        "id": "Pp6QBrWbMRp-",
        "outputId": "29c7383e-9ba7-4ece-8bec-4575053318b0"
      },
      "source": [
        "centroid(T)"
      ],
      "execution_count": null,
      "outputs": [
        {
          "output_type": "execute_result",
          "data": {
            "text/plain": [
              "(0.16666666666666666, 0.7113248654051872)"
            ]
          },
          "metadata": {},
          "execution_count": 12
        }
      ]
    },
    {
      "cell_type": "code",
      "metadata": {
        "colab": {
          "base_uri": "https://localhost:8080/",
          "height": 265
        },
        "id": "W_jx3DsPRI_l",
        "outputId": "1bb31e89-e70c-4dc3-b4be-7c6363877369"
      },
      "source": [
        "T=triangle((2,3))\n",
        "C=centroid(T)\n",
        "x = C[0]\n",
        "y = C[1]\n",
        "plt.grid()\n",
        "plt.plot(x, y, marker=\"o\", markersize=20, markeredgecolor=\"red\", markerfacecolor=\"green\")\n",
        "showthetriangle(T)\n",
        "\n",
        "plt.show()\n"
      ],
      "execution_count": null,
      "outputs": [
        {
          "output_type": "display_data",
          "data": {
            "image/png": "[encoded data removed]",
            "text/plain": [
              "<Figure size 432x288 with 1 Axes>"
            ]
          },
          "metadata": {
            "needs_background": "light"
          }
        }
      ]
    },
    {
      "cell_type": "code",
      "metadata": {
        "id": "emmn5qLv1V6E"
      },
      "source": [
        ""
      ],
      "execution_count": null,
      "outputs": []
    },
    {
      "cell_type": "markdown",
      "metadata": {
        "id": "KegsK6ZfPk4D"
      },
      "source": [
        "Compute the centroid of T. This becomes your new random point, P.  Save it, make a new random triangle as above, compute the new centroid etc… Repeat this process 10,000 times. \n"
      ]
    },
    {
      "cell_type": "code",
      "metadata": {
        "id": "aDPBc3bdISpt"
      },
      "source": [
        "n=10000"
      ],
      "execution_count": null,
      "outputs": []
    },
    {
      "cell_type": "code",
      "metadata": {
        "id": "3MCxQtuKLs6s"
      },
      "source": [
        "def showshape(P):\n",
        "  K=P\n",
        "  xlist=[]#here is where I will store the x vqlues of the random point\n",
        "  ylist=[]#here is where I will store the x vqlues of the random point\n",
        "  for i in range(n):\n",
        "    xlist.append(K[0])#storing the value of x\n",
        "    ylist.append(K[1])#storing the value of y\n",
        "    K=centroid(triangle(K))\n",
        "  plt.plot(xs,ys)#ploting my hexagon  \n",
        "  plt.scatter(xlist,ylist)#ploting the points\n",
        "  print(K)  "
      ],
      "execution_count": null,
      "outputs": []
    },
    {
      "cell_type": "code",
      "metadata": {
        "colab": {
          "base_uri": "https://localhost:8080/",
          "height": 282
        },
        "id": "9b1XxnDZLu7Z",
        "outputId": "e630ae02-beea-4e4e-e78b-282b783c1012"
      },
      "source": [
        "#showshape((2,3))"
      ],
      "execution_count": null,
      "outputs": [
        {
          "output_type": "stream",
          "name": "stdout",
          "text": [
            "(-0.6750440604770805, 0.11075191160042934)\n"
          ]
        },
        {
          "output_type": "display_data",
          "data": {
            "image/png": "[encoded data removed]",
            "text/plain": [
              "<Figure size 432x288 with 1 Axes>"
            ]
          },
          "metadata": {
            "needs_background": "light"
          }
        }
      ]
    },
    {
      "cell_type": "code",
      "metadata": {
        "colab": {
          "base_uri": "https://localhost:8080/",
          "height": 282
        },
        "id": "xMNMdm9ALwoo",
        "outputId": "dc4869a1-3c08-4415-d8be-873a396f4069"
      },
      "source": [
        "#showshape((6,5))"
      ],
      "execution_count": null,
      "outputs": [
        {
          "output_type": "stream",
          "name": "stdout",
          "text": [
            "(1.774178604756622, 2.859390996687697)\n"
          ]
        },
        {
          "output_type": "display_data",
          "data": {
            "image/png": "[encoded data removed]",
            "text/plain": [
              "<Figure size 432x288 with 1 Axes>"
            ]
          },
          "metadata": {
            "needs_background": "light"
          }
        }
      ]
    },
    {
      "cell_type": "markdown",
      "metadata": {
        "id": "cKbXgwK0UOkv"
      },
      "source": [
        "Let us now use our random point.\n",
        "\n",
        "So let me first explain the code :\n",
        "\n",
        "What I know how to do : \n",
        "  - Generate a random number in a given range with the uniform distribution with rnd.uniform()\n",
        "  - So I can now generate points in a rectangle as it is just a couple of random numbers\n",
        "  - Then, I can generate random points laying in a given rectangle triangle by using the diagonal symetry of the point if the point generated is in the other part of the rectangle\n",
        "  - Then, I can generate random points in any given triangles by using an affine function from a rectangle triangle\n",
        "  - Then I can divide my polygon into many triangles\n",
        "  - So first I need to randomly choose in which of the triangles I will put my random point and then I will select the number randomly from that triangle.\n",
        "\n",
        "\n",
        "\n"
      ]
    },
    {
      "cell_type": "code",
      "metadata": {
        "id": "puIDp6Eacbj1"
      },
      "source": [
        "# Creating a function that generate a random point inside the triangle [(0,0),(1,0),(0;1)]\n",
        "def sym(point):\n",
        "  '''This function gives the symetry of a point by the axe y+x=1'''\n",
        "  x=point[0]\n",
        "  y=point[1]\n",
        "  return((-y+1,1-x))\n"
      ],
      "execution_count": null,
      "outputs": []
    },
    {
      "cell_type": "code",
      "metadata": {
        "colab": {
          "base_uri": "https://localhost:8080/"
        },
        "id": "5GSG8xPggEyX",
        "outputId": "ef0b6be6-309a-4a0b-e331-c98caef7ceb9"
      },
      "source": [
        "sym((2,1))#work properly"
      ],
      "execution_count": null,
      "outputs": [
        {
          "output_type": "execute_result",
          "data": {
            "text/plain": [
              "(0, -1)"
            ]
          },
          "metadata": {},
          "execution_count": 18
        }
      ]
    },
    {
      "cell_type": "code",
      "metadata": {
        "id": "kZjt35nZSx9K"
      },
      "source": [
        "def gernerateintri():\n",
        "  '''This function generate a random point inside the triangle  [(0,0),(1,0),(0,1)]''' \n",
        "  x=rnd.uniform(0,1)\n",
        "  y=rnd.uniform(0,1)\n",
        "  if x+y>1: \n",
        "    return(sym((x,y)))\n",
        "  else:\n",
        "    return((x,y))\n"
      ],
      "execution_count": null,
      "outputs": []
    },
    {
      "cell_type": "code",
      "metadata": {
        "colab": {
          "base_uri": "https://localhost:8080/"
        },
        "id": "KNpjbNEUg2To",
        "outputId": "dc95737f-0b43-4ad7-9add-d31ed754ee84"
      },
      "source": [
        "gernerateintri()"
      ],
      "execution_count": null,
      "outputs": [
        {
          "output_type": "execute_result",
          "data": {
            "text/plain": [
              "(0.43560452491138, 0.07763125503916479)"
            ]
          },
          "metadata": {},
          "execution_count": 22
        }
      ]
    },
    {
      "cell_type": "code",
      "metadata": {
        "id": "tcgRi_XNjl9J"
      },
      "source": [
        "# here ze test if the triangle is direct or not and generate the correponding direct triengle\n",
        "\n",
        "def givedirect(T):\n",
        "  P=T\n",
        "  v1=np.array(P[1])-np.array(P[0])\n",
        "  v2=np.array(P[2])-np.array(P[0])\n",
        "  a = np.array(([ v1[0], v2[0]],[ v1[1], v2[1]]))\n",
        "  d=np.linalg.det(a)#test the positivity of teh determinant\n",
        "  if d<0:\n",
        "    k=P[1]\n",
        "    P[1]=P[2]\n",
        "    P[2]=k\n",
        "  return P"
      ],
      "execution_count": null,
      "outputs": []
    },
    {
      "cell_type": "code",
      "metadata": {
        "colab": {
          "base_uri": "https://localhost:8080/"
        },
        "id": "OBmRqa_9lkJW",
        "outputId": "b7e3a728-bf6f-4de1-ed32-78b9c2190df4"
      },
      "source": [
        "T= [(0,0),(1,0),(0,1)]\n",
        "givedirect(T)"
      ],
      "execution_count": null,
      "outputs": [
        {
          "output_type": "execute_result",
          "data": {
            "text/plain": [
              "[(0, 0), (1, 0), (0, 1)]"
            ]
          },
          "metadata": {},
          "execution_count": 24
        }
      ]
    },
    {
      "cell_type": "code",
      "metadata": {
        "colab": {
          "base_uri": "https://localhost:8080/"
        },
        "id": "T5rXvUIbl7VI",
        "outputId": "e677c040-f2d9-476e-e70d-7a4991ebfce0"
      },
      "source": [
        "T= [(0,0),(0,1),(1,0)]\n",
        "givedirect(T)"
      ],
      "execution_count": null,
      "outputs": [
        {
          "output_type": "execute_result",
          "data": {
            "text/plain": [
              "[(0, 0), (1, 0), (0, 1)]"
            ]
          },
          "metadata": {},
          "execution_count": 25
        }
      ]
    },
    {
      "cell_type": "markdown",
      "metadata": {
        "id": "De-nsX-inPAX"
      },
      "source": [
        "As all triangles can be converted to a direct one, we will define an affine map from [(0,0),(0,1),(1,0)] to any given triangle.\n",
        "\n",
        "\n",
        "let the triangle be (P1,P2,P3) wich is already diret,\n",
        "then \n",
        "\n",
        "let f the function\n",
        "\n",
        "\n",
        "f((0,0))=P1\n",
        "\n",
        "f((1,0))=P2\n",
        "\n",
        "f((0,1))=P3\n",
        "\n",
        "\n",
        "Then f(a(1,0)+ b(0,1))= a(P2-P1)+b(P3-P1)+P1 "
      ]
    },
    {
      "cell_type": "markdown",
      "metadata": {
        "id": "NtaZtVGLrHz9"
      },
      "source": [
        ""
      ]
    },
    {
      "cell_type": "code",
      "metadata": {
        "id": "al05n76yhErC"
      },
      "source": [
        "#generationg an affine function from [(0,0),(1,0),(0,1)] to any direct triangle ?BOLA MISY TSY %ETY BDB ITY FA JERENA REHEFA LUNDI\n",
        "def image(point, triangle):\n",
        "  triangle=givedirect(triangle)\n",
        "  P1=np.array(triangle[0])\n",
        "  P2=np.array(triangle[1])\n",
        "  P3=np.array(triangle[2])\n",
        "\n",
        "  #eto no misy tsy maharesy lahatra ahy \n",
        "  return(point[0]*(P2-P1)+point[1]*(P3-P1) + P1)\n"
      ],
      "execution_count": null,
      "outputs": []
    },
    {
      "cell_type": "code",
      "metadata": {
        "id": "PDlncjsxwjMe"
      },
      "source": [
        "# Dividing our hexagon into 4 triangles\n",
        "listtriangle=[[hexvertex(i) for i in [0,1,2]],[hexvertex(i) for i in [2,3,4]],[hexvertex(i) for i in [4,5,0]],[hexvertex(i) for i in [0,2,4]] ]\n",
        "\n",
        "def providetriangle(choice):\n",
        "  return(listtriangle[choice])\n",
        "\n"
      ],
      "execution_count": null,
      "outputs": []
    },
    {
      "cell_type": "code",
      "metadata": {
        "colab": {
          "base_uri": "https://localhost:8080/"
        },
        "id": "JrEt3CxU0oX8",
        "outputId": "f9d52509-8f97-4fc5-cfea-167bfad133da"
      },
      "source": [
        "hexvertex(5)"
      ],
      "execution_count": null,
      "outputs": [
        {
          "output_type": "execute_result",
          "data": {
            "text/plain": [
              "(5, 1)"
            ]
          },
          "metadata": {},
          "execution_count": 26
        }
      ]
    },
    {
      "cell_type": "code",
      "metadata": {
        "colab": {
          "base_uri": "https://localhost:8080/"
        },
        "id": "oq67S9uw0LXh",
        "outputId": "28e18f47-670f-4583-ef00-c1f2cbcdf5a4"
      },
      "source": [
        "listtriangle"
      ],
      "execution_count": null,
      "outputs": [
        {
          "output_type": "execute_result",
          "data": {
            "text/plain": [
              "[[(-1, 0), (-0.5, 0.8660254037844386), (0.5, 0.8660254037844386)],\n",
              " [(0.5, 0.8660254037844386), (1, 0), (0.5, -0.8660254037844386)],\n",
              " [(0.5, -0.8660254037844386), (-0.5, -0.8660254037844386), (-1, 0)],\n",
              " [(-1, 0), (0.5, 0.8660254037844386), (0.5, -0.8660254037844386)]]"
            ]
          },
          "metadata": {},
          "execution_count": 28
        }
      ]
    },
    {
      "cell_type": "code",
      "metadata": {
        "colab": {
          "base_uri": "https://localhost:8080/"
        },
        "id": "3vSt1tgm0TAM",
        "outputId": "cf38f1b7-ad9a-4eb9-8e84-11edf20c5c62"
      },
      "source": [
        "providetriangle(1)"
      ],
      "execution_count": null,
      "outputs": [
        {
          "output_type": "execute_result",
          "data": {
            "text/plain": [
              "[(0.5, 0.8660254037844386), (1, 0), (0.5, -0.8660254037844386)]"
            ]
          },
          "metadata": {},
          "execution_count": 29
        }
      ]
    },
    {
      "cell_type": "code",
      "metadata": {
        "id": "OHZ8mb13jk4u"
      },
      "source": [
        "# generation of a function that select a triangles then give a random point inside the choosen triangle\n",
        "\n",
        "def choosepoint():\n",
        "  '''This function generate a random point inside the given hexagon'''\n",
        " # CHOOSE THe triangle\n",
        "  c =rnd.randint(0,3) #choosing wich of the triangle will be selected\n",
        "  triangle= providetriangle(c)\n",
        "  point=gernerateintri()#Generate the random point in [(0, 0), (1, 0), (0, 1)]\n",
        "  return(image(point, triangle))\n",
        " # generate a point  in this triangle\n",
        " "
      ],
      "execution_count": null,
      "outputs": []
    },
    {
      "cell_type": "code",
      "metadata": {
        "id": "8M_8lz8N1G8L"
      },
      "source": [
        ""
      ],
      "execution_count": null,
      "outputs": []
    },
    {
      "cell_type": "code",
      "metadata": {
        "colab": {
          "base_uri": "https://localhost:8080/"
        },
        "id": "-U02oSnp1I8z",
        "outputId": "216ccc3e-26fc-43ed-8030-93352cea7c9b"
      },
      "source": [
        "P"
      ],
      "execution_count": null,
      "outputs": [
        {
          "output_type": "execute_result",
          "data": {
            "text/plain": [
              "(2.936146166511089, 1.3677849887778581)"
            ]
          },
          "metadata": {},
          "execution_count": 30
        }
      ]
    },
    {
      "cell_type": "code",
      "metadata": {
        "colab": {
          "base_uri": "https://localhost:8080/",
          "height": 265
        },
        "id": "HCI_g5Cy1Ytl",
        "outputId": "b4a59c22-632a-4223-b644-176d88807533"
      },
      "source": [
        "P= choosepoint()\n",
        "x = P[0]\n",
        "y = P[1]\n",
        "plt.grid()\n",
        "plt.plot(x, y, marker=\"o\", markersize=10, markeredgecolor=\"red\", markerfacecolor=\"green\")\n",
        "plt.plot(xs,ys)#ploting my hexagon\n",
        "plt.show()"
      ],
      "execution_count": null,
      "outputs": [
        {
          "output_type": "display_data",
          "data": {
            "image/png": "[encoded data removed]",
            "text/plain": [
              "<Figure size 432x288 with 1 Axes>"
            ]
          },
          "metadata": {
            "needs_background": "light"
          }
        }
      ]
    },
    {
      "cell_type": "code",
      "metadata": {
        "colab": {
          "base_uri": "https://localhost:8080/",
          "height": 282
        },
        "id": "jAw1N94myJwX",
        "outputId": "8b171b36-0f0b-40cf-a06f-90b8c8042547"
      },
      "source": [
        "# test with our function show\n",
        "\n",
        "showshape(P)"
      ],
      "execution_count": null,
      "outputs": [
        {
          "output_type": "stream",
          "name": "stdout",
          "text": [
            "(-0.1495019451857064, -0.4005809593288852)\n"
          ]
        },
        {
          "output_type": "display_data",
          "data": {
            "image/png": "[encoded data removed]",
            "text/plain": [
              "<Figure size 432x288 with 1 Axes>"
            ]
          },
          "metadata": {
            "needs_background": "light"
          }
        }
      ]
    },
    {
      "cell_type": "markdown",
      "metadata": {
        "id": "VY0zLKZCUnhv"
      },
      "source": [
        "We see that the shape is exactly the figure below whatever the original point."
      ]
    },
    {
      "cell_type": "markdown",
      "source": [
        "# **Question 2:** Datascience with Pandas and Movie Data"
      ],
      "metadata": {
        "id": "S6UdXHw7W0j5"
      }
    },
    {
      "cell_type": "markdown",
      "source": [
        "0. Access some historical IMDB data files from the shared drive: \n",
        "\n",
        "https://drive.google.com/drive/folders/1dl6nw0HO9XVrT8dSBJHHn3mDW9EWQpXS?usp=sharing\n"
      ],
      "metadata": {
        "id": "9Z37p5pAW7K9"
      }
    },
    {
      "cell_type": "code",
      "source": [
        "#importing the needed library\n",
        "\n",
        "import pandas as pd\n",
        "import zipfile\n",
        "from google.colab import files\n",
        "import io"
      ],
      "metadata": {
        "id": "X3aULTB7Y9LM"
      },
      "execution_count": null,
      "outputs": []
    },
    {
      "cell_type": "code",
      "source": [
        ""
      ],
      "metadata": {
        "id": "lt3I_F3lY0dJ"
      },
      "execution_count": null,
      "outputs": []
    },
    {
      "cell_type": "code",
      "source": [
        "from google.colab import drive\n",
        "drive.mount('/content/gdrive')"
      ],
      "metadata": {
        "id": "EcBysnOjebGn",
        "colab": {
          "base_uri": "https://localhost:8080/",
          "height": 328
        },
        "outputId": "31e7f076-9f8c-45f1-f0a6-0442e6ca398d"
      },
      "execution_count": null,
      "outputs": [
        {
          "output_type": "error",
          "ename": "MessageError",
          "evalue": "ignored",
          "traceback": [
            "\u001b[0;31m---------------------------------------------------------------------------\u001b[0m",
            "\u001b[0;31mMessageError\u001b[0m                              Traceback (most recent call last)",
            "\u001b[0;32m<ipython-input-2-4996ee3d8d09>\u001b[0m in \u001b[0;36m<module>\u001b[0;34m()\u001b[0m\n\u001b[1;32m      1\u001b[0m \u001b[0;32mfrom\u001b[0m \u001b[0mgoogle\u001b[0m\u001b[0;34m.\u001b[0m\u001b[0mcolab\u001b[0m \u001b[0;32mimport\u001b[0m \u001b[0mdrive\u001b[0m\u001b[0;34m\u001b[0m\u001b[0;34m\u001b[0m\u001b[0m\n\u001b[0;32m----> 2\u001b[0;31m \u001b[0mdrive\u001b[0m\u001b[0;34m.\u001b[0m\u001b[0mmount\u001b[0m\u001b[0;34m(\u001b[0m\u001b[0;34m'/content/gdrive'\u001b[0m\u001b[0;34m)\u001b[0m\u001b[0;34m\u001b[0m\u001b[0;34m\u001b[0m\u001b[0m\n\u001b[0m",
            "\u001b[0;32m/usr/local/lib/python3.7/dist-packages/google/colab/drive.py\u001b[0m in \u001b[0;36mmount\u001b[0;34m(mountpoint, force_remount, timeout_ms, use_metadata_server)\u001b[0m\n\u001b[1;32m    111\u001b[0m       \u001b[0mtimeout_ms\u001b[0m\u001b[0;34m=\u001b[0m\u001b[0mtimeout_ms\u001b[0m\u001b[0;34m,\u001b[0m\u001b[0;34m\u001b[0m\u001b[0;34m\u001b[0m\u001b[0m\n\u001b[1;32m    112\u001b[0m       \u001b[0muse_metadata_server\u001b[0m\u001b[0;34m=\u001b[0m\u001b[0muse_metadata_server\u001b[0m\u001b[0;34m,\u001b[0m\u001b[0;34m\u001b[0m\u001b[0;34m\u001b[0m\u001b[0m\n\u001b[0;32m--> 113\u001b[0;31m       ephemeral=ephemeral)\n\u001b[0m\u001b[1;32m    114\u001b[0m \u001b[0;34m\u001b[0m\u001b[0m\n\u001b[1;32m    115\u001b[0m \u001b[0;34m\u001b[0m\u001b[0m\n",
            "\u001b[0;32m/usr/local/lib/python3.7/dist-packages/google/colab/drive.py\u001b[0m in \u001b[0;36m_mount\u001b[0;34m(mountpoint, force_remount, timeout_ms, use_metadata_server, ephemeral)\u001b[0m\n\u001b[1;32m    134\u001b[0m   \u001b[0;32mif\u001b[0m \u001b[0mephemeral\u001b[0m\u001b[0;34m:\u001b[0m\u001b[0;34m\u001b[0m\u001b[0;34m\u001b[0m\u001b[0m\n\u001b[1;32m    135\u001b[0m     _message.blocking_request(\n\u001b[0;32m--> 136\u001b[0;31m         'request_auth', request={'authType': 'dfs_ephemeral'}, timeout_sec=None)\n\u001b[0m\u001b[1;32m    137\u001b[0m \u001b[0;34m\u001b[0m\u001b[0m\n\u001b[1;32m    138\u001b[0m   \u001b[0mmountpoint\u001b[0m \u001b[0;34m=\u001b[0m \u001b[0m_os\u001b[0m\u001b[0;34m.\u001b[0m\u001b[0mpath\u001b[0m\u001b[0;34m.\u001b[0m\u001b[0mexpanduser\u001b[0m\u001b[0;34m(\u001b[0m\u001b[0mmountpoint\u001b[0m\u001b[0;34m)\u001b[0m\u001b[0;34m\u001b[0m\u001b[0;34m\u001b[0m\u001b[0m\n",
            "\u001b[0;32m/usr/local/lib/python3.7/dist-packages/google/colab/_message.py\u001b[0m in \u001b[0;36mblocking_request\u001b[0;34m(request_type, request, timeout_sec, parent)\u001b[0m\n\u001b[1;32m    173\u001b[0m   request_id = send_request(\n\u001b[1;32m    174\u001b[0m       request_type, request, parent=parent, expect_reply=True)\n\u001b[0;32m--> 175\u001b[0;31m   \u001b[0;32mreturn\u001b[0m \u001b[0mread_reply_from_input\u001b[0m\u001b[0;34m(\u001b[0m\u001b[0mrequest_id\u001b[0m\u001b[0;34m,\u001b[0m \u001b[0mtimeout_sec\u001b[0m\u001b[0;34m)\u001b[0m\u001b[0;34m\u001b[0m\u001b[0;34m\u001b[0m\u001b[0m\n\u001b[0m",
            "\u001b[0;32m/usr/local/lib/python3.7/dist-packages/google/colab/_message.py\u001b[0m in \u001b[0;36mread_reply_from_input\u001b[0;34m(message_id, timeout_sec)\u001b[0m\n\u001b[1;32m    104\u001b[0m         reply.get('colab_msg_id') == message_id):\n\u001b[1;32m    105\u001b[0m       \u001b[0;32mif\u001b[0m \u001b[0;34m'error'\u001b[0m \u001b[0;32min\u001b[0m \u001b[0mreply\u001b[0m\u001b[0;34m:\u001b[0m\u001b[0;34m\u001b[0m\u001b[0;34m\u001b[0m\u001b[0m\n\u001b[0;32m--> 106\u001b[0;31m         \u001b[0;32mraise\u001b[0m \u001b[0mMessageError\u001b[0m\u001b[0;34m(\u001b[0m\u001b[0mreply\u001b[0m\u001b[0;34m[\u001b[0m\u001b[0;34m'error'\u001b[0m\u001b[0;34m]\u001b[0m\u001b[0;34m)\u001b[0m\u001b[0;34m\u001b[0m\u001b[0;34m\u001b[0m\u001b[0m\n\u001b[0m\u001b[1;32m    107\u001b[0m       \u001b[0;32mreturn\u001b[0m \u001b[0mreply\u001b[0m\u001b[0;34m.\u001b[0m\u001b[0mget\u001b[0m\u001b[0;34m(\u001b[0m\u001b[0;34m'data'\u001b[0m\u001b[0;34m,\u001b[0m \u001b[0;32mNone\u001b[0m\u001b[0;34m)\u001b[0m\u001b[0;34m\u001b[0m\u001b[0;34m\u001b[0m\u001b[0m\n\u001b[1;32m    108\u001b[0m \u001b[0;34m\u001b[0m\u001b[0m\n",
            "\u001b[0;31mMessageError\u001b[0m: Error: credential propagation was unsuccessful"
          ]
        }
      ]
    },
    {
      "cell_type": "markdown",
      "source": [
        "Befor doing this, I created a shortcut to the shared folder on my drive. that is why i can acces it from there."
      ],
      "metadata": {
        "id": "bJuTemzUVjZd"
      }
    },
    {
      "cell_type": "code",
      "source": [
        "!ls '/content/gdrive/My Drive/DSI_Pre_Assignment_2022'\n"
      ],
      "metadata": {
        "id": "1N0aQwg3ejjk"
      },
      "execution_count": null,
      "outputs": []
    },
    {
      "cell_type": "code",
      "source": [
        "root_path = '/content/gdrive/My Drive/DSI_Pre_Assignment_2022'"
      ],
      "metadata": {
        "id": "ySnyG76WZBVH"
      },
      "execution_count": null,
      "outputs": []
    },
    {
      "cell_type": "code",
      "source": [
        "ls"
      ],
      "metadata": {
        "id": "hAVjTEU7ZEgE"
      },
      "execution_count": null,
      "outputs": []
    },
    {
      "cell_type": "code",
      "source": [
        ""
      ],
      "metadata": {
        "id": "XC5em1p0ughv"
      },
      "execution_count": null,
      "outputs": []
    },
    {
      "cell_type": "markdown",
      "source": [
        "1 Read the files 'title.basics.tsv.gz', 'title.akas.tsv.gz' and 'title.ratings.tsv.gz' into three separate dataframes using the read_csv method in Pandas.  \n"
      ],
      "metadata": {
        "id": "_d0xk6FdfQ6z"
      }
    },
    {
      "cell_type": "code",
      "source": [
        "basics = pd.read_csv('/content/gdrive/My Drive/DSI_Pre_Assignment_2022/title.basics.tsv.gz', compression='gzip',  sep='\\t')\n",
        "basics.head(10)"
      ],
      "metadata": {
        "id": "esoGP9Csg_L5"
      },
      "execution_count": null,
      "outputs": []
    },
    {
      "cell_type": "code",
      "source": [
        "akas = pd.read_csv('/content/gdrive/My Drive/DSI_Pre_Assignment_2022/title.akas.tsv.gz', compression='gzip',  sep='\\t')\n",
        "akas.head(10)"
      ],
      "metadata": {
        "id": "e_7uVnc6v8Am"
      },
      "execution_count": null,
      "outputs": []
    },
    {
      "cell_type": "code",
      "source": [
        "ratings = pd.read_csv('/content/gdrive/My Drive/DSI_Pre_Assignment_2022/title.ratings.tsv.gz', compression='gzip',  sep='\\t')\n",
        "ratings.head(10)"
      ],
      "metadata": {
        "id": "2TWJRNs_wD-r"
      },
      "execution_count": null,
      "outputs": []
    },
    {
      "cell_type": "markdown",
      "source": [
        ""
      ],
      "metadata": {
        "id": "9X_JrhrXfTBW"
      }
    },
    {
      "cell_type": "markdown",
      "source": [
        "2. Drop duplicates in all the dataframes, if there are any. \n",
        "\n"
      ],
      "metadata": {
        "id": "V8R80Wh8fTFM"
      }
    },
    {
      "cell_type": "code",
      "source": [
        "for data in [basics,akas,ratings] :\n",
        "  print(len(data))"
      ],
      "metadata": {
        "id": "ib5TJNtk0P4O"
      },
      "execution_count": null,
      "outputs": []
    },
    {
      "cell_type": "code",
      "source": [
        "# dropping ALL duplicate values\n",
        "basics.drop_duplicates(keep='first',inplace=True)\n",
        "akas.drop_duplicates(keep='first',inplace=True)\n",
        "ratings.drop_duplicates(keep='first',inplace=True)\n"
      ],
      "metadata": {
        "id": "ZVL0cQgOfV8Y"
      },
      "execution_count": null,
      "outputs": []
    },
    {
      "cell_type": "code",
      "source": [
        ""
      ],
      "metadata": {
        "id": "h3eQvMN_1AyS"
      },
      "execution_count": null,
      "outputs": []
    },
    {
      "cell_type": "code",
      "source": [
        "for data in [basics,akas,ratings] :\n",
        "  print(len(data))"
      ],
      "metadata": {
        "id": "ykeXUtlX0w-e"
      },
      "execution_count": null,
      "outputs": []
    },
    {
      "cell_type": "markdown",
      "source": [
        "3. Using the Pandas 'merge' method, combine all three dataframes using the Title ID (titleID or tconst) to perform the merge and save it into a new dataframe. \n",
        "\n",
        "   3.1 How many lines does the resulting dataframe have if you use an inner merge or outer  \n",
        "   merge? Make sure you understand the difference. \n"
      ],
      "metadata": {
        "id": "ohteMJ2EfWg_"
      }
    },
    {
      "cell_type": "code",
      "source": [
        "akas2 = akas.rename(columns = {'titleId': 'tconst'}, inplace = False)\n",
        "akas2.head(10)\n",
        "# I changed the column name of akas"
      ],
      "metadata": {
        "id": "W3vHoSqq4_oV"
      },
      "execution_count": null,
      "outputs": []
    },
    {
      "cell_type": "code",
      "source": [
        "## Inner merge\n",
        "first = pd.merge(basics,\n",
        "    akas2,\n",
        "    how=\"inner\",\n",
        "    on='tconst',\n",
        "    sort=False,\n",
        "    copy=False,\n",
        ")\n",
        "\n"
      ],
      "metadata": {
        "id": "AuLZ1FNwfaPm"
      },
      "execution_count": null,
      "outputs": []
    },
    {
      "cell_type": "code",
      "source": [
        "len(first)"
      ],
      "metadata": {
        "id": "Z32J427NB_H4"
      },
      "execution_count": null,
      "outputs": []
    },
    {
      "cell_type": "code",
      "source": [
        "merged_inner = pd.merge(first,\n",
        "    ratings,\n",
        "    how=\"inner\",\n",
        "    on='tconst',\n",
        "    sort=False,\n",
        "    copy=False,\n",
        ")"
      ],
      "metadata": {
        "id": "a1ZgveXuCJFZ"
      },
      "execution_count": null,
      "outputs": []
    },
    {
      "cell_type": "code",
      "source": [
        "len(merged_inner)"
      ],
      "metadata": {
        "id": "K-aWGnpNCLez"
      },
      "execution_count": null,
      "outputs": []
    },
    {
      "cell_type": "markdown",
      "source": [
        "Inner merged means taking the intersection."
      ],
      "metadata": {
        "id": "egqi_cADWRHa"
      }
    },
    {
      "cell_type": "code",
      "source": [
        "## outer merge\n",
        "\n",
        "second = pd.merge(basics,\n",
        "    akas2,\n",
        "    how=\"outer\",\n",
        "    on='tconst',\n",
        "    sort=False,\n",
        "    copy=False,\n",
        ")\n",
        "\n",
        "merged_outer = pd.merge(second,\n",
        "    ratings,\n",
        "    how=\"outer\",\n",
        "    on='tconst',\n",
        "    sort=False,\n",
        "    copy=False,\n",
        ")"
      ],
      "metadata": {
        "id": "d5MqnrUS1XDX"
      },
      "execution_count": null,
      "outputs": []
    },
    {
      "cell_type": "code",
      "source": [
        "len(merged_outer)"
      ],
      "metadata": {
        "id": "EX1kRiZ7Wop9"
      },
      "execution_count": null,
      "outputs": []
    },
    {
      "cell_type": "markdown",
      "source": [
        "Outer means taking the union.\n",
        "\n",
        "I do not know how to merge the three once so that is why I merged two dataframes twice."
      ],
      "metadata": {
        "id": "eJvl8kxDWvAn"
      }
    },
    {
      "cell_type": "markdown",
      "source": [
        " 3.2 Using the unique() method, compute how many different 'titleTypes' there are "
      ],
      "metadata": {
        "id": "AbtPA4sSfc9h"
      }
    },
    {
      "cell_type": "code",
      "source": [
        "titletypes = merged_outer['titleType']"
      ],
      "metadata": {
        "id": "S4C3sjAdWn1U"
      },
      "execution_count": null,
      "outputs": []
    },
    {
      "cell_type": "code",
      "source": [
        "pd.Series(pd.Categorical(titletypes)).unique()\n"
      ],
      "metadata": {
        "id": "lvGnVYkyfdiy"
      },
      "execution_count": null,
      "outputs": []
    },
    {
      "cell_type": "code",
      "source": [
        ""
      ],
      "metadata": {
        "id": "8T4WTjWubWhh"
      },
      "execution_count": null,
      "outputs": []
    },
    {
      "cell_type": "markdown",
      "source": [
        "So there are 10 types of title."
      ],
      "metadata": {
        "id": "lGi4sIK9bcY-"
      }
    },
    {
      "cell_type": "markdown",
      "source": [
        "4. Make a new dataframe from step 3 by selecting only rows corresponding to English-language films ('en') OR US-region films ('US') AND only those that are movies (using the 'titleType' column). Put the resulting data into a new dataframe; call it df_new. \n"
      ],
      "metadata": {
        "id": "w9Tg--A8fggP"
      }
    },
    {
      "cell_type": "markdown",
      "source": [
        "For the remaining part, I need to use the merged_inner data frame because we will need the ranking."
      ],
      "metadata": {
        "id": "FO4phIHCdB1g"
      }
    },
    {
      "cell_type": "code",
      "source": [
        "region = merged_outer['region']\n",
        "\n",
        "pd.Series(pd.Categorical(region)).unique()\n"
      ],
      "metadata": {
        "id": "fyVludMSd_iF"
      },
      "execution_count": null,
      "outputs": []
    },
    {
      "cell_type": "code",
      "source": [
        "englishfilm=merged_inner.loc[(merged_inner['language'] == 'en') ]"
      ],
      "metadata": {
        "id": "LfGrRngge726"
      },
      "execution_count": null,
      "outputs": []
    },
    {
      "cell_type": "code",
      "source": [
        "movie=merged_inner.loc[(merged_inner['titleType'] == 'movie') ]"
      ],
      "metadata": {
        "id": "NR22PoADfptY"
      },
      "execution_count": null,
      "outputs": []
    },
    {
      "cell_type": "code",
      "source": [
        "US=merged_inner.loc[(merged_inner['region'] == 'US') ]"
      ],
      "metadata": {
        "id": "7fInkC6nfvFO"
      },
      "execution_count": null,
      "outputs": []
    },
    {
      "cell_type": "code",
      "source": [
        "englishorus =  pd.merge(englishfilm,\n",
        "    US,\n",
        "    how=\"outer\", #outer because the condion is or\n",
        "    on='tconst',\n",
        "    sort=False,\n",
        "    copy=False,\n",
        ")"
      ],
      "metadata": {
        "id": "viMSZwMgf_gu"
      },
      "execution_count": null,
      "outputs": []
    },
    {
      "cell_type": "code",
      "source": [
        "df_new = pd.merge(englishorus,\n",
        "    movie,\n",
        "    how=\"inner\", #inner because the condion is AND\n",
        "    on='tconst',\n",
        "    sort=False,\n",
        "    copy=False,\n",
        ")"
      ],
      "metadata": {
        "id": "hiTzh7KMgD0P"
      },
      "execution_count": null,
      "outputs": []
    },
    {
      "cell_type": "code",
      "source": [
        "len(df_new)"
      ],
      "metadata": {
        "id": "XvDd4pg4gH2n"
      },
      "execution_count": null,
      "outputs": []
    },
    {
      "cell_type": "markdown",
      "source": [
        "5. Add a new column to df_new with column title 'log10Votes' which gives the Log_10 number of the 'numVotes' column. \n"
      ],
      "metadata": {
        "id": "mmZsVblQfhy3"
      }
    },
    {
      "cell_type": "code",
      "source": [
        "import numpy as np\n"
      ],
      "metadata": {
        "id": "wMKV5AMrq2XT"
      },
      "execution_count": null,
      "outputs": []
    },
    {
      "cell_type": "code",
      "source": [
        "df_new['log10Votes'] = np.log10( df_new['numVotes'])"
      ],
      "metadata": {
        "id": "ZfaRSeDZpFT9"
      },
      "execution_count": null,
      "outputs": []
    },
    {
      "cell_type": "code",
      "source": [
        "df_new.columns"
      ],
      "metadata": {
        "id": "JKYZrUTfq2am"
      },
      "execution_count": null,
      "outputs": []
    },
    {
      "cell_type": "code",
      "source": [
        ""
      ],
      "metadata": {
        "id": "V8ZzB4kYfjct"
      },
      "execution_count": null,
      "outputs": []
    },
    {
      "cell_type": "markdown",
      "source": [
        "6. Lower the case of all text in the 'genres' column. "
      ],
      "metadata": {
        "id": "bUMOj73WfkG4"
      }
    },
    {
      "cell_type": "code",
      "source": [
        "df_new[\"genres\"] = df_new[\"genres\"].str.lower()\n"
      ],
      "metadata": {
        "id": "hn4iX1xofnPe"
      },
      "execution_count": null,
      "outputs": []
    },
    {
      "cell_type": "code",
      "source": [
        "df_new[\"genres\"] "
      ],
      "metadata": {
        "id": "Ff9asHuDsa3r"
      },
      "execution_count": null,
      "outputs": []
    },
    {
      "cell_type": "markdown",
      "source": [
        "6. Using Groupby (or other technique) group all data by 'genres' and display the top 10 highest genres by:\n",
        "\n",
        "    6.1 mean number of log10Votes\n"
      ],
      "metadata": {
        "id": "8JZSz0PRfntP"
      }
    },
    {
      "cell_type": "code",
      "source": [
        "df_new.groupby('genres').log10Votes.mean().sort_values(ascending=False).head(10)"
      ],
      "metadata": {
        "id": "QpvtbDOyfrh1"
      },
      "execution_count": null,
      "outputs": []
    },
    {
      "cell_type": "markdown",
      "source": [
        "6.2 mean averageRating\n"
      ],
      "metadata": {
        "id": "FiOssuslfsOe"
      }
    },
    {
      "cell_type": "code",
      "source": [
        "df_new.groupby('genres').averageRating.mean().sort_values(ascending=False).head(10)"
      ],
      "metadata": {
        "id": "0dIuNzjdfuny"
      },
      "execution_count": null,
      "outputs": []
    },
    {
      "cell_type": "markdown",
      "source": [
        "7. Using ‘groupby’ group all data by averageRating and make a scatter plot of averageRating vs log10Votes. \n"
      ],
      "metadata": {
        "id": "XdXWNFtqfyyL"
      }
    },
    {
      "cell_type": "code",
      "source": [
        "My_data = pd.DataFrame(df_new.groupby('averageRating', as_index=False).log10Votes.mean())\n",
        "\n"
      ],
      "metadata": {
        "id": "QVQGYGi_fzck"
      },
      "execution_count": null,
      "outputs": []
    },
    {
      "cell_type": "code",
      "source": [
        "My_data"
      ],
      "metadata": {
        "id": "X0Aj8qgW4WkY"
      },
      "execution_count": null,
      "outputs": []
    },
    {
      "cell_type": "code",
      "source": [
        "ax1 = My_data.plot.scatter(x='averageRating',\n",
        "                      y='log10Votes',\n",
        "                      c='DarkBlue')\n"
      ],
      "metadata": {
        "id": "q2OrVwM34UG9"
      },
      "execution_count": null,
      "outputs": []
    },
    {
      "cell_type": "code",
      "source": [
        ""
      ],
      "metadata": {
        "id": "zAUsKg5h2Vbj"
      },
      "execution_count": null,
      "outputs": []
    },
    {
      "cell_type": "code",
      "source": [
        ""
      ],
      "metadata": {
        "id": "l2wBYAwOwb7S"
      },
      "execution_count": null,
      "outputs": []
    },
    {
      "cell_type": "code",
      "source": [
        ""
      ],
      "metadata": {
        "id": "gzcm0pLTxUSJ"
      },
      "execution_count": null,
      "outputs": []
    },
    {
      "cell_type": "markdown",
      "source": [
        "8. Perform linear regression on your data (averageRating vs log10Votes) created in the previous step in three different ways:\n",
        "\n",
        "    8.1 Using sklearn\n"
      ],
      "metadata": {
        "id": "ZSDbXV-Sf0Bw"
      }
    },
    {
      "cell_type": "code",
      "source": [
        "# I start by loading the sklearn library\n",
        "from sklearn import datasets, linear_model\n",
        "from sklearn.metrics import mean_squared_error, r2_score\n"
      ],
      "metadata": {
        "id": "vBWYcequf2Sa"
      },
      "execution_count": null,
      "outputs": []
    },
    {
      "cell_type": "code",
      "source": [
        "len(My_data)"
      ],
      "metadata": {
        "id": "nYVPZLPK73zl"
      },
      "execution_count": null,
      "outputs": []
    },
    {
      "cell_type": "code",
      "source": [
        ""
      ],
      "metadata": {
        "id": "bjuBPfl479EU"
      },
      "execution_count": null,
      "outputs": []
    },
    {
      "cell_type": "markdown",
      "source": [
        "So as we have 91 rows, we will be using 61 for training and 30 for testing."
      ],
      "metadata": {
        "id": "tkA7CtWM795Z"
      }
    },
    {
      "cell_type": "markdown",
      "source": [
        "In order to have a good model, we need to shuffle the data prior to the building the model. Because, here our averageratings are sorted."
      ],
      "metadata": {
        "id": "0-n2OM_5puf-"
      }
    },
    {
      "cell_type": "code",
      "source": [
        "from sklearn.utils import shuffle\n"
      ],
      "metadata": {
        "id": "IeDgl4yopfEq"
      },
      "execution_count": null,
      "outputs": []
    },
    {
      "cell_type": "code",
      "source": [
        "Shuffleddata = shuffle(My_data)\n"
      ],
      "metadata": {
        "id": "GirGjCQH8hMh"
      },
      "execution_count": null,
      "outputs": []
    },
    {
      "cell_type": "code",
      "source": [
        "ax1 = Shuffleddata.plot.scatter(x='averageRating',\n",
        "                      y='log10Votes',\n",
        "                      c='DarkBlue')\n"
      ],
      "metadata": {
        "id": "KBA59lqSrVnc"
      },
      "execution_count": null,
      "outputs": []
    },
    {
      "cell_type": "code",
      "source": [
        "# reshaping the data because we only have a single feature as X\n",
        "My_data_X = np.array(Shuffleddata['averageRating'],  dtype=np.float32).reshape(-1, 1)\n",
        "My_data_y= np.array(Shuffleddata['log10Votes'],  dtype=np.float32)\n"
      ],
      "metadata": {
        "id": "wAW9pk3b-dVx"
      },
      "execution_count": null,
      "outputs": []
    },
    {
      "cell_type": "code",
      "source": [
        "My_data_X"
      ],
      "metadata": {
        "id": "-h84w9hJ-3nl"
      },
      "execution_count": null,
      "outputs": []
    },
    {
      "cell_type": "code",
      "source": [
        "# Split the average_rating into training/testing sets\n",
        "My_data_X_train = My_data_X[0:61]\n",
        "My_data_X_test = My_data_X[61:]"
      ],
      "metadata": {
        "id": "RLBOlUe_8I_f"
      },
      "execution_count": null,
      "outputs": []
    },
    {
      "cell_type": "code",
      "source": [
        "# Split the log10Votes into training/testing sets\n",
        "My_data_y_train = My_data_y[0:61]\n",
        "My_data_y_test = My_data_y[61:]"
      ],
      "metadata": {
        "id": "7x7RswaR8m8a"
      },
      "execution_count": null,
      "outputs": []
    },
    {
      "cell_type": "code",
      "source": [
        "type(My_data_X)"
      ],
      "metadata": {
        "id": "PmORQUXQy7uo"
      },
      "execution_count": null,
      "outputs": []
    },
    {
      "cell_type": "code",
      "source": [
        "# Create linear regression object\n",
        "regr = linear_model.LinearRegression()"
      ],
      "metadata": {
        "id": "JYG-zuu78zXb"
      },
      "execution_count": null,
      "outputs": []
    },
    {
      "cell_type": "code",
      "source": [
        "# Train the model using the training sets\n",
        "regr.fit(My_data_X_train, My_data_y_train)\n"
      ],
      "metadata": {
        "id": "Uo5qbww283SC"
      },
      "execution_count": null,
      "outputs": []
    },
    {
      "cell_type": "code",
      "source": [
        "# Make predictions using the testing set\n",
        "My_data_y_pred = regr.predict(My_data_X_test)\n"
      ],
      "metadata": {
        "id": "Zg_RQRp6_N16"
      },
      "execution_count": null,
      "outputs": []
    },
    {
      "cell_type": "code",
      "source": [
        "\n",
        "# The coefficient\n",
        "print(\"Coefficient: \\n\", regr.coef_)\n",
        "# The mean squared error\n",
        "print(\"Mean squared error: %.2f\" % mean_squared_error(My_data_y_test, My_data_y_pred))\n",
        "# The coefficient of determination: 1 is perfect prediction\n",
        "print(\"Coefficient of determination: %.2f\" % r2_score(My_data_y_test, My_data_y_pred))"
      ],
      "metadata": {
        "id": "GYODjZ6J_qPN"
      },
      "execution_count": null,
      "outputs": []
    },
    {
      "cell_type": "code",
      "source": [
        "import matplotlib.pyplot as plt\n",
        "# Plot outputs\n",
        "plt.scatter(My_data_X_test, My_data_y_test, color=\"black\", label='original test data')\n",
        "plt.plot(My_data_X_test, My_data_y_pred, color=\"blue\", linewidth=3,  label='fitted line')\n",
        "plt.scatter(My_data_X_train, My_data_y_train, color=\"red\", linewidth=3, label='training data')\n",
        "plt.legend()\n",
        "\n",
        "plt.xticks(())\n",
        "plt.yticks(())\n",
        "\n",
        "plt.show()"
      ],
      "metadata": {
        "id": "UsRkaThi6dvT"
      },
      "execution_count": null,
      "outputs": []
    },
    {
      "cell_type": "markdown",
      "source": [
        " 8.2 Using scipy "
      ],
      "metadata": {
        "id": "WyqoQyP0f29o"
      }
    },
    {
      "cell_type": "code",
      "source": [
        "import scipy"
      ],
      "metadata": {
        "id": "o3az5qSWtAZc"
      },
      "execution_count": null,
      "outputs": []
    },
    {
      "cell_type": "code",
      "source": [
        "slope, intercept, r, p, se = scipy.stats.linregress(Shuffleddata, y=None)"
      ],
      "metadata": {
        "id": "HcXOk77Lr_E5"
      },
      "execution_count": null,
      "outputs": []
    },
    {
      "cell_type": "code",
      "source": [
        "plt.plot(My_data_X, My_data_y, 'o', label='original data')\n",
        "plt.plot(My_data_X, intercept + slope*My_data_X, 'r', label='fitted line')\n",
        "plt.legend()\n",
        "plt.show()"
      ],
      "metadata": {
        "id": "JDkgEnthf4uQ"
      },
      "execution_count": null,
      "outputs": []
    },
    {
      "cell_type": "code",
      "source": [
        "slope, intercept"
      ],
      "metadata": {
        "id": "u2kdzkXyuJ5h"
      },
      "execution_count": null,
      "outputs": []
    },
    {
      "cell_type": "markdown",
      "source": [
        "8.3 Using pytorch "
      ],
      "metadata": {
        "id": "CeKNE3mZf5iu"
      }
    },
    {
      "cell_type": "code",
      "source": [
        "import torch\n",
        "from torch.autograd import Variable\n",
        "class linearRegression(torch.nn.Module):\n",
        "    def __init__(self, inputSize, outputSize):\n",
        "        super(linearRegression, self).__init__()\n",
        "        self.linear = torch.nn.Linear(inputSize, outputSize)\n",
        "\n",
        "    def forward(self, x):\n",
        "        out = self.linear(x)\n",
        "        return out"
      ],
      "metadata": {
        "id": "44Ag7gOcf7kT"
      },
      "execution_count": null,
      "outputs": []
    },
    {
      "cell_type": "code",
      "source": [
        "inputDim = 1        # takes variable 'x' \n",
        "outputDim = 1       # takes variable 'y'\n",
        "learningRate = 0.01 \n",
        "epochs = 100 \n",
        "\n",
        "model = linearRegression(inputDim, outputDim)\n",
        "##### For GPU #######\n",
        "if torch.cuda.is_available():\n",
        "    model.cuda()"
      ],
      "metadata": {
        "id": "nFMUWkVpvdVF"
      },
      "execution_count": null,
      "outputs": []
    },
    {
      "cell_type": "code",
      "source": [
        "criterion = torch.nn.MSELoss() \n",
        "optimizer = torch.optim.SGD(model.parameters(), lr=learningRate)"
      ],
      "metadata": {
        "id": "ud4VZIY_vyBJ"
      },
      "execution_count": null,
      "outputs": []
    },
    {
      "cell_type": "code",
      "source": [
        "for epoch in range(epochs):\n",
        "    # Converting inputs and labels to Variable\n",
        "    if torch.cuda.is_available():\n",
        "        inputs = Variable(torch.from_numpy(My_data_X_train).cuda())\n",
        "        labels = Variable(torch.from_numpy(My_data_y_train).cuda())\n",
        "    else:\n",
        "        inputs = Variable(torch.from_numpy(My_data_X_train))\n",
        "        labels = Variable(torch.from_numpy(My_data_y_train))\n",
        "\n",
        "    # Clear gradient buffers because we don't want any gradient from previous epoch to carry forward, dont want to cummulate gradients\n",
        "    optimizer.zero_grad()\n",
        "\n",
        "    # get output from the model, given the inputs\n",
        "    outputs = model(inputs)\n",
        "\n",
        "    # get loss for the predicted output\n",
        "    loss = criterion(outputs, labels)\n",
        "    #print(loss)\n",
        "    # get gradients w.r.t to parameters\n",
        "    loss.backward()\n",
        "\n",
        "    # update parameters\n",
        "    optimizer.step()\n",
        "\n",
        "    #print('epoch {}, loss {}'.format(epoch, loss.item()))"
      ],
      "metadata": {
        "id": "CQh8eDROwDj4"
      },
      "execution_count": null,
      "outputs": []
    },
    {
      "cell_type": "code",
      "source": [
        "# Testing \n",
        "\n",
        "with torch.no_grad(): # we don't need gradients in the testing phase\n",
        "    if torch.cuda.is_available():\n",
        "        predicted = model(Variable(torch.from_numpy(My_data_X_test).cuda())).cpu().data.numpy()\n",
        "    else:\n",
        "        predicted = model(Variable(torch.from_numpy(My_data_X_test))).data.numpy()\n",
        "    print(predicted)\n"
      ],
      "metadata": {
        "id": "Mr3LTVMAzaVK"
      },
      "execution_count": null,
      "outputs": []
    },
    {
      "cell_type": "code",
      "source": [
        "len(predicted)"
      ],
      "metadata": {
        "id": "NJDcqksu0ozg"
      },
      "execution_count": null,
      "outputs": []
    },
    {
      "cell_type": "code",
      "source": [
        "plt.scatter(My_data_X_test, My_data_y_test, color=\"black\", label='original test data')\n",
        "plt.plot(My_data_X_test, predicted, color=\"blue\", linewidth=3,  label='fitted line')\n",
        "plt.scatter(My_data_X_train, My_data_y_train, color=\"red\", linewidth=3, label='training data')\n",
        "plt.legend()\n",
        "\n",
        "plt.xticks(())\n",
        "plt.yticks(())\n",
        "\n",
        "plt.show()"
      ],
      "metadata": {
        "id": "wef0K9G-099V"
      },
      "execution_count": null,
      "outputs": []
    },
    {
      "cell_type": "markdown",
      "source": [
        "Ensure that you get the same result in each case (or explain why the results are different). You will need to install the corresponding packages. If you wanted to build a better regression model what would you do?  \n"
      ],
      "metadata": {
        "id": "LGeiVsRof-CX"
      }
    },
    {
      "cell_type": "code",
      "source": [
        "# Plotting all of the linear regression in one plot\n",
        "plt.scatter(My_data_X_test, My_data_y_test, color=\"black\", label='original test data')\n",
        "plt.plot(My_data_X_test, predicted, color=\"blue\", linewidth=3,  label='fitted line in pytorch')\n",
        "\n",
        "plt.plot(My_data_X, intercept + slope*My_data_X, 'y', label='fitted line in scipy')\n",
        "plt.plot(My_data_X_test, My_data_y_pred, color=\"green\", linewidth=3,  label='fitted line in sklearn')\n",
        "\n",
        "plt.scatter(My_data_X_train, My_data_y_train, color=\"red\", linewidth=3, label='training data')\n",
        "plt.legend()\n",
        "\n",
        "plt.xticks(())\n",
        "plt.yticks(())\n",
        "\n",
        "plt.show()\n",
        "\n"
      ],
      "metadata": {
        "id": "W15udweLf-kp"
      },
      "execution_count": null,
      "outputs": []
    },
    {
      "cell_type": "markdown",
      "source": [
        "The result is different because in scipy, we used all the data and we computed the slopes and the intercept traditionnally.\n",
        "\n",
        "Instead, for pytorch and sklearn, we only use the train data and also, the coefficient are ajusted as long as the computation is going.\n",
        "\n"
      ],
      "metadata": {
        "id": "Dtu_dO8d2A2z"
      }
    },
    {
      "cell_type": "markdown",
      "source": [
        ""
      ],
      "metadata": {
        "id": "9OTL4AkU3UYt"
      }
    },
    {
      "cell_type": "markdown",
      "source": [
        "A model regression will be taking the average of the predicted value from the three models, as all three have pro and cons so using all of them will reduce errors."
      ],
      "metadata": {
        "id": "P6tmxzTN3U22"
      }
    },
    {
      "cell_type": "markdown",
      "source": [
        "9. You should commit at least three different versions of your notebook to your github account to demonstrate that you know the basics of using git for version control."
      ],
      "metadata": {
        "id": "qFsm_gKbgB8A"
      }
    },
    {
      "cell_type": "code",
      "source": [
        ""
      ],
      "metadata": {
        "id": "34-2ix323pM7"
      },
      "execution_count": null,
      "outputs": []
    },
    {
      "cell_type": "code",
      "source": [
        ""
      ],
      "metadata": {
        "id": "wFGLZ4Vd12Kl"
      },
      "execution_count": null,
      "outputs": []
    },
    {
      "cell_type": "code",
      "source": [
        ""
      ],
      "metadata": {
        "id": "p_nrLQEPgCgx"
      },
      "execution_count": null,
      "outputs": []
    },
    {
      "cell_type": "markdown",
      "source": [
        "10. Share your notebook with us as a Google Colab notebook. Include your github account in your Colab notebook intro and make sure your commits are public. \n"
      ],
      "metadata": {
        "id": "vd_snBowgHLm"
      }
    },
    {
      "cell_type": "code",
      "source": [
        ""
      ],
      "metadata": {
        "id": "_U5tZSbCgH3C"
      },
      "execution_count": null,
      "outputs": []
    }
  ]
}