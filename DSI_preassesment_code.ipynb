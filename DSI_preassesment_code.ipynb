{
  "nbformat": 4,
  "nbformat_minor": 0,
  "metadata": {
    "colab": {
      "name": "DSI preassesment code.ipynb",
      "provenance": [],
      "authorship_tag": "ABX9TyOTPWBvkdjgD45mUU0HQ6ng",
      "include_colab_link": true
    },
    "kernelspec": {
      "name": "python3",
      "display_name": "Python 3"
    },
    "language_info": {
      "name": "python"
    }
  },
  "cells": [
    {
      "cell_type": "markdown",
      "metadata": {
        "id": "view-in-github",
        "colab_type": "text"
      },
      "source": [
        "<a href=\"https://colab.research.google.com/github/antsaaims/DSI/blob/main/DSI_preassesment_code.ipynb\" target=\"_parent\"><img src=\"https://colab.research.google.com/assets/colab-badge.svg\" alt=\"Open In Colab\"/></a>"
      ]
    },
    {
      "cell_type": "markdown",
      "metadata": {
        "id": "0eRs2PVy1Fwy"
      },
      "source": [
        "\n",
        "\n",
        "\n",
        "\n",
        "# **DSI PreAssesnment - 2022**\n",
        "\n",
        "## Antsa Tantely Fandresena Rakotondrafara\n",
        "\n",
        "\n",
        "My github account : https://github.com/antsaaims\n",
        "\n",
        "\n",
        "See this file at https://github.com/antsaaims/DSI"
      ]
    },
    {
      "cell_type": "markdown",
      "metadata": {
        "id": "O_flEgOphox_"
      },
      "source": [
        "## Part 01"
      ]
    },
    {
      "cell_type": "markdown",
      "metadata": {
        "id": "AERHgaib1Ym1"
      },
      "source": [
        "**1 Create a hexagon**"
      ]
    },
    {
      "cell_type": "code",
      "metadata": {
        "id": "e2nRLSyc1SdJ"
      },
      "source": [
        "import matplotlib.pyplot as plt\n",
        "import numpy as np\n",
        "%matplotlib inline\n",
        "import random as rnd"
      ],
      "execution_count": 2,
      "outputs": []
    },
    {
      "cell_type": "code",
      "source": [
        "from math import sqrt"
      ],
      "metadata": {
        "id": "6cFDQt0KMPCy"
      },
      "execution_count": 3,
      "outputs": []
    },
    {
      "cell_type": "code",
      "metadata": {
        "id": "E3EQGdg42F2S"
      },
      "source": [
        "# Creating a regular hexagon\n",
        "\n",
        "xs=[-1, -1/2, 1/2,1,1/2,-1/2,-1]#x values of the vertices of my hexagon\n",
        "ys=[0,sqrt(3)/2, sqrt(3)/2,0,- sqrt(3)/2,-sqrt(3)/2,0]#y values of the vertices of my hexagon"
      ],
      "execution_count": 4,
      "outputs": []
    },
    {
      "cell_type": "code",
      "metadata": {
        "colab": {
          "base_uri": "https://localhost:8080/",
          "height": 282
        },
        "id": "fAa70rrc3hJs",
        "outputId": "80de9ca6-8754-462b-b48f-67c11e6a88c5"
      },
      "source": [
        "plt.plot(xs,ys)#ploting my hexagon"
      ],
      "execution_count": 5,
      "outputs": [
        {
          "output_type": "execute_result",
          "data": {
            "text/plain": [
              "[<matplotlib.lines.Line2D at 0x7f05ad0c5610>]"
            ]
          },
          "metadata": {},
          "execution_count": 5
        },
        {
          "output_type": "display_data",
          "data": {
            "image/png": "[encoded data removed]",
            "text/plain": [
              "<Figure size 432x288 with 1 Axes>"
            ]
          },
          "metadata": {
            "needs_background": "light"
          }
        }
      ]
    },
    {
      "cell_type": "markdown",
      "metadata": {
        "id": "ijWfTF9w-JmT"
      },
      "source": [
        "2 Pick a random point, P, inside the hexagon.\n",
        "\n",
        "This is the hardest part of this code so I will do it at the end.\n",
        "\n",
        "For the question 1 to 4, we will test it with selected points and at the end, after constructing the random point, we will be able to test it. "
      ]
    },
    {
      "cell_type": "markdown",
      "metadata": {
        "id": "9Ae3TmgjEmD-"
      },
      "source": [
        "Make a triangle, T, by randomly connecting P to two adjacent vertices of the hexagon."
      ]
    },
    {
      "cell_type": "code",
      "metadata": {
        "id": "4cM1P7dLF8wD"
      },
      "source": [
        "def hexvertex(i):\n",
        "\n",
        "  '''This function return a vertex given its range in the list of vertices'''\n",
        "  return((xs[i%6],ys[i%6]))"
      ],
      "execution_count": 6,
      "outputs": []
    },
    {
      "cell_type": "code",
      "metadata": {
        "colab": {
          "base_uri": "https://localhost:8080/"
        },
        "id": "9FjpOgfoGQIf",
        "outputId": "f9476ea7-9b28-48cb-e906-628910fe4f97"
      },
      "source": [
        "#test\n",
        "hexvertex(0)#true"
      ],
      "execution_count": null,
      "outputs": [
        {
          "output_type": "execute_result",
          "data": {
            "text/plain": [
              "(1, 1)"
            ]
          },
          "metadata": {},
          "execution_count": 5
        }
      ]
    },
    {
      "cell_type": "code",
      "metadata": {
        "id": "8TVVUe5q-OzC"
      },
      "source": [
        "def triangle(P):\n",
        "  numvertex=rnd.randint(0,5) # select the first vertices to join with P\n",
        "  adjacent= numvertex + rnd.choice([-1,1])# select the second vertices to join with\n",
        "  # P zich should be adjacent to the first one, before or after\n",
        "  return([P,hexvertex(numvertex),hexvertex(adjacent)]) # list of vertex "
      ],
      "execution_count": 7,
      "outputs": []
    },
    {
      "cell_type": "code",
      "metadata": {
        "id": "Mst2vgb-Fhxq"
      },
      "source": [
        "def showthetriangle(T):\n",
        "  xt=[]\n",
        "  yt=[]\n",
        "  for i in [0,1,2,0]:\n",
        "    xt.append(T[i][0])#list of xvalues\n",
        "    yt.append(T[i][1])#list of yvalues\n",
        "  \n",
        "  plt.plot(xt,yt)"
      ],
      "execution_count": 8,
      "outputs": []
    },
    {
      "cell_type": "markdown",
      "metadata": {
        "id": "spGHx8RBEeni"
      },
      "source": [
        "Let us test if it give us the waited result"
      ]
    },
    {
      "cell_type": "code",
      "metadata": {
        "colab": {
          "base_uri": "https://localhost:8080/",
          "height": 265
        },
        "id": "7NKJidsjIId7",
        "outputId": "aad477bc-7df1-4da2-847e-b5eac4d5263f"
      },
      "source": [
        "#test\n",
        "T=triangle((2,3))\n",
        "plt.plot(xs,ys)#ploting my hexagon\n",
        "showthetriangle(T)"
      ],
      "execution_count": 10,
      "outputs": [
        {
          "output_type": "display_data",
          "data": {
            "image/png": "[encoded data removed]",
            "text/plain": [
              "<Figure size 432x288 with 1 Axes>"
            ]
          },
          "metadata": {
            "needs_background": "light"
          }
        }
      ]
    },
    {
      "cell_type": "markdown",
      "metadata": {
        "id": "HGksKOBONNs3"
      },
      "source": [
        "Compute the centroid of T"
      ]
    },
    {
      "cell_type": "code",
      "metadata": {
        "id": "QNAvIumWNLZN"
      },
      "source": [
        "def centroid(T):\n",
        "  xG=0\n",
        "  yG=0\n",
        "  for i in [0,1,2]:\n",
        "    xG+=T[i][0]\n",
        "    yG+=T[i][1]\n",
        "  return(xG/3,yG/3)"
      ],
      "execution_count": 11,
      "outputs": []
    },
    {
      "cell_type": "code",
      "metadata": {
        "colab": {
          "base_uri": "https://localhost:8080/"
        },
        "id": "Pp6QBrWbMRp-",
        "outputId": "29c7383e-9ba7-4ece-8bec-4575053318b0"
      },
      "source": [
        "centroid(T)"
      ],
      "execution_count": 12,
      "outputs": [
        {
          "output_type": "execute_result",
          "data": {
            "text/plain": [
              "(0.16666666666666666, 0.7113248654051872)"
            ]
          },
          "metadata": {},
          "execution_count": 12
        }
      ]
    },
    {
      "cell_type": "code",
      "metadata": {
        "colab": {
          "base_uri": "https://localhost:8080/",
          "height": 265
        },
        "id": "W_jx3DsPRI_l",
        "outputId": "1bb31e89-e70c-4dc3-b4be-7c6363877369"
      },
      "source": [
        "T=triangle((2,3))\n",
        "C=centroid(T)\n",
        "x = C[0]\n",
        "y = C[1]\n",
        "plt.grid()\n",
        "plt.plot(x, y, marker=\"o\", markersize=20, markeredgecolor=\"red\", markerfacecolor=\"green\")\n",
        "showthetriangle(T)\n",
        "\n",
        "plt.show()\n"
      ],
      "execution_count": 13,
      "outputs": [
        {
          "output_type": "display_data",
          "data": {
            "image/png": "[encoded data removed]",
            "text/plain": [
              "<Figure size 432x288 with 1 Axes>"
            ]
          },
          "metadata": {
            "needs_background": "light"
          }
        }
      ]
    },
    {
      "cell_type": "code",
      "metadata": {
        "id": "emmn5qLv1V6E"
      },
      "source": [
        ""
      ],
      "execution_count": null,
      "outputs": []
    },
    {
      "cell_type": "markdown",
      "metadata": {
        "id": "KegsK6ZfPk4D"
      },
      "source": [
        "Compute the centroid of T. This becomes your new random point, P.  Save it, make a new random triangle as above, compute the new centroid etc… Repeat this process 10,000 times. \n"
      ]
    },
    {
      "cell_type": "code",
      "metadata": {
        "id": "aDPBc3bdISpt"
      },
      "source": [
        "n=10000"
      ],
      "execution_count": 14,
      "outputs": []
    },
    {
      "cell_type": "code",
      "metadata": {
        "id": "3MCxQtuKLs6s"
      },
      "source": [
        "def showshape(P):\n",
        "  K=P\n",
        "  xlist=[]#here is where I will store the x vqlues of the random point\n",
        "  ylist=[]#here is where I will store the x vqlues of the random point\n",
        "  for i in range(n):\n",
        "    xlist.append(K[0])#storing the value of x\n",
        "    ylist.append(K[1])#storing the value of y\n",
        "    K=centroid(triangle(K))\n",
        "  plt.plot(xs,ys)#ploting my hexagon  \n",
        "  plt.scatter(xlist,ylist)#ploting the points\n",
        "  print(K)  "
      ],
      "execution_count": 19,
      "outputs": []
    },
    {
      "cell_type": "code",
      "metadata": {
        "colab": {
          "base_uri": "https://localhost:8080/",
          "height": 282
        },
        "id": "9b1XxnDZLu7Z",
        "outputId": "e630ae02-beea-4e4e-e78b-282b783c1012"
      },
      "source": [
        "#showshape((2,3))"
      ],
      "execution_count": 18,
      "outputs": [
        {
          "output_type": "stream",
          "name": "stdout",
          "text": [
            "(-0.6750440604770805, 0.11075191160042934)\n"
          ]
        },
        {
          "output_type": "display_data",
          "data": {
            "image/png": "[encoded data removed]",
            "text/plain": [
              "<Figure size 432x288 with 1 Axes>"
            ]
          },
          "metadata": {
            "needs_background": "light"
          }
        }
      ]
    },
    {
      "cell_type": "code",
      "metadata": {
        "colab": {
          "base_uri": "https://localhost:8080/",
          "height": 282
        },
        "id": "xMNMdm9ALwoo",
        "outputId": "dc4869a1-3c08-4415-d8be-873a396f4069"
      },
      "source": [
        "#showshape((6,5))"
      ],
      "execution_count": null,
      "outputs": [
        {
          "output_type": "stream",
          "name": "stdout",
          "text": [
            "(1.774178604756622, 2.859390996687697)\n"
          ]
        },
        {
          "output_type": "display_data",
          "data": {
            "image/png": "[encoded data removed]",
            "text/plain": [
              "<Figure size 432x288 with 1 Axes>"
            ]
          },
          "metadata": {
            "needs_background": "light"
          }
        }
      ]
    },
    {
      "cell_type": "markdown",
      "metadata": {
        "id": "cKbXgwK0UOkv"
      },
      "source": [
        "Let us now use our random point.\n",
        "\n",
        "So let me first explain the code :\n",
        "\n",
        "What I know how to do : \n",
        "  - Generate a random number in a given range with the uniform distribution with rnd.uniform()\n",
        "  - So I can now generate points in a rectangle as it is just a couple of random numbers\n",
        "  - Then, I can generate random points laying in a given rectangle triangle by using the diagonal symetry of the point if the point generated is in the other part of the rectangle\n",
        "  - Then, I can generate random points in any given triangles by using an affine function from a rectangle triangle\n",
        "  - Then I can divide my polygon into many triangles\n",
        "  - So first I need to randomly choose in which of the triangles I will put my random point and then I will select the number randomly from that triangle.\n",
        "\n",
        "\n",
        "\n"
      ]
    },
    {
      "cell_type": "code",
      "metadata": {
        "id": "puIDp6Eacbj1"
      },
      "source": [
        "# Creating a function that generate a random point inside the triangle [(0,0),(1,0),(0;1)]\n",
        "def sym(point):\n",
        "  '''This function gives the symetry of a point by the axe y+x=1'''\n",
        "  x=point[0]\n",
        "  y=point[1]\n",
        "  return((-y+1,1-x))\n"
      ],
      "execution_count": 20,
      "outputs": []
    },
    {
      "cell_type": "code",
      "metadata": {
        "colab": {
          "base_uri": "https://localhost:8080/"
        },
        "id": "5GSG8xPggEyX",
        "outputId": "ef0b6be6-309a-4a0b-e331-c98caef7ceb9"
      },
      "source": [
        "sym((2,1))#work properly"
      ],
      "execution_count": null,
      "outputs": [
        {
          "output_type": "execute_result",
          "data": {
            "text/plain": [
              "(0, -1)"
            ]
          },
          "metadata": {},
          "execution_count": 18
        }
      ]
    },
    {
      "cell_type": "code",
      "metadata": {
        "id": "kZjt35nZSx9K"
      },
      "source": [
        "def gernerateintri():\n",
        "  '''This function generate a random point inside the triangle  [(0,0),(1,0),(0,1)]''' \n",
        "  x=rnd.uniform(0,1)\n",
        "  y=rnd.uniform(0,1)\n",
        "  if x+y>1: \n",
        "    return(sym((x,y)))\n",
        "  else:\n",
        "    return((x,y))\n"
      ],
      "execution_count": 21,
      "outputs": []
    },
    {
      "cell_type": "code",
      "metadata": {
        "colab": {
          "base_uri": "https://localhost:8080/"
        },
        "id": "KNpjbNEUg2To",
        "outputId": "dc95737f-0b43-4ad7-9add-d31ed754ee84"
      },
      "source": [
        "gernerateintri()"
      ],
      "execution_count": 22,
      "outputs": [
        {
          "output_type": "execute_result",
          "data": {
            "text/plain": [
              "(0.43560452491138, 0.07763125503916479)"
            ]
          },
          "metadata": {},
          "execution_count": 22
        }
      ]
    },
    {
      "cell_type": "code",
      "metadata": {
        "id": "tcgRi_XNjl9J"
      },
      "source": [
        "# here ze test if the triangle is direct or not and generate the correponding direct triengle\n",
        "\n",
        "def givedirect(T):\n",
        "  P=T\n",
        "  v1=np.array(P[1])-np.array(P[0])\n",
        "  v2=np.array(P[2])-np.array(P[0])\n",
        "  a = np.array(([ v1[0], v2[0]],[ v1[1], v2[1]]))\n",
        "  d=np.linalg.det(a)#test the positivity of teh determinant\n",
        "  if d<0:\n",
        "    k=P[1]\n",
        "    P[1]=P[2]\n",
        "    P[2]=k\n",
        "  return P"
      ],
      "execution_count": 23,
      "outputs": []
    },
    {
      "cell_type": "code",
      "metadata": {
        "colab": {
          "base_uri": "https://localhost:8080/"
        },
        "id": "OBmRqa_9lkJW",
        "outputId": "b7e3a728-bf6f-4de1-ed32-78b9c2190df4"
      },
      "source": [
        "T= [(0,0),(1,0),(0,1)]\n",
        "givedirect(T)"
      ],
      "execution_count": 24,
      "outputs": [
        {
          "output_type": "execute_result",
          "data": {
            "text/plain": [
              "[(0, 0), (1, 0), (0, 1)]"
            ]
          },
          "metadata": {},
          "execution_count": 24
        }
      ]
    },
    {
      "cell_type": "code",
      "metadata": {
        "colab": {
          "base_uri": "https://localhost:8080/"
        },
        "id": "T5rXvUIbl7VI",
        "outputId": "e677c040-f2d9-476e-e70d-7a4991ebfce0"
      },
      "source": [
        "T= [(0,0),(0,1),(1,0)]\n",
        "givedirect(T)"
      ],
      "execution_count": 25,
      "outputs": [
        {
          "output_type": "execute_result",
          "data": {
            "text/plain": [
              "[(0, 0), (1, 0), (0, 1)]"
            ]
          },
          "metadata": {},
          "execution_count": 25
        }
      ]
    },
    {
      "cell_type": "markdown",
      "metadata": {
        "id": "De-nsX-inPAX"
      },
      "source": [
        "As all triangles can be converted to a direct one, we will define an affine map from [(0,0),(0,1),(1,0)] to any given triangle.\n",
        "\n",
        "\n",
        "let the triangle be (P1,P2,P3) wich is already diret,\n",
        "then \n",
        "\n",
        "let f the function\n",
        "\n",
        "\n",
        "f((0,0))=P1\n",
        "\n",
        "f((1,0))=P2\n",
        "\n",
        "f((0,1))=P3\n",
        "\n",
        "\n",
        "Then f(a(1,0)+ b(0,1))= a(P2-P1)+b(P3-P1)+P1 "
      ]
    },
    {
      "cell_type": "markdown",
      "metadata": {
        "id": "NtaZtVGLrHz9"
      },
      "source": [
        ""
      ]
    },
    {
      "cell_type": "code",
      "metadata": {
        "id": "al05n76yhErC"
      },
      "source": [
        "#generationg an affine function from [(0,0),(1,0),(0,1)] to any direct triangle ?BOLA MISY TSY %ETY BDB ITY FA JERENA REHEFA LUNDI\n",
        "def image(point, triangle):\n",
        "  triangle=givedirect(triangle)\n",
        "  P1=np.array(triangle[0])\n",
        "  P2=np.array(triangle[1])\n",
        "  P3=np.array(triangle[2])\n",
        "\n",
        "  #eto no misy tsy maharesy lahatra ahy \n",
        "  return(point[0]*(P2-P1)+point[1]*(P3-P1) + P1)\n"
      ],
      "execution_count": 26,
      "outputs": []
    },
    {
      "cell_type": "code",
      "metadata": {
        "id": "PDlncjsxwjMe"
      },
      "source": [
        "# Dividing our hexagon into 4 triangles\n",
        "listtriangle=[[hexvertex(i) for i in [0,1,2]],[hexvertex(i) for i in [2,3,4]],[hexvertex(i) for i in [4,5,0]],[hexvertex(i) for i in [0,2,4]] ]\n",
        "\n",
        "def providetriangle(choice):\n",
        "  return(listtriangle[choice])\n",
        "\n"
      ],
      "execution_count": 27,
      "outputs": []
    },
    {
      "cell_type": "code",
      "metadata": {
        "colab": {
          "base_uri": "https://localhost:8080/"
        },
        "id": "JrEt3CxU0oX8",
        "outputId": "f9d52509-8f97-4fc5-cfea-167bfad133da"
      },
      "source": [
        "hexvertex(5)"
      ],
      "execution_count": null,
      "outputs": [
        {
          "output_type": "execute_result",
          "data": {
            "text/plain": [
              "(5, 1)"
            ]
          },
          "metadata": {},
          "execution_count": 26
        }
      ]
    },
    {
      "cell_type": "code",
      "metadata": {
        "colab": {
          "base_uri": "https://localhost:8080/"
        },
        "id": "oq67S9uw0LXh",
        "outputId": "28e18f47-670f-4583-ef00-c1f2cbcdf5a4"
      },
      "source": [
        "listtriangle"
      ],
      "execution_count": 28,
      "outputs": [
        {
          "output_type": "execute_result",
          "data": {
            "text/plain": [
              "[[(-1, 0), (-0.5, 0.8660254037844386), (0.5, 0.8660254037844386)],\n",
              " [(0.5, 0.8660254037844386), (1, 0), (0.5, -0.8660254037844386)],\n",
              " [(0.5, -0.8660254037844386), (-0.5, -0.8660254037844386), (-1, 0)],\n",
              " [(-1, 0), (0.5, 0.8660254037844386), (0.5, -0.8660254037844386)]]"
            ]
          },
          "metadata": {},
          "execution_count": 28
        }
      ]
    },
    {
      "cell_type": "code",
      "metadata": {
        "colab": {
          "base_uri": "https://localhost:8080/"
        },
        "id": "3vSt1tgm0TAM",
        "outputId": "cf38f1b7-ad9a-4eb9-8e84-11edf20c5c62"
      },
      "source": [
        "providetriangle(1)"
      ],
      "execution_count": 29,
      "outputs": [
        {
          "output_type": "execute_result",
          "data": {
            "text/plain": [
              "[(0.5, 0.8660254037844386), (1, 0), (0.5, -0.8660254037844386)]"
            ]
          },
          "metadata": {},
          "execution_count": 29
        }
      ]
    },
    {
      "cell_type": "code",
      "metadata": {
        "id": "OHZ8mb13jk4u"
      },
      "source": [
        "# generation of a function that select a triangles then give a random point inside the choosen triangle\n",
        "\n",
        "def choosepoint():\n",
        "  '''This function generate a random point inside the given hexagon'''\n",
        " # CHOOSE THe triangle\n",
        "  c =rnd.randint(0,3) #choosing wich of the triangle will be selected\n",
        "  triangle= providetriangle(c)\n",
        "  point=gernerateintri()#Generate the random point in [(0, 0), (1, 0), (0, 1)]\n",
        "  return(image(point, triangle))\n",
        " # generate a point  in this triangle\n",
        " "
      ],
      "execution_count": 30,
      "outputs": []
    },
    {
      "cell_type": "code",
      "metadata": {
        "id": "8M_8lz8N1G8L"
      },
      "source": [
        ""
      ],
      "execution_count": null,
      "outputs": []
    },
    {
      "cell_type": "code",
      "metadata": {
        "colab": {
          "base_uri": "https://localhost:8080/"
        },
        "id": "-U02oSnp1I8z",
        "outputId": "216ccc3e-26fc-43ed-8030-93352cea7c9b"
      },
      "source": [
        "P"
      ],
      "execution_count": null,
      "outputs": [
        {
          "output_type": "execute_result",
          "data": {
            "text/plain": [
              "(2.936146166511089, 1.3677849887778581)"
            ]
          },
          "metadata": {},
          "execution_count": 30
        }
      ]
    },
    {
      "cell_type": "code",
      "metadata": {
        "colab": {
          "base_uri": "https://localhost:8080/",
          "height": 265
        },
        "id": "HCI_g5Cy1Ytl",
        "outputId": "b4a59c22-632a-4223-b644-176d88807533"
      },
      "source": [
        "P= choosepoint()\n",
        "x = P[0]\n",
        "y = P[1]\n",
        "plt.grid()\n",
        "plt.plot(x, y, marker=\"o\", markersize=10, markeredgecolor=\"red\", markerfacecolor=\"green\")\n",
        "plt.plot(xs,ys)#ploting my hexagon\n",
        "plt.show()"
      ],
      "execution_count": 31,
      "outputs": [
        {
          "output_type": "display_data",
          "data": {
            "image/png": "[encoded data removed]",
            "text/plain": [
              "<Figure size 432x288 with 1 Axes>"
            ]
          },
          "metadata": {
            "needs_background": "light"
          }
        }
      ]
    },
    {
      "cell_type": "code",
      "metadata": {
        "colab": {
          "base_uri": "https://localhost:8080/",
          "height": 282
        },
        "id": "jAw1N94myJwX",
        "outputId": "8b171b36-0f0b-40cf-a06f-90b8c8042547"
      },
      "source": [
        "# test with our function show\n",
        "\n",
        "showshape(P)"
      ],
      "execution_count": 32,
      "outputs": [
        {
          "output_type": "stream",
          "name": "stdout",
          "text": [
            "(-0.1495019451857064, -0.4005809593288852)\n"
          ]
        },
        {
          "output_type": "display_data",
          "data": {
            "image/png": "[encoded data removed]",
            "text/plain": [
              "<Figure size 432x288 with 1 Axes>"
            ]
          },
          "metadata": {
            "needs_background": "light"
          }
        }
      ]
    },
    {
      "cell_type": "markdown",
      "metadata": {
        "id": "VY0zLKZCUnhv"
      },
      "source": [
        "We see that the shape is exactly the figure below whatever the original point."
      ]
    },
    {
      "cell_type": "markdown",
      "source": [
        "# **Question 2:** Datascience with Pandas and Movie Data"
      ],
      "metadata": {
        "id": "S6UdXHw7W0j5"
      }
    },
    {
      "cell_type": "markdown",
      "source": [
        "0. Access some historical IMDB data files from the shared drive: \n",
        "\n",
        "https://drive.google.com/drive/folders/1dl6nw0HO9XVrT8dSBJHHn3mDW9EWQpXS?usp=sharing\n"
      ],
      "metadata": {
        "id": "9Z37p5pAW7K9"
      }
    },
    {
      "cell_type": "code",
      "source": [
        "#importing the needed library\n",
        "\n",
        "import pandas as pd\n",
        "import zipfile\n",
        "from google.colab import files\n",
        "import io"
      ],
      "metadata": {
        "id": "X3aULTB7Y9LM"
      },
      "execution_count": null,
      "outputs": []
    },
    {
      "cell_type": "code",
      "source": [
        ""
      ],
      "metadata": {
        "id": "lt3I_F3lY0dJ"
      },
      "execution_count": null,
      "outputs": []
    },
    {
      "cell_type": "code",
      "source": [
        "from google.colab import drive\n",
        "drive.mount('/content/gdrive')"
      ],
      "metadata": {
        "id": "EcBysnOjebGn",
        "colab": {
          "base_uri": "https://localhost:8080/"
        },
        "outputId": "663577c3-1266-41f9-df98-883f51d480bd"
      },
      "execution_count": null,
      "outputs": [
        {
          "output_type": "stream",
          "name": "stdout",
          "text": [
            "Mounted at /content/gdrive\n"
          ]
        }
      ]
    },
    {
      "cell_type": "markdown",
      "source": [
        "Befor doing this, I created a shortcut to the shared folder on my drive. that is why i can acces it from there."
      ],
      "metadata": {
        "id": "bJuTemzUVjZd"
      }
    },
    {
      "cell_type": "code",
      "source": [
        "!ls '/content/gdrive/My Drive/DSI_Pre_Assignment_2022'\n"
      ],
      "metadata": {
        "id": "1N0aQwg3ejjk",
        "colab": {
          "base_uri": "https://localhost:8080/"
        },
        "outputId": "7fbb9c3b-412a-478a-9df3-71b186261780"
      },
      "execution_count": null,
      "outputs": [
        {
          "output_type": "stream",
          "name": "stdout",
          "text": [
            "'Pre-DSI Assignment.gdoc'   title.basics.tsv.gz\n",
            " title.akas.tsv.gz\t    title.ratings.tsv.gz\n"
          ]
        }
      ]
    },
    {
      "cell_type": "code",
      "source": [
        "root_path = '/content/gdrive/My Drive/DSI_Pre_Assignment_2022'"
      ],
      "metadata": {
        "id": "ySnyG76WZBVH"
      },
      "execution_count": null,
      "outputs": []
    },
    {
      "cell_type": "code",
      "source": [
        "ls"
      ],
      "metadata": {
        "id": "hAVjTEU7ZEgE",
        "colab": {
          "base_uri": "https://localhost:8080/"
        },
        "outputId": "c7240aa6-981f-4d25-f47c-d911ec95f8c9"
      },
      "execution_count": null,
      "outputs": [
        {
          "output_type": "stream",
          "name": "stdout",
          "text": [
            "\u001b[0m\u001b[01;34mgdrive\u001b[0m/  \u001b[01;34msample_data\u001b[0m/\n"
          ]
        }
      ]
    },
    {
      "cell_type": "code",
      "source": [
        ""
      ],
      "metadata": {
        "id": "XC5em1p0ughv"
      },
      "execution_count": null,
      "outputs": []
    },
    {
      "cell_type": "markdown",
      "source": [
        "1 Read the files 'title.basics.tsv.gz', 'title.akas.tsv.gz' and 'title.ratings.tsv.gz' into three separate dataframes using the read_csv method in Pandas.  \n"
      ],
      "metadata": {
        "id": "_d0xk6FdfQ6z"
      }
    },
    {
      "cell_type": "code",
      "source": [
        "basics = pd.read_csv('/content/gdrive/My Drive/DSI_Pre_Assignment_2022/title.basics.tsv.gz', compression='gzip',  sep='\\t')\n",
        "basics.head(10)"
      ],
      "metadata": {
        "id": "esoGP9Csg_L5",
        "colab": {
          "base_uri": "https://localhost:8080/",
          "height": 470
        },
        "outputId": "a1c14680-42c1-4803-803c-bcc104526d2d"
      },
      "execution_count": null,
      "outputs": [
        {
          "output_type": "stream",
          "name": "stderr",
          "text": [
            "/usr/local/lib/python3.7/dist-packages/IPython/core/interactiveshell.py:2718: DtypeWarning: Columns (5) have mixed types.Specify dtype option on import or set low_memory=False.\n",
            "  interactivity=interactivity, compiler=compiler, result=result)\n"
          ]
        },
        {
          "output_type": "execute_result",
          "data": {
            "text/html": [
              "<div>\n",
              "<style scoped>\n",
              "    .dataframe tbody tr th:only-of-type {\n",
              "        vertical-align: middle;\n",
              "    }\n",
              "\n",
              "    .dataframe tbody tr th {\n",
              "        vertical-align: top;\n",
              "    }\n",
              "\n",
              "    .dataframe thead th {\n",
              "        text-align: right;\n",
              "    }\n",
              "</style>\n",
              "<table border=\"1\" class=\"dataframe\">\n",
              "  <thead>\n",
              "    <tr style=\"text-align: right;\">\n",
              "      <th></th>\n",
              "      <th>tconst</th>\n",
              "      <th>titleType</th>\n",
              "      <th>primaryTitle</th>\n",
              "      <th>originalTitle</th>\n",
              "      <th>isAdult</th>\n",
              "      <th>startYear</th>\n",
              "      <th>endYear</th>\n",
              "      <th>runtimeMinutes</th>\n",
              "      <th>genres</th>\n",
              "    </tr>\n",
              "  </thead>\n",
              "  <tbody>\n",
              "    <tr>\n",
              "      <th>0</th>\n",
              "      <td>tt0000001</td>\n",
              "      <td>short</td>\n",
              "      <td>Carmencita</td>\n",
              "      <td>Carmencita</td>\n",
              "      <td>0</td>\n",
              "      <td>1894</td>\n",
              "      <td>\\N</td>\n",
              "      <td>1</td>\n",
              "      <td>Documentary,Short</td>\n",
              "    </tr>\n",
              "    <tr>\n",
              "      <th>1</th>\n",
              "      <td>tt0000002</td>\n",
              "      <td>short</td>\n",
              "      <td>Le clown et ses chiens</td>\n",
              "      <td>Le clown et ses chiens</td>\n",
              "      <td>0</td>\n",
              "      <td>1892</td>\n",
              "      <td>\\N</td>\n",
              "      <td>5</td>\n",
              "      <td>Animation,Short</td>\n",
              "    </tr>\n",
              "    <tr>\n",
              "      <th>2</th>\n",
              "      <td>tt0000003</td>\n",
              "      <td>short</td>\n",
              "      <td>Pauvre Pierrot</td>\n",
              "      <td>Pauvre Pierrot</td>\n",
              "      <td>0</td>\n",
              "      <td>1892</td>\n",
              "      <td>\\N</td>\n",
              "      <td>4</td>\n",
              "      <td>Animation,Comedy,Romance</td>\n",
              "    </tr>\n",
              "    <tr>\n",
              "      <th>3</th>\n",
              "      <td>tt0000004</td>\n",
              "      <td>short</td>\n",
              "      <td>Un bon bock</td>\n",
              "      <td>Un bon bock</td>\n",
              "      <td>0</td>\n",
              "      <td>1892</td>\n",
              "      <td>\\N</td>\n",
              "      <td>\\N</td>\n",
              "      <td>Animation,Short</td>\n",
              "    </tr>\n",
              "    <tr>\n",
              "      <th>4</th>\n",
              "      <td>tt0000005</td>\n",
              "      <td>short</td>\n",
              "      <td>Blacksmith Scene</td>\n",
              "      <td>Blacksmith Scene</td>\n",
              "      <td>0</td>\n",
              "      <td>1893</td>\n",
              "      <td>\\N</td>\n",
              "      <td>1</td>\n",
              "      <td>Comedy,Short</td>\n",
              "    </tr>\n",
              "    <tr>\n",
              "      <th>5</th>\n",
              "      <td>tt0000006</td>\n",
              "      <td>short</td>\n",
              "      <td>Chinese Opium Den</td>\n",
              "      <td>Chinese Opium Den</td>\n",
              "      <td>0</td>\n",
              "      <td>1894</td>\n",
              "      <td>\\N</td>\n",
              "      <td>1</td>\n",
              "      <td>Short</td>\n",
              "    </tr>\n",
              "    <tr>\n",
              "      <th>6</th>\n",
              "      <td>tt0000007</td>\n",
              "      <td>short</td>\n",
              "      <td>Corbett and Courtney Before the Kinetograph</td>\n",
              "      <td>Corbett and Courtney Before the Kinetograph</td>\n",
              "      <td>0</td>\n",
              "      <td>1894</td>\n",
              "      <td>\\N</td>\n",
              "      <td>1</td>\n",
              "      <td>Short,Sport</td>\n",
              "    </tr>\n",
              "    <tr>\n",
              "      <th>7</th>\n",
              "      <td>tt0000008</td>\n",
              "      <td>short</td>\n",
              "      <td>Edison Kinetoscopic Record of a Sneeze</td>\n",
              "      <td>Edison Kinetoscopic Record of a Sneeze</td>\n",
              "      <td>0</td>\n",
              "      <td>1894</td>\n",
              "      <td>\\N</td>\n",
              "      <td>1</td>\n",
              "      <td>Documentary,Short</td>\n",
              "    </tr>\n",
              "    <tr>\n",
              "      <th>8</th>\n",
              "      <td>tt0000009</td>\n",
              "      <td>movie</td>\n",
              "      <td>Miss Jerry</td>\n",
              "      <td>Miss Jerry</td>\n",
              "      <td>0</td>\n",
              "      <td>1894</td>\n",
              "      <td>\\N</td>\n",
              "      <td>45</td>\n",
              "      <td>Romance</td>\n",
              "    </tr>\n",
              "    <tr>\n",
              "      <th>9</th>\n",
              "      <td>tt0000010</td>\n",
              "      <td>short</td>\n",
              "      <td>Employees Leaving the Lumière Factory</td>\n",
              "      <td>La sortie de l'usine Lumière à Lyon</td>\n",
              "      <td>0</td>\n",
              "      <td>1895</td>\n",
              "      <td>\\N</td>\n",
              "      <td>1</td>\n",
              "      <td>Documentary,Short</td>\n",
              "    </tr>\n",
              "  </tbody>\n",
              "</table>\n",
              "</div>"
            ],
            "text/plain": [
              "      tconst titleType  ... runtimeMinutes                    genres\n",
              "0  tt0000001     short  ...              1         Documentary,Short\n",
              "1  tt0000002     short  ...              5           Animation,Short\n",
              "2  tt0000003     short  ...              4  Animation,Comedy,Romance\n",
              "3  tt0000004     short  ...             \\N           Animation,Short\n",
              "4  tt0000005     short  ...              1              Comedy,Short\n",
              "5  tt0000006     short  ...              1                     Short\n",
              "6  tt0000007     short  ...              1               Short,Sport\n",
              "7  tt0000008     short  ...              1         Documentary,Short\n",
              "8  tt0000009     movie  ...             45                   Romance\n",
              "9  tt0000010     short  ...              1         Documentary,Short\n",
              "\n",
              "[10 rows x 9 columns]"
            ]
          },
          "metadata": {},
          "execution_count": 3
        }
      ]
    },
    {
      "cell_type": "code",
      "source": [
        "akas = pd.read_csv('/content/gdrive/My Drive/DSI_Pre_Assignment_2022/title.akas.tsv.gz', compression='gzip',  sep='\\t')\n",
        "akas.head(10)"
      ],
      "metadata": {
        "colab": {
          "base_uri": "https://localhost:8080/",
          "height": 418
        },
        "id": "e_7uVnc6v8Am",
        "outputId": "7b96053d-5ffd-4643-8c54-8f962aaf3396"
      },
      "execution_count": null,
      "outputs": [
        {
          "output_type": "stream",
          "name": "stderr",
          "text": [
            "/usr/local/lib/python3.7/dist-packages/IPython/core/interactiveshell.py:2718: DtypeWarning: Columns (7) have mixed types.Specify dtype option on import or set low_memory=False.\n",
            "  interactivity=interactivity, compiler=compiler, result=result)\n"
          ]
        },
        {
          "output_type": "execute_result",
          "data": {
            "text/html": [
              "<div>\n",
              "<style scoped>\n",
              "    .dataframe tbody tr th:only-of-type {\n",
              "        vertical-align: middle;\n",
              "    }\n",
              "\n",
              "    .dataframe tbody tr th {\n",
              "        vertical-align: top;\n",
              "    }\n",
              "\n",
              "    .dataframe thead th {\n",
              "        text-align: right;\n",
              "    }\n",
              "</style>\n",
              "<table border=\"1\" class=\"dataframe\">\n",
              "  <thead>\n",
              "    <tr style=\"text-align: right;\">\n",
              "      <th></th>\n",
              "      <th>titleId</th>\n",
              "      <th>ordering</th>\n",
              "      <th>title</th>\n",
              "      <th>region</th>\n",
              "      <th>language</th>\n",
              "      <th>types</th>\n",
              "      <th>attributes</th>\n",
              "      <th>isOriginalTitle</th>\n",
              "    </tr>\n",
              "  </thead>\n",
              "  <tbody>\n",
              "    <tr>\n",
              "      <th>0</th>\n",
              "      <td>tt0000001</td>\n",
              "      <td>1</td>\n",
              "      <td>Carmencita - spanyol tánc</td>\n",
              "      <td>HU</td>\n",
              "      <td>\\N</td>\n",
              "      <td>imdbDisplay</td>\n",
              "      <td>\\N</td>\n",
              "      <td>0</td>\n",
              "    </tr>\n",
              "    <tr>\n",
              "      <th>1</th>\n",
              "      <td>tt0000001</td>\n",
              "      <td>2</td>\n",
              "      <td>Карменсита</td>\n",
              "      <td>RU</td>\n",
              "      <td>\\N</td>\n",
              "      <td>\\N</td>\n",
              "      <td>\\N</td>\n",
              "      <td>0</td>\n",
              "    </tr>\n",
              "    <tr>\n",
              "      <th>2</th>\n",
              "      <td>tt0000001</td>\n",
              "      <td>3</td>\n",
              "      <td>Carmencita</td>\n",
              "      <td>US</td>\n",
              "      <td>\\N</td>\n",
              "      <td>\\N</td>\n",
              "      <td>\\N</td>\n",
              "      <td>0</td>\n",
              "    </tr>\n",
              "    <tr>\n",
              "      <th>3</th>\n",
              "      <td>tt0000001</td>\n",
              "      <td>4</td>\n",
              "      <td>Carmencita</td>\n",
              "      <td>\\N</td>\n",
              "      <td>\\N</td>\n",
              "      <td>original</td>\n",
              "      <td>\\N</td>\n",
              "      <td>1</td>\n",
              "    </tr>\n",
              "    <tr>\n",
              "      <th>4</th>\n",
              "      <td>tt0000002</td>\n",
              "      <td>1</td>\n",
              "      <td>Le clown et ses chiens</td>\n",
              "      <td>\\N</td>\n",
              "      <td>\\N</td>\n",
              "      <td>original</td>\n",
              "      <td>\\N</td>\n",
              "      <td>1</td>\n",
              "    </tr>\n",
              "    <tr>\n",
              "      <th>5</th>\n",
              "      <td>tt0000002</td>\n",
              "      <td>2</td>\n",
              "      <td>A bohóc és kutyái</td>\n",
              "      <td>HU</td>\n",
              "      <td>\\N</td>\n",
              "      <td>imdbDisplay</td>\n",
              "      <td>\\N</td>\n",
              "      <td>0</td>\n",
              "    </tr>\n",
              "    <tr>\n",
              "      <th>6</th>\n",
              "      <td>tt0000002</td>\n",
              "      <td>3</td>\n",
              "      <td>Le clown et ses chiens</td>\n",
              "      <td>FR</td>\n",
              "      <td>\\N</td>\n",
              "      <td>\\N</td>\n",
              "      <td>\\N</td>\n",
              "      <td>0</td>\n",
              "    </tr>\n",
              "    <tr>\n",
              "      <th>7</th>\n",
              "      <td>tt0000002</td>\n",
              "      <td>4</td>\n",
              "      <td>Clovnul si cainii sai</td>\n",
              "      <td>RO</td>\n",
              "      <td>\\N</td>\n",
              "      <td>imdbDisplay</td>\n",
              "      <td>\\N</td>\n",
              "      <td>0</td>\n",
              "    </tr>\n",
              "    <tr>\n",
              "      <th>8</th>\n",
              "      <td>tt0000002</td>\n",
              "      <td>5</td>\n",
              "      <td>The Clown and His Dogs</td>\n",
              "      <td>US</td>\n",
              "      <td>\\N</td>\n",
              "      <td>\\N</td>\n",
              "      <td>literal English title</td>\n",
              "      <td>0</td>\n",
              "    </tr>\n",
              "    <tr>\n",
              "      <th>9</th>\n",
              "      <td>tt0000002</td>\n",
              "      <td>6</td>\n",
              "      <td>Клоун и его собаки</td>\n",
              "      <td>RU</td>\n",
              "      <td>\\N</td>\n",
              "      <td>\\N</td>\n",
              "      <td>\\N</td>\n",
              "      <td>0</td>\n",
              "    </tr>\n",
              "  </tbody>\n",
              "</table>\n",
              "</div>"
            ],
            "text/plain": [
              "     titleId  ordering  ...             attributes isOriginalTitle\n",
              "0  tt0000001         1  ...                     \\N               0\n",
              "1  tt0000001         2  ...                     \\N               0\n",
              "2  tt0000001         3  ...                     \\N               0\n",
              "3  tt0000001         4  ...                     \\N               1\n",
              "4  tt0000002         1  ...                     \\N               1\n",
              "5  tt0000002         2  ...                     \\N               0\n",
              "6  tt0000002         3  ...                     \\N               0\n",
              "7  tt0000002         4  ...                     \\N               0\n",
              "8  tt0000002         5  ...  literal English title               0\n",
              "9  tt0000002         6  ...                     \\N               0\n",
              "\n",
              "[10 rows x 8 columns]"
            ]
          },
          "metadata": {},
          "execution_count": 4
        }
      ]
    },
    {
      "cell_type": "code",
      "source": [
        "ratings = pd.read_csv('/content/gdrive/My Drive/DSI_Pre_Assignment_2022/title.ratings.tsv.gz', compression='gzip',  sep='\\t')\n",
        "ratings.head(10)"
      ],
      "metadata": {
        "colab": {
          "base_uri": "https://localhost:8080/",
          "height": 363
        },
        "id": "2TWJRNs_wD-r",
        "outputId": "e3097382-056c-413f-cc98-072b64ad8f58"
      },
      "execution_count": null,
      "outputs": [
        {
          "output_type": "execute_result",
          "data": {
            "text/html": [
              "<div>\n",
              "<style scoped>\n",
              "    .dataframe tbody tr th:only-of-type {\n",
              "        vertical-align: middle;\n",
              "    }\n",
              "\n",
              "    .dataframe tbody tr th {\n",
              "        vertical-align: top;\n",
              "    }\n",
              "\n",
              "    .dataframe thead th {\n",
              "        text-align: right;\n",
              "    }\n",
              "</style>\n",
              "<table border=\"1\" class=\"dataframe\">\n",
              "  <thead>\n",
              "    <tr style=\"text-align: right;\">\n",
              "      <th></th>\n",
              "      <th>tconst</th>\n",
              "      <th>averageRating</th>\n",
              "      <th>numVotes</th>\n",
              "    </tr>\n",
              "  </thead>\n",
              "  <tbody>\n",
              "    <tr>\n",
              "      <th>0</th>\n",
              "      <td>tt0000001</td>\n",
              "      <td>5.8</td>\n",
              "      <td>1422</td>\n",
              "    </tr>\n",
              "    <tr>\n",
              "      <th>1</th>\n",
              "      <td>tt0000002</td>\n",
              "      <td>6.4</td>\n",
              "      <td>168</td>\n",
              "    </tr>\n",
              "    <tr>\n",
              "      <th>2</th>\n",
              "      <td>tt0000003</td>\n",
              "      <td>6.6</td>\n",
              "      <td>1015</td>\n",
              "    </tr>\n",
              "    <tr>\n",
              "      <th>3</th>\n",
              "      <td>tt0000004</td>\n",
              "      <td>6.4</td>\n",
              "      <td>100</td>\n",
              "    </tr>\n",
              "    <tr>\n",
              "      <th>4</th>\n",
              "      <td>tt0000005</td>\n",
              "      <td>6.2</td>\n",
              "      <td>1713</td>\n",
              "    </tr>\n",
              "    <tr>\n",
              "      <th>5</th>\n",
              "      <td>tt0000006</td>\n",
              "      <td>5.5</td>\n",
              "      <td>88</td>\n",
              "    </tr>\n",
              "    <tr>\n",
              "      <th>6</th>\n",
              "      <td>tt0000007</td>\n",
              "      <td>5.5</td>\n",
              "      <td>573</td>\n",
              "    </tr>\n",
              "    <tr>\n",
              "      <th>7</th>\n",
              "      <td>tt0000008</td>\n",
              "      <td>5.6</td>\n",
              "      <td>1526</td>\n",
              "    </tr>\n",
              "    <tr>\n",
              "      <th>8</th>\n",
              "      <td>tt0000009</td>\n",
              "      <td>5.5</td>\n",
              "      <td>70</td>\n",
              "    </tr>\n",
              "    <tr>\n",
              "      <th>9</th>\n",
              "      <td>tt0000010</td>\n",
              "      <td>6.9</td>\n",
              "      <td>5083</td>\n",
              "    </tr>\n",
              "  </tbody>\n",
              "</table>\n",
              "</div>"
            ],
            "text/plain": [
              "      tconst  averageRating  numVotes\n",
              "0  tt0000001            5.8      1422\n",
              "1  tt0000002            6.4       168\n",
              "2  tt0000003            6.6      1015\n",
              "3  tt0000004            6.4       100\n",
              "4  tt0000005            6.2      1713\n",
              "5  tt0000006            5.5        88\n",
              "6  tt0000007            5.5       573\n",
              "7  tt0000008            5.6      1526\n",
              "8  tt0000009            5.5        70\n",
              "9  tt0000010            6.9      5083"
            ]
          },
          "metadata": {},
          "execution_count": 5
        }
      ]
    },
    {
      "cell_type": "markdown",
      "source": [
        ""
      ],
      "metadata": {
        "id": "9X_JrhrXfTBW"
      }
    },
    {
      "cell_type": "markdown",
      "source": [
        "2. Drop duplicates in all the dataframes, if there are any. \n",
        "\n"
      ],
      "metadata": {
        "id": "V8R80Wh8fTFM"
      }
    },
    {
      "cell_type": "code",
      "source": [
        "for data in [basics,akas,ratings] :\n",
        "  print(len(data))"
      ],
      "metadata": {
        "colab": {
          "base_uri": "https://localhost:8080/"
        },
        "id": "ib5TJNtk0P4O",
        "outputId": "2dabafb5-63a5-434e-cab2-70e4cfcd55d9"
      },
      "execution_count": null,
      "outputs": [
        {
          "output_type": "stream",
          "name": "stdout",
          "text": [
            "5330276\n",
            "3423660\n",
            "874203\n"
          ]
        }
      ]
    },
    {
      "cell_type": "code",
      "source": [
        "# dropping ALL duplicate values\n",
        "basics.drop_duplicates(keep='first',inplace=True)\n",
        "akas.drop_duplicates(keep='first',inplace=True)\n",
        "ratings.drop_duplicates(keep='first',inplace=True)\n"
      ],
      "metadata": {
        "id": "ZVL0cQgOfV8Y"
      },
      "execution_count": null,
      "outputs": []
    },
    {
      "cell_type": "code",
      "source": [
        ""
      ],
      "metadata": {
        "id": "h3eQvMN_1AyS"
      },
      "execution_count": null,
      "outputs": []
    },
    {
      "cell_type": "code",
      "source": [
        "for data in [basics,akas,ratings] :\n",
        "  print(len(data))"
      ],
      "metadata": {
        "colab": {
          "base_uri": "https://localhost:8080/"
        },
        "id": "ykeXUtlX0w-e",
        "outputId": "4337cdb0-843e-4c40-c5b3-75fb9a059021"
      },
      "execution_count": null,
      "outputs": [
        {
          "output_type": "stream",
          "name": "stdout",
          "text": [
            "5330276\n",
            "3423660\n",
            "874203\n"
          ]
        }
      ]
    },
    {
      "cell_type": "markdown",
      "source": [
        "3. Using the Pandas 'merge' method, combine all three dataframes using the Title ID (titleID or tconst) to perform the merge and save it into a new dataframe. \n",
        "\n",
        "   3.1 How many lines does the resulting dataframe have if you use an inner merge or outer  \n",
        "   merge? Make sure you understand the difference. \n"
      ],
      "metadata": {
        "id": "ohteMJ2EfWg_"
      }
    },
    {
      "cell_type": "code",
      "source": [
        "akas2 = akas.rename(columns = {'titleId': 'tconst'}, inplace = False)\n",
        "akas2.head(10)\n",
        "# I changed the column name of akas"
      ],
      "metadata": {
        "colab": {
          "base_uri": "https://localhost:8080/",
          "height": 363
        },
        "id": "W3vHoSqq4_oV",
        "outputId": "ec6b8bfb-0235-4660-8f97-e70addebe726"
      },
      "execution_count": null,
      "outputs": [
        {
          "output_type": "execute_result",
          "data": {
            "text/html": [
              "<div>\n",
              "<style scoped>\n",
              "    .dataframe tbody tr th:only-of-type {\n",
              "        vertical-align: middle;\n",
              "    }\n",
              "\n",
              "    .dataframe tbody tr th {\n",
              "        vertical-align: top;\n",
              "    }\n",
              "\n",
              "    .dataframe thead th {\n",
              "        text-align: right;\n",
              "    }\n",
              "</style>\n",
              "<table border=\"1\" class=\"dataframe\">\n",
              "  <thead>\n",
              "    <tr style=\"text-align: right;\">\n",
              "      <th></th>\n",
              "      <th>tconst</th>\n",
              "      <th>ordering</th>\n",
              "      <th>title</th>\n",
              "      <th>region</th>\n",
              "      <th>language</th>\n",
              "      <th>types</th>\n",
              "      <th>attributes</th>\n",
              "      <th>isOriginalTitle</th>\n",
              "    </tr>\n",
              "  </thead>\n",
              "  <tbody>\n",
              "    <tr>\n",
              "      <th>0</th>\n",
              "      <td>tt0000001</td>\n",
              "      <td>1</td>\n",
              "      <td>Carmencita - spanyol tánc</td>\n",
              "      <td>HU</td>\n",
              "      <td>\\N</td>\n",
              "      <td>imdbDisplay</td>\n",
              "      <td>\\N</td>\n",
              "      <td>0</td>\n",
              "    </tr>\n",
              "    <tr>\n",
              "      <th>1</th>\n",
              "      <td>tt0000001</td>\n",
              "      <td>2</td>\n",
              "      <td>Карменсита</td>\n",
              "      <td>RU</td>\n",
              "      <td>\\N</td>\n",
              "      <td>\\N</td>\n",
              "      <td>\\N</td>\n",
              "      <td>0</td>\n",
              "    </tr>\n",
              "    <tr>\n",
              "      <th>2</th>\n",
              "      <td>tt0000001</td>\n",
              "      <td>3</td>\n",
              "      <td>Carmencita</td>\n",
              "      <td>US</td>\n",
              "      <td>\\N</td>\n",
              "      <td>\\N</td>\n",
              "      <td>\\N</td>\n",
              "      <td>0</td>\n",
              "    </tr>\n",
              "    <tr>\n",
              "      <th>3</th>\n",
              "      <td>tt0000001</td>\n",
              "      <td>4</td>\n",
              "      <td>Carmencita</td>\n",
              "      <td>\\N</td>\n",
              "      <td>\\N</td>\n",
              "      <td>original</td>\n",
              "      <td>\\N</td>\n",
              "      <td>1</td>\n",
              "    </tr>\n",
              "    <tr>\n",
              "      <th>4</th>\n",
              "      <td>tt0000002</td>\n",
              "      <td>1</td>\n",
              "      <td>Le clown et ses chiens</td>\n",
              "      <td>\\N</td>\n",
              "      <td>\\N</td>\n",
              "      <td>original</td>\n",
              "      <td>\\N</td>\n",
              "      <td>1</td>\n",
              "    </tr>\n",
              "    <tr>\n",
              "      <th>5</th>\n",
              "      <td>tt0000002</td>\n",
              "      <td>2</td>\n",
              "      <td>A bohóc és kutyái</td>\n",
              "      <td>HU</td>\n",
              "      <td>\\N</td>\n",
              "      <td>imdbDisplay</td>\n",
              "      <td>\\N</td>\n",
              "      <td>0</td>\n",
              "    </tr>\n",
              "    <tr>\n",
              "      <th>6</th>\n",
              "      <td>tt0000002</td>\n",
              "      <td>3</td>\n",
              "      <td>Le clown et ses chiens</td>\n",
              "      <td>FR</td>\n",
              "      <td>\\N</td>\n",
              "      <td>\\N</td>\n",
              "      <td>\\N</td>\n",
              "      <td>0</td>\n",
              "    </tr>\n",
              "    <tr>\n",
              "      <th>7</th>\n",
              "      <td>tt0000002</td>\n",
              "      <td>4</td>\n",
              "      <td>Clovnul si cainii sai</td>\n",
              "      <td>RO</td>\n",
              "      <td>\\N</td>\n",
              "      <td>imdbDisplay</td>\n",
              "      <td>\\N</td>\n",
              "      <td>0</td>\n",
              "    </tr>\n",
              "    <tr>\n",
              "      <th>8</th>\n",
              "      <td>tt0000002</td>\n",
              "      <td>5</td>\n",
              "      <td>The Clown and His Dogs</td>\n",
              "      <td>US</td>\n",
              "      <td>\\N</td>\n",
              "      <td>\\N</td>\n",
              "      <td>literal English title</td>\n",
              "      <td>0</td>\n",
              "    </tr>\n",
              "    <tr>\n",
              "      <th>9</th>\n",
              "      <td>tt0000002</td>\n",
              "      <td>6</td>\n",
              "      <td>Клоун и его собаки</td>\n",
              "      <td>RU</td>\n",
              "      <td>\\N</td>\n",
              "      <td>\\N</td>\n",
              "      <td>\\N</td>\n",
              "      <td>0</td>\n",
              "    </tr>\n",
              "  </tbody>\n",
              "</table>\n",
              "</div>"
            ],
            "text/plain": [
              "      tconst  ordering  ...             attributes isOriginalTitle\n",
              "0  tt0000001         1  ...                     \\N               0\n",
              "1  tt0000001         2  ...                     \\N               0\n",
              "2  tt0000001         3  ...                     \\N               0\n",
              "3  tt0000001         4  ...                     \\N               1\n",
              "4  tt0000002         1  ...                     \\N               1\n",
              "5  tt0000002         2  ...                     \\N               0\n",
              "6  tt0000002         3  ...                     \\N               0\n",
              "7  tt0000002         4  ...                     \\N               0\n",
              "8  tt0000002         5  ...  literal English title               0\n",
              "9  tt0000002         6  ...                     \\N               0\n",
              "\n",
              "[10 rows x 8 columns]"
            ]
          },
          "metadata": {},
          "execution_count": 8
        }
      ]
    },
    {
      "cell_type": "code",
      "source": [
        "## Inner merge\n",
        "first = pd.merge(basics,\n",
        "    akas2,\n",
        "    how=\"inner\",\n",
        "    on='tconst',\n",
        "    sort=False,\n",
        "    copy=False,\n",
        ")\n",
        "\n"
      ],
      "metadata": {
        "id": "AuLZ1FNwfaPm"
      },
      "execution_count": null,
      "outputs": []
    },
    {
      "cell_type": "code",
      "source": [
        "len(first)"
      ],
      "metadata": {
        "colab": {
          "base_uri": "https://localhost:8080/"
        },
        "id": "Z32J427NB_H4",
        "outputId": "51259003-7e82-44a5-8079-bfccd03aec6b"
      },
      "execution_count": null,
      "outputs": [
        {
          "output_type": "execute_result",
          "data": {
            "text/plain": [
              "3419932"
            ]
          },
          "metadata": {},
          "execution_count": 68
        }
      ]
    },
    {
      "cell_type": "code",
      "source": [
        "merged_inner = pd.merge(first,\n",
        "    ratings,\n",
        "    how=\"inner\",\n",
        "    on='tconst',\n",
        "    sort=False,\n",
        "    copy=False,\n",
        ")"
      ],
      "metadata": {
        "id": "a1ZgveXuCJFZ"
      },
      "execution_count": null,
      "outputs": []
    },
    {
      "cell_type": "code",
      "source": [
        "len(merged_inner)"
      ],
      "metadata": {
        "colab": {
          "base_uri": "https://localhost:8080/"
        },
        "id": "K-aWGnpNCLez",
        "outputId": "61addf60-22c5-4ecd-bbeb-61db2ff97a95"
      },
      "execution_count": null,
      "outputs": [
        {
          "output_type": "execute_result",
          "data": {
            "text/plain": [
              "1686547"
            ]
          },
          "metadata": {},
          "execution_count": 17
        }
      ]
    },
    {
      "cell_type": "markdown",
      "source": [
        "Inner merged means taking the intersection."
      ],
      "metadata": {
        "id": "egqi_cADWRHa"
      }
    },
    {
      "cell_type": "code",
      "source": [
        "## outer merge\n",
        "\n",
        "second = pd.merge(basics,\n",
        "    akas2,\n",
        "    how=\"outer\",\n",
        "    on='tconst',\n",
        "    sort=False,\n",
        "    copy=False,\n",
        ")\n",
        "\n",
        "merged_outer = pd.merge(second,\n",
        "    ratings,\n",
        "    how=\"outer\",\n",
        "    on='tconst',\n",
        "    sort=False,\n",
        "    copy=False,\n",
        ")"
      ],
      "metadata": {
        "id": "d5MqnrUS1XDX"
      },
      "execution_count": null,
      "outputs": []
    },
    {
      "cell_type": "code",
      "source": [
        "len(merged_outer)"
      ],
      "metadata": {
        "colab": {
          "base_uri": "https://localhost:8080/"
        },
        "id": "EX1kRiZ7Wop9",
        "outputId": "e9987862-9140-4d88-b5f5-68bc80e4f5a0"
      },
      "execution_count": null,
      "outputs": [
        {
          "output_type": "execute_result",
          "data": {
            "text/plain": [
              "6740089"
            ]
          },
          "metadata": {},
          "execution_count": 22
        }
      ]
    },
    {
      "cell_type": "markdown",
      "source": [
        "Outer means taking the union.\n",
        "\n",
        "I do not know how to merge the three once so that is why I merged two dataframes twice."
      ],
      "metadata": {
        "id": "eJvl8kxDWvAn"
      }
    },
    {
      "cell_type": "markdown",
      "source": [
        " 3.2 Using the unique() method, compute how many different 'titleTypes' there are "
      ],
      "metadata": {
        "id": "AbtPA4sSfc9h"
      }
    },
    {
      "cell_type": "code",
      "source": [
        "titletypes = merged_outer['titleType']"
      ],
      "metadata": {
        "id": "S4C3sjAdWn1U"
      },
      "execution_count": null,
      "outputs": []
    },
    {
      "cell_type": "code",
      "source": [
        "pd.Series(pd.Categorical(titletypes)).unique()\n"
      ],
      "metadata": {
        "id": "lvGnVYkyfdiy",
        "colab": {
          "base_uri": "https://localhost:8080/"
        },
        "outputId": "6447fa8e-6dee-43c0-e2d0-f51f4bbbc0f9"
      },
      "execution_count": null,
      "outputs": [
        {
          "output_type": "execute_result",
          "data": {
            "text/plain": [
              "['short', 'movie', 'tvMovie', 'tvSeries', 'tvEpisode', ..., 'tvMiniSeries', 'tvSpecial', 'video', 'videoGame', NaN]\n",
              "Length: 11\n",
              "Categories (10, object): ['short', 'movie', 'tvMovie', 'tvSeries', ..., 'tvMiniSeries',\n",
              "                          'tvSpecial', 'video', 'videoGame']"
            ]
          },
          "metadata": {},
          "execution_count": 34
        }
      ]
    },
    {
      "cell_type": "code",
      "source": [
        ""
      ],
      "metadata": {
        "id": "8T4WTjWubWhh"
      },
      "execution_count": null,
      "outputs": []
    },
    {
      "cell_type": "markdown",
      "source": [
        "So there are 10 types of title."
      ],
      "metadata": {
        "id": "lGi4sIK9bcY-"
      }
    },
    {
      "cell_type": "markdown",
      "source": [
        "4. Make a new dataframe from step 3 by selecting only rows corresponding to English-language films ('en') OR US-region films ('US') AND only those that are movies (using the 'titleType' column). Put the resulting data into a new dataframe; call it df_new. \n"
      ],
      "metadata": {
        "id": "w9Tg--A8fggP"
      }
    },
    {
      "cell_type": "markdown",
      "source": [
        "For the remaining part, I need to use the merged_inner data frame because we will need the ranking."
      ],
      "metadata": {
        "id": "FO4phIHCdB1g"
      }
    },
    {
      "cell_type": "code",
      "source": [
        "region = merged_outer['region']\n",
        "\n",
        "pd.Series(pd.Categorical(region)).unique()\n"
      ],
      "metadata": {
        "colab": {
          "base_uri": "https://localhost:8080/"
        },
        "id": "fyVludMSd_iF",
        "outputId": "8d1839a8-1ff4-416e-a309-9416e11b3a61"
      },
      "execution_count": null,
      "outputs": [
        {
          "output_type": "execute_result",
          "data": {
            "text/plain": [
              "['HU', 'RU', 'US', '\\N', 'FR', ..., 'WF', 'MP', 'VG', 'KI', 'AI']\n",
              "Length: 246\n",
              "Categories (245, object): ['HU', 'RU', 'US', '\\N', ..., 'MP', 'VG', 'KI', 'AI']"
            ]
          },
          "metadata": {},
          "execution_count": 38
        }
      ]
    },
    {
      "cell_type": "code",
      "source": [
        "englishfilm=merged_inner.loc[(merged_inner['language'] == 'en') ]"
      ],
      "metadata": {
        "id": "LfGrRngge726"
      },
      "execution_count": null,
      "outputs": []
    },
    {
      "cell_type": "code",
      "source": [
        "movie=merged_inner.loc[(merged_inner['titleType'] == 'movie') ]"
      ],
      "metadata": {
        "id": "NR22PoADfptY"
      },
      "execution_count": null,
      "outputs": []
    },
    {
      "cell_type": "code",
      "source": [
        "US=merged_inner.loc[(merged_inner['region'] == 'US') ]"
      ],
      "metadata": {
        "id": "7fInkC6nfvFO"
      },
      "execution_count": null,
      "outputs": []
    },
    {
      "cell_type": "code",
      "source": [
        "englishorus =  pd.merge(englishfilm,\n",
        "    US,\n",
        "    how=\"outer\", #outer because the condion is or\n",
        "    on='tconst',\n",
        "    sort=False,\n",
        "    copy=False,\n",
        ")"
      ],
      "metadata": {
        "id": "viMSZwMgf_gu"
      },
      "execution_count": null,
      "outputs": []
    },
    {
      "cell_type": "code",
      "source": [
        "df_new = pd.merge(englishorus,\n",
        "    movie,\n",
        "    how=\"inner\", #inner because the condion is AND\n",
        "    on='tconst',\n",
        "    sort=False,\n",
        "    copy=False,\n",
        ")"
      ],
      "metadata": {
        "id": "hiTzh7KMgD0P"
      },
      "execution_count": null,
      "outputs": []
    },
    {
      "cell_type": "code",
      "source": [
        "len(df_new)"
      ],
      "metadata": {
        "id": "XvDd4pg4gH2n",
        "colab": {
          "base_uri": "https://localhost:8080/"
        },
        "outputId": "311f7bb5-f4b9-48e1-f8c8-b12fe33b2854"
      },
      "execution_count": null,
      "outputs": [
        {
          "output_type": "execute_result",
          "data": {
            "text/plain": [
              "1373352"
            ]
          },
          "metadata": {},
          "execution_count": 75
        }
      ]
    },
    {
      "cell_type": "markdown",
      "source": [
        "5. Add a new column to df_new with column title 'log10Votes' which gives the Log_10 number of the 'numVotes' column. \n"
      ],
      "metadata": {
        "id": "mmZsVblQfhy3"
      }
    },
    {
      "cell_type": "code",
      "source": [
        "import numpy as np\n"
      ],
      "metadata": {
        "id": "wMKV5AMrq2XT"
      },
      "execution_count": null,
      "outputs": []
    },
    {
      "cell_type": "code",
      "source": [
        "df_new['log10Votes'] = np.log10( df_new['numVotes'])"
      ],
      "metadata": {
        "id": "ZfaRSeDZpFT9"
      },
      "execution_count": null,
      "outputs": []
    },
    {
      "cell_type": "code",
      "source": [
        "df_new.columns"
      ],
      "metadata": {
        "colab": {
          "base_uri": "https://localhost:8080/"
        },
        "id": "JKYZrUTfq2am",
        "outputId": "226fa5eb-3ef1-4547-9bf8-3c9a8dc5656b"
      },
      "execution_count": null,
      "outputs": [
        {
          "output_type": "execute_result",
          "data": {
            "text/plain": [
              "Index(['tconst', 'titleType_x', 'primaryTitle_x', 'originalTitle_x',\n",
              "       'isAdult_x', 'startYear_x', 'endYear_x', 'runtimeMinutes_x', 'genres_x',\n",
              "       'ordering_x', 'title_x', 'region_x', 'language_x', 'types_x',\n",
              "       'attributes_x', 'isOriginalTitle_x', 'averageRating_x', 'numVotes_x',\n",
              "       'titleType_y', 'primaryTitle_y', 'originalTitle_y', 'isAdult_y',\n",
              "       'startYear_y', 'endYear_y', 'runtimeMinutes_y', 'genres_y',\n",
              "       'ordering_y', 'title_y', 'region_y', 'language_y', 'types_y',\n",
              "       'attributes_y', 'isOriginalTitle_y', 'averageRating_y', 'numVotes_y',\n",
              "       'titleType', 'primaryTitle', 'originalTitle', 'isAdult', 'startYear',\n",
              "       'endYear', 'runtimeMinutes', 'genres', 'ordering', 'title', 'region',\n",
              "       'language', 'types', 'attributes', 'isOriginalTitle', 'averageRating',\n",
              "       'numVotes', 'log10Votes'],\n",
              "      dtype='object')"
            ]
          },
          "metadata": {},
          "execution_count": 89
        }
      ]
    },
    {
      "cell_type": "code",
      "source": [
        ""
      ],
      "metadata": {
        "id": "V8ZzB4kYfjct"
      },
      "execution_count": null,
      "outputs": []
    },
    {
      "cell_type": "markdown",
      "source": [
        "6. Lower the case of all text in the 'genres' column. "
      ],
      "metadata": {
        "id": "bUMOj73WfkG4"
      }
    },
    {
      "cell_type": "code",
      "source": [
        "df_new[\"genres\"] = df_new[\"genres\"].str.lower()\n"
      ],
      "metadata": {
        "id": "hn4iX1xofnPe"
      },
      "execution_count": null,
      "outputs": []
    },
    {
      "cell_type": "code",
      "source": [
        "df_new[\"genres\"] "
      ],
      "metadata": {
        "colab": {
          "base_uri": "https://localhost:8080/"
        },
        "id": "Ff9asHuDsa3r",
        "outputId": "a9348450-c0d9-4098-d75f-5e1719e6bcad"
      },
      "execution_count": null,
      "outputs": [
        {
          "output_type": "execute_result",
          "data": {
            "text/plain": [
              "0                         drama\n",
              "1                         drama\n",
              "2                         drama\n",
              "3                            \\n\n",
              "4                            \\n\n",
              "                   ...         \n",
              "1373347    drama,horror,mystery\n",
              "1373348    drama,horror,mystery\n",
              "1373349             documentary\n",
              "1373350             documentary\n",
              "1373351             documentary\n",
              "Name: genres, Length: 1373352, dtype: object"
            ]
          },
          "metadata": {},
          "execution_count": 91
        }
      ]
    },
    {
      "cell_type": "markdown",
      "source": [
        "6. Using Groupby (or other technique) group all data by 'genres' and display the top 10 highest genres by:\n",
        "\n",
        "    6.1 mean number of log10Votes\n"
      ],
      "metadata": {
        "id": "8JZSz0PRfntP"
      }
    },
    {
      "cell_type": "code",
      "source": [
        "df_new.groupby('genres').log10Votes.mean().sort_values(ascending=False).head(10)"
      ],
      "metadata": {
        "id": "QpvtbDOyfrh1",
        "colab": {
          "base_uri": "https://localhost:8080/"
        },
        "outputId": "d6109ef4-67d3-4d8c-8b80-197e29aeb30d"
      },
      "execution_count": null,
      "outputs": [
        {
          "output_type": "execute_result",
          "data": {
            "text/plain": [
              "genres\n",
              "action,fantasy,war           5.405722\n",
              "adventure,sci-fi,thriller    5.294489\n",
              "action,adventure,sci-fi      5.220067\n",
              "mystery,romance,sci-fi       5.159570\n",
              "action,adventure,fantasy     5.127659\n",
              "action,thriller,war          5.096128\n",
              "animation,drama,war          5.095017\n",
              "action,adventure,thriller    4.981057\n",
              "adventure,drama,sci-fi       4.962782\n",
              "drama,horror,musical         4.947405\n",
              "Name: log10Votes, dtype: float64"
            ]
          },
          "metadata": {},
          "execution_count": 20
        }
      ]
    },
    {
      "cell_type": "markdown",
      "source": [
        "6.2 mean averageRating\n"
      ],
      "metadata": {
        "id": "FiOssuslfsOe"
      }
    },
    {
      "cell_type": "code",
      "source": [
        "df_new.groupby('genres').averageRating.mean().sort_values(ascending=False).head(10)"
      ],
      "metadata": {
        "id": "0dIuNzjdfuny",
        "colab": {
          "base_uri": "https://localhost:8080/"
        },
        "outputId": "b7bd8707-8261-4772-d18a-470457b7efd2"
      },
      "execution_count": null,
      "outputs": [
        {
          "output_type": "execute_result",
          "data": {
            "text/plain": [
              "genres\n",
              "documentary,history,western    9.300000\n",
              "history,sport                  9.200000\n",
              "documentary,news,reality-tv    8.800000\n",
              "animation,crime,documentary    8.560000\n",
              "biography,history,music        8.500000\n",
              "documentary,fantasy            8.500000\n",
              "documentary,drama,thriller     8.448276\n",
              "animation,drama,war            8.438889\n",
              "crime,documentary,thriller     8.406250\n",
              "comedy,mystery,sport           8.400000\n",
              "Name: averageRating, dtype: float64"
            ]
          },
          "metadata": {},
          "execution_count": 21
        }
      ]
    },
    {
      "cell_type": "markdown",
      "source": [
        "7. Using ‘groupby’ group all data by averageRating and make a scatter plot of averageRating vs log10Votes. \n"
      ],
      "metadata": {
        "id": "XdXWNFtqfyyL"
      }
    },
    {
      "cell_type": "code",
      "source": [
        "My_data = pd.DataFrame(df_new.groupby('averageRating', as_index=False).log10Votes.mean())\n",
        "\n"
      ],
      "metadata": {
        "id": "QVQGYGi_fzck"
      },
      "execution_count": null,
      "outputs": []
    },
    {
      "cell_type": "code",
      "source": [
        "My_data"
      ],
      "metadata": {
        "colab": {
          "base_uri": "https://localhost:8080/",
          "height": 424
        },
        "id": "X0Aj8qgW4WkY",
        "outputId": "b9b5fa12-14cb-4367-c73d-5e187ac0d7b8"
      },
      "execution_count": null,
      "outputs": [
        {
          "output_type": "execute_result",
          "data": {
            "text/html": [
              "<div>\n",
              "<style scoped>\n",
              "    .dataframe tbody tr th:only-of-type {\n",
              "        vertical-align: middle;\n",
              "    }\n",
              "\n",
              "    .dataframe tbody tr th {\n",
              "        vertical-align: top;\n",
              "    }\n",
              "\n",
              "    .dataframe thead th {\n",
              "        text-align: right;\n",
              "    }\n",
              "</style>\n",
              "<table border=\"1\" class=\"dataframe\">\n",
              "  <thead>\n",
              "    <tr style=\"text-align: right;\">\n",
              "      <th></th>\n",
              "      <th>averageRating</th>\n",
              "      <th>log10Votes</th>\n",
              "    </tr>\n",
              "  </thead>\n",
              "  <tbody>\n",
              "    <tr>\n",
              "      <th>0</th>\n",
              "      <td>1.0</td>\n",
              "      <td>1.966652</td>\n",
              "    </tr>\n",
              "    <tr>\n",
              "      <th>1</th>\n",
              "      <td>1.1</td>\n",
              "      <td>2.110136</td>\n",
              "    </tr>\n",
              "    <tr>\n",
              "      <th>2</th>\n",
              "      <td>1.2</td>\n",
              "      <td>2.302418</td>\n",
              "    </tr>\n",
              "    <tr>\n",
              "      <th>3</th>\n",
              "      <td>1.3</td>\n",
              "      <td>2.129474</td>\n",
              "    </tr>\n",
              "    <tr>\n",
              "      <th>4</th>\n",
              "      <td>1.4</td>\n",
              "      <td>1.987181</td>\n",
              "    </tr>\n",
              "    <tr>\n",
              "      <th>...</th>\n",
              "      <td>...</td>\n",
              "      <td>...</td>\n",
              "    </tr>\n",
              "    <tr>\n",
              "      <th>86</th>\n",
              "      <td>9.6</td>\n",
              "      <td>1.611900</td>\n",
              "    </tr>\n",
              "    <tr>\n",
              "      <th>87</th>\n",
              "      <td>9.7</td>\n",
              "      <td>1.407850</td>\n",
              "    </tr>\n",
              "    <tr>\n",
              "      <th>88</th>\n",
              "      <td>9.8</td>\n",
              "      <td>0.778151</td>\n",
              "    </tr>\n",
              "    <tr>\n",
              "      <th>89</th>\n",
              "      <td>9.9</td>\n",
              "      <td>1.447158</td>\n",
              "    </tr>\n",
              "    <tr>\n",
              "      <th>90</th>\n",
              "      <td>10.0</td>\n",
              "      <td>0.762315</td>\n",
              "    </tr>\n",
              "  </tbody>\n",
              "</table>\n",
              "<p>91 rows × 2 columns</p>\n",
              "</div>"
            ],
            "text/plain": [
              "    averageRating  log10Votes\n",
              "0             1.0    1.966652\n",
              "1             1.1    2.110136\n",
              "2             1.2    2.302418\n",
              "3             1.3    2.129474\n",
              "4             1.4    1.987181\n",
              "..            ...         ...\n",
              "86            9.6    1.611900\n",
              "87            9.7    1.407850\n",
              "88            9.8    0.778151\n",
              "89            9.9    1.447158\n",
              "90           10.0    0.762315\n",
              "\n",
              "[91 rows x 2 columns]"
            ]
          },
          "metadata": {},
          "execution_count": 126
        }
      ]
    },
    {
      "cell_type": "code",
      "source": [
        "ax1 = My_data.plot.scatter(x='averageRating',\n",
        "                      y='log10Votes',\n",
        "                      c='DarkBlue')\n"
      ],
      "metadata": {
        "colab": {
          "base_uri": "https://localhost:8080/",
          "height": 279
        },
        "id": "q2OrVwM34UG9",
        "outputId": "cade5ade-2e0d-4eb1-f87f-422e09aab5ac"
      },
      "execution_count": null,
      "outputs": [
        {
          "output_type": "display_data",
          "data": {
            "image/png": "[encoded data removed]",
            "text/plain": [
              "<Figure size 432x288 with 1 Axes>"
            ]
          },
          "metadata": {
            "needs_background": "light"
          }
        }
      ]
    },
    {
      "cell_type": "code",
      "source": [
        ""
      ],
      "metadata": {
        "id": "zAUsKg5h2Vbj"
      },
      "execution_count": null,
      "outputs": []
    },
    {
      "cell_type": "code",
      "source": [
        ""
      ],
      "metadata": {
        "id": "l2wBYAwOwb7S"
      },
      "execution_count": null,
      "outputs": []
    },
    {
      "cell_type": "code",
      "source": [
        ""
      ],
      "metadata": {
        "id": "gzcm0pLTxUSJ"
      },
      "execution_count": null,
      "outputs": []
    },
    {
      "cell_type": "markdown",
      "source": [
        "8. Perform linear regression on your data (averageRating vs log10Votes) created in the previous step in three different ways:\n",
        "\n",
        "    8.1 Using sklearn\n"
      ],
      "metadata": {
        "id": "ZSDbXV-Sf0Bw"
      }
    },
    {
      "cell_type": "code",
      "source": [
        "# I start by loading the sklearn library\n",
        "from sklearn import datasets, linear_model\n",
        "from sklearn.metrics import mean_squared_error, r2_score\n"
      ],
      "metadata": {
        "id": "vBWYcequf2Sa"
      },
      "execution_count": null,
      "outputs": []
    },
    {
      "cell_type": "code",
      "source": [
        "len(My_data)"
      ],
      "metadata": {
        "colab": {
          "base_uri": "https://localhost:8080/"
        },
        "id": "nYVPZLPK73zl",
        "outputId": "5ae14088-2fc3-4b9d-c7ad-012392b68ddc"
      },
      "execution_count": null,
      "outputs": [
        {
          "output_type": "execute_result",
          "data": {
            "text/plain": [
              "91"
            ]
          },
          "metadata": {},
          "execution_count": 131
        }
      ]
    },
    {
      "cell_type": "code",
      "source": [
        ""
      ],
      "metadata": {
        "id": "bjuBPfl479EU"
      },
      "execution_count": null,
      "outputs": []
    },
    {
      "cell_type": "markdown",
      "source": [
        "So as we have 91 rows, we will be using 61 for training and 30 for testing."
      ],
      "metadata": {
        "id": "tkA7CtWM795Z"
      }
    },
    {
      "cell_type": "markdown",
      "source": [
        "In order to have a good model, we need to shuffle the data prior to the building the model. Because, here our averageratings are sorted."
      ],
      "metadata": {
        "id": "0-n2OM_5puf-"
      }
    },
    {
      "cell_type": "code",
      "source": [
        "from sklearn.utils import shuffle\n"
      ],
      "metadata": {
        "id": "IeDgl4yopfEq"
      },
      "execution_count": null,
      "outputs": []
    },
    {
      "cell_type": "code",
      "source": [
        "Shuffleddata = shuffle(My_data)\n"
      ],
      "metadata": {
        "id": "GirGjCQH8hMh"
      },
      "execution_count": null,
      "outputs": []
    },
    {
      "cell_type": "code",
      "source": [
        "ax1 = Shuffleddata.plot.scatter(x='averageRating',\n",
        "                      y='log10Votes',\n",
        "                      c='DarkBlue')\n"
      ],
      "metadata": {
        "colab": {
          "base_uri": "https://localhost:8080/",
          "height": 279
        },
        "id": "KBA59lqSrVnc",
        "outputId": "57e0ef5c-15eb-4cbe-fad7-1e1ec8a93c13"
      },
      "execution_count": null,
      "outputs": [
        {
          "output_type": "display_data",
          "data": {
            "image/png": "[encoded data removed]",
            "text/plain": [
              "<Figure size 432x288 with 1 Axes>"
            ]
          },
          "metadata": {
            "needs_background": "light"
          }
        }
      ]
    },
    {
      "cell_type": "code",
      "source": [
        "# reshaping the data because we only have a single feature as X\n",
        "My_data_X = np.array(Shuffleddata['averageRating'],  dtype=np.float32).reshape(-1, 1)\n",
        "My_data_y= np.array(Shuffleddata['log10Votes'],  dtype=np.float32)\n"
      ],
      "metadata": {
        "id": "wAW9pk3b-dVx"
      },
      "execution_count": null,
      "outputs": []
    },
    {
      "cell_type": "code",
      "source": [
        "My_data_X"
      ],
      "metadata": {
        "colab": {
          "base_uri": "https://localhost:8080/"
        },
        "id": "-h84w9hJ-3nl",
        "outputId": "7f57e391-6c91-43a4-be23-e2dc6815fec1"
      },
      "execution_count": null,
      "outputs": [
        {
          "output_type": "execute_result",
          "data": {
            "text/plain": [
              "array([[ 8.4],\n",
              "       [ 6.2],\n",
              "       [ 1.1],\n",
              "       [ 9.6],\n",
              "       [ 2.8],\n",
              "       [ 6.6],\n",
              "       [ 3.9],\n",
              "       [ 5.5],\n",
              "       [ 6. ],\n",
              "       [ 1.7],\n",
              "       [ 5.3],\n",
              "       [ 7.7],\n",
              "       [ 8.8],\n",
              "       [ 2.5],\n",
              "       [ 6.4],\n",
              "       [ 1.9],\n",
              "       [ 3.1],\n",
              "       [ 7.4],\n",
              "       [ 6.1],\n",
              "       [ 8.2],\n",
              "       [ 3.4],\n",
              "       [ 9.1],\n",
              "       [ 2.1],\n",
              "       [ 9.2],\n",
              "       [ 2.6],\n",
              "       [ 8.1],\n",
              "       [ 8.7],\n",
              "       [ 9.4],\n",
              "       [ 7.1],\n",
              "       [ 5.1],\n",
              "       [ 9.5],\n",
              "       [ 3.8],\n",
              "       [ 9. ],\n",
              "       [ 1.8],\n",
              "       [ 2.9],\n",
              "       [ 4.1],\n",
              "       [ 7.8],\n",
              "       [ 2.4],\n",
              "       [ 4. ],\n",
              "       [ 3.7],\n",
              "       [ 4.8],\n",
              "       [ 7.9],\n",
              "       [ 5.6],\n",
              "       [ 2.2],\n",
              "       [ 3.3],\n",
              "       [ 2.7],\n",
              "       [ 6.8],\n",
              "       [ 3.5],\n",
              "       [ 7.5],\n",
              "       [ 1.2],\n",
              "       [ 8.9],\n",
              "       [ 5.7],\n",
              "       [ 8.5],\n",
              "       [ 7.2],\n",
              "       [ 4.5],\n",
              "       [ 7.6],\n",
              "       [ 4.9],\n",
              "       [ 2. ],\n",
              "       [ 9.8],\n",
              "       [ 5. ],\n",
              "       [ 4.3],\n",
              "       [ 6.3],\n",
              "       [ 4.6],\n",
              "       [ 4.4],\n",
              "       [ 5.9],\n",
              "       [ 6.9],\n",
              "       [ 4.7],\n",
              "       [ 5.8],\n",
              "       [ 8.3],\n",
              "       [ 1.6],\n",
              "       [ 5.4],\n",
              "       [ 4.2],\n",
              "       [ 2.3],\n",
              "       [ 6.7],\n",
              "       [ 7. ],\n",
              "       [ 6.5],\n",
              "       [ 1.3],\n",
              "       [ 8. ],\n",
              "       [ 3.6],\n",
              "       [ 9.7],\n",
              "       [ 1. ],\n",
              "       [ 3. ],\n",
              "       [10. ],\n",
              "       [ 8.6],\n",
              "       [ 1.4],\n",
              "       [ 7.3],\n",
              "       [ 9.3],\n",
              "       [ 3.2],\n",
              "       [ 5.2],\n",
              "       [ 1.5],\n",
              "       [ 9.9]], dtype=float32)"
            ]
          },
          "metadata": {},
          "execution_count": 95
        }
      ]
    },
    {
      "cell_type": "code",
      "source": [
        "# Split the average_rating into training/testing sets\n",
        "My_data_X_train = My_data_X[0:61]\n",
        "My_data_X_test = My_data_X[61:]"
      ],
      "metadata": {
        "id": "RLBOlUe_8I_f"
      },
      "execution_count": null,
      "outputs": []
    },
    {
      "cell_type": "code",
      "source": [
        "# Split the log10Votes into training/testing sets\n",
        "My_data_y_train = My_data_y[0:61]\n",
        "My_data_y_test = My_data_y[61:]"
      ],
      "metadata": {
        "id": "7x7RswaR8m8a"
      },
      "execution_count": null,
      "outputs": []
    },
    {
      "cell_type": "code",
      "source": [
        "type(My_data_X)"
      ],
      "metadata": {
        "colab": {
          "base_uri": "https://localhost:8080/"
        },
        "id": "PmORQUXQy7uo",
        "outputId": "585edafa-9ebb-49b9-9f90-7c4f8da19800"
      },
      "execution_count": null,
      "outputs": [
        {
          "output_type": "execute_result",
          "data": {
            "text/plain": [
              "numpy.ndarray"
            ]
          },
          "metadata": {},
          "execution_count": 101
        }
      ]
    },
    {
      "cell_type": "code",
      "source": [
        "# Create linear regression object\n",
        "regr = linear_model.LinearRegression()"
      ],
      "metadata": {
        "id": "JYG-zuu78zXb"
      },
      "execution_count": null,
      "outputs": []
    },
    {
      "cell_type": "code",
      "source": [
        "# Train the model using the training sets\n",
        "regr.fit(My_data_X_train, My_data_y_train)\n"
      ],
      "metadata": {
        "colab": {
          "base_uri": "https://localhost:8080/"
        },
        "id": "Uo5qbww283SC",
        "outputId": "3b00936d-d51c-4401-c1e2-0273dee0ffa1"
      },
      "execution_count": null,
      "outputs": [
        {
          "output_type": "execute_result",
          "data": {
            "text/plain": [
              "LinearRegression()"
            ]
          },
          "metadata": {},
          "execution_count": 104
        }
      ]
    },
    {
      "cell_type": "code",
      "source": [
        "# Make predictions using the testing set\n",
        "My_data_y_pred = regr.predict(My_data_X_test)\n"
      ],
      "metadata": {
        "id": "Zg_RQRp6_N16"
      },
      "execution_count": null,
      "outputs": []
    },
    {
      "cell_type": "code",
      "source": [
        "\n",
        "# The coefficient\n",
        "print(\"Coefficient: \\n\", regr.coef_)\n",
        "# The mean squared error\n",
        "print(\"Mean squared error: %.2f\" % mean_squared_error(My_data_y_test, My_data_y_pred))\n",
        "# The coefficient of determination: 1 is perfect prediction\n",
        "print(\"Coefficient of determination: %.2f\" % r2_score(My_data_y_test, My_data_y_pred))"
      ],
      "metadata": {
        "colab": {
          "base_uri": "https://localhost:8080/"
        },
        "id": "GYODjZ6J_qPN",
        "outputId": "2461600b-e86f-4299-95b3-bb4f79bd6cd0"
      },
      "execution_count": null,
      "outputs": [
        {
          "output_type": "stream",
          "name": "stdout",
          "text": [
            "Coefficient: \n",
            " [0.05223301]\n",
            "Mean squared error: 0.67\n",
            "Coefficient of determination: -0.00\n"
          ]
        }
      ]
    },
    {
      "cell_type": "code",
      "source": [
        "import matplotlib.pyplot as plt\n",
        "# Plot outputs\n",
        "plt.scatter(My_data_X_test, My_data_y_test, color=\"black\", label='original test data')\n",
        "plt.plot(My_data_X_test, My_data_y_pred, color=\"blue\", linewidth=3,  label='fitted line')\n",
        "plt.scatter(My_data_X_train, My_data_y_train, color=\"red\", linewidth=3, label='training data')\n",
        "plt.legend()\n",
        "\n",
        "plt.xticks(())\n",
        "plt.yticks(())\n",
        "\n",
        "plt.show()"
      ],
      "metadata": {
        "colab": {
          "base_uri": "https://localhost:8080/",
          "height": 252
        },
        "id": "UsRkaThi6dvT",
        "outputId": "963802fa-8209-4f2b-d67d-29ac7ec2d9cd"
      },
      "execution_count": null,
      "outputs": [
        {
          "output_type": "display_data",
          "data": {
            "image/png": "[encoded data removed]",
            "text/plain": [
              "<Figure size 432x288 with 1 Axes>"
            ]
          },
          "metadata": {}
        }
      ]
    },
    {
      "cell_type": "markdown",
      "source": [
        " 8.2 Using scipy "
      ],
      "metadata": {
        "id": "WyqoQyP0f29o"
      }
    },
    {
      "cell_type": "code",
      "source": [
        "import scipy"
      ],
      "metadata": {
        "id": "o3az5qSWtAZc"
      },
      "execution_count": null,
      "outputs": []
    },
    {
      "cell_type": "code",
      "source": [
        "slope, intercept, r, p, se = scipy.stats.linregress(Shuffleddata, y=None)"
      ],
      "metadata": {
        "id": "HcXOk77Lr_E5"
      },
      "execution_count": null,
      "outputs": []
    },
    {
      "cell_type": "code",
      "source": [
        "plt.plot(My_data_X, My_data_y, 'o', label='original data')\n",
        "plt.plot(My_data_X, intercept + slope*My_data_X, 'r', label='fitted line')\n",
        "plt.legend()\n",
        "plt.show()"
      ],
      "metadata": {
        "id": "JDkgEnthf4uQ",
        "colab": {
          "base_uri": "https://localhost:8080/",
          "height": 265
        },
        "outputId": "e08e3bff-77b1-4212-ab49-b3ce172ddf2b"
      },
      "execution_count": null,
      "outputs": [
        {
          "output_type": "display_data",
          "data": {
            "image/png": "[encoded data removed]",
            "text/plain": [
              "<Figure size 432x288 with 1 Axes>"
            ]
          },
          "metadata": {
            "needs_background": "light"
          }
        }
      ]
    },
    {
      "cell_type": "code",
      "source": [
        "slope, intercept"
      ],
      "metadata": {
        "colab": {
          "base_uri": "https://localhost:8080/"
        },
        "id": "u2kdzkXyuJ5h",
        "outputId": "33ca6bcf-d4ad-488e-9176-7282c90e3d02"
      },
      "execution_count": null,
      "outputs": [
        {
          "output_type": "execute_result",
          "data": {
            "text/plain": [
              "(0.049519392019725585, 2.5985243747204594)"
            ]
          },
          "metadata": {},
          "execution_count": 111
        }
      ]
    },
    {
      "cell_type": "markdown",
      "source": [
        "8.3 Using pytorch "
      ],
      "metadata": {
        "id": "CeKNE3mZf5iu"
      }
    },
    {
      "cell_type": "code",
      "source": [
        "import torch\n",
        "from torch.autograd import Variable\n",
        "class linearRegression(torch.nn.Module):\n",
        "    def __init__(self, inputSize, outputSize):\n",
        "        super(linearRegression, self).__init__()\n",
        "        self.linear = torch.nn.Linear(inputSize, outputSize)\n",
        "\n",
        "    def forward(self, x):\n",
        "        out = self.linear(x)\n",
        "        return out"
      ],
      "metadata": {
        "id": "44Ag7gOcf7kT"
      },
      "execution_count": null,
      "outputs": []
    },
    {
      "cell_type": "code",
      "source": [
        "inputDim = 1        # takes variable 'x' \n",
        "outputDim = 1       # takes variable 'y'\n",
        "learningRate = 0.01 \n",
        "epochs = 100 \n",
        "\n",
        "model = linearRegression(inputDim, outputDim)\n",
        "##### For GPU #######\n",
        "if torch.cuda.is_available():\n",
        "    model.cuda()"
      ],
      "metadata": {
        "id": "nFMUWkVpvdVF"
      },
      "execution_count": null,
      "outputs": []
    },
    {
      "cell_type": "code",
      "source": [
        "criterion = torch.nn.MSELoss() \n",
        "optimizer = torch.optim.SGD(model.parameters(), lr=learningRate)"
      ],
      "metadata": {
        "id": "ud4VZIY_vyBJ"
      },
      "execution_count": null,
      "outputs": []
    },
    {
      "cell_type": "code",
      "source": [
        "for epoch in range(epochs):\n",
        "    # Converting inputs and labels to Variable\n",
        "    if torch.cuda.is_available():\n",
        "        inputs = Variable(torch.from_numpy(My_data_X_train).cuda())\n",
        "        labels = Variable(torch.from_numpy(My_data_y_train).cuda())\n",
        "    else:\n",
        "        inputs = Variable(torch.from_numpy(My_data_X_train))\n",
        "        labels = Variable(torch.from_numpy(My_data_y_train))\n",
        "\n",
        "    # Clear gradient buffers because we don't want any gradient from previous epoch to carry forward, dont want to cummulate gradients\n",
        "    optimizer.zero_grad()\n",
        "\n",
        "    # get output from the model, given the inputs\n",
        "    outputs = model(inputs)\n",
        "\n",
        "    # get loss for the predicted output\n",
        "    loss = criterion(outputs, labels)\n",
        "    #print(loss)\n",
        "    # get gradients w.r.t to parameters\n",
        "    loss.backward()\n",
        "\n",
        "    # update parameters\n",
        "    optimizer.step()\n",
        "\n",
        "    #print('epoch {}, loss {}'.format(epoch, loss.item()))"
      ],
      "metadata": {
        "colab": {
          "base_uri": "https://localhost:8080/"
        },
        "id": "CQh8eDROwDj4",
        "outputId": "e046c468-c836-4277-fe34-186c4c89a0c5"
      },
      "execution_count": null,
      "outputs": [
        {
          "output_type": "stream",
          "name": "stderr",
          "text": [
            "/usr/local/lib/python3.7/dist-packages/torch/nn/modules/loss.py:520: UserWarning: Using a target size (torch.Size([61])) that is different to the input size (torch.Size([61, 1])). This will likely lead to incorrect results due to broadcasting. Please ensure they have the same size.\n",
            "  return F.mse_loss(input, target, reduction=self.reduction)\n"
          ]
        }
      ]
    },
    {
      "cell_type": "code",
      "source": [
        "# Testing \n",
        "\n",
        "with torch.no_grad(): # we don't need gradients in the testing phase\n",
        "    if torch.cuda.is_available():\n",
        "        predicted = model(Variable(torch.from_numpy(My_data_X_test).cuda())).cpu().data.numpy()\n",
        "    else:\n",
        "        predicted = model(Variable(torch.from_numpy(My_data_X_test))).data.numpy()\n",
        "    print(predicted)\n"
      ],
      "metadata": {
        "colab": {
          "base_uri": "https://localhost:8080/"
        },
        "id": "Mr3LTVMAzaVK",
        "outputId": "b37c991c-79e7-4aec-d4c1-818317115cdc"
      },
      "execution_count": null,
      "outputs": [
        {
          "output_type": "stream",
          "name": "stdout",
          "text": [
            "[[2.8457704]\n",
            " [2.5663862]\n",
            " [2.5335176]\n",
            " [2.7800329]\n",
            " [2.9443765]\n",
            " [2.5828207]\n",
            " [2.7635984]\n",
            " [3.1744573]\n",
            " [2.073356 ]\n",
            " [2.6978612]\n",
            " [2.500649 ]\n",
            " [2.1883962]\n",
            " [2.9115076]\n",
            " [2.9608107]\n",
            " [2.878639 ]\n",
            " [2.0240529]\n",
            " [3.1251543]\n",
            " [2.4020429]\n",
            " [3.4045382]\n",
            " [1.9747497]\n",
            " [2.3034368]\n",
            " [3.4538412]\n",
            " [3.2237604]\n",
            " [2.040487 ]\n",
            " [3.0101137]\n",
            " [3.338801 ]\n",
            " [2.3363054]\n",
            " [2.6649923]\n",
            " [2.0569215]\n",
            " [3.437407 ]]\n"
          ]
        }
      ]
    },
    {
      "cell_type": "code",
      "source": [
        "len(predicted)"
      ],
      "metadata": {
        "colab": {
          "base_uri": "https://localhost:8080/"
        },
        "id": "NJDcqksu0ozg",
        "outputId": "d1b6c3e7-05cc-438d-c9a6-6a654df3fb06"
      },
      "execution_count": null,
      "outputs": [
        {
          "output_type": "execute_result",
          "data": {
            "text/plain": [
              "30"
            ]
          },
          "metadata": {},
          "execution_count": 119
        }
      ]
    },
    {
      "cell_type": "code",
      "source": [
        "plt.scatter(My_data_X_test, My_data_y_test, color=\"black\", label='original test data')\n",
        "plt.plot(My_data_X_test, predicted, color=\"blue\", linewidth=3,  label='fitted line')\n",
        "plt.scatter(My_data_X_train, My_data_y_train, color=\"red\", linewidth=3, label='training data')\n",
        "plt.legend()\n",
        "\n",
        "plt.xticks(())\n",
        "plt.yticks(())\n",
        "\n",
        "plt.show()"
      ],
      "metadata": {
        "colab": {
          "base_uri": "https://localhost:8080/",
          "height": 252
        },
        "id": "wef0K9G-099V",
        "outputId": "6d33e712-dfb1-4c64-eea1-159f6b6c7882"
      },
      "execution_count": null,
      "outputs": [
        {
          "output_type": "display_data",
          "data": {
            "image/png": "[encoded data removed]",
            "text/plain": [
              "<Figure size 432x288 with 1 Axes>"
            ]
          },
          "metadata": {}
        }
      ]
    },
    {
      "cell_type": "markdown",
      "source": [
        "Ensure that you get the same result in each case (or explain why the results are different). You will need to install the corresponding packages. If you wanted to build a better regression model what would you do?  \n"
      ],
      "metadata": {
        "id": "LGeiVsRof-CX"
      }
    },
    {
      "cell_type": "code",
      "source": [
        "# Plotting all of the linear regression in one plot\n",
        "plt.scatter(My_data_X_test, My_data_y_test, color=\"black\", label='original test data')\n",
        "plt.plot(My_data_X_test, predicted, color=\"blue\", linewidth=3,  label='fitted line in pytorch')\n",
        "\n",
        "plt.plot(My_data_X, intercept + slope*My_data_X, 'y', label='fitted line in scipy')\n",
        "plt.plot(My_data_X_test, My_data_y_pred, color=\"green\", linewidth=3,  label='fitted line in sklearn')\n",
        "\n",
        "plt.scatter(My_data_X_train, My_data_y_train, color=\"red\", linewidth=3, label='training data')\n",
        "plt.legend()\n",
        "\n",
        "plt.xticks(())\n",
        "plt.yticks(())\n",
        "\n",
        "plt.show()\n",
        "\n"
      ],
      "metadata": {
        "id": "W15udweLf-kp",
        "colab": {
          "base_uri": "https://localhost:8080/",
          "height": 252
        },
        "outputId": "5549b44a-a97c-4886-cb5a-45312284857f"
      },
      "execution_count": null,
      "outputs": [
        {
          "output_type": "display_data",
          "data": {
            "image/png": "[encoded data removed]",
            "text/plain": [
              "<Figure size 432x288 with 1 Axes>"
            ]
          },
          "metadata": {}
        }
      ]
    },
    {
      "cell_type": "markdown",
      "source": [
        "The result is different because in scipy, we used all the data and we computed the slopes and the intercept traditionnally.\n",
        "\n",
        "Instead, for pytorch and sklearn, we only use the train data and also, the coefficient are ajusted as long as the computation is going.\n",
        "\n"
      ],
      "metadata": {
        "id": "Dtu_dO8d2A2z"
      }
    },
    {
      "cell_type": "markdown",
      "source": [
        ""
      ],
      "metadata": {
        "id": "9OTL4AkU3UYt"
      }
    },
    {
      "cell_type": "markdown",
      "source": [
        "A model regression will be taking the average of the predicted value from the three models, as all three have pro and cons so using all of them will reduce errors."
      ],
      "metadata": {
        "id": "P6tmxzTN3U22"
      }
    },
    {
      "cell_type": "markdown",
      "source": [
        "9. You should commit at least three different versions of your notebook to your github account to demonstrate that you know the basics of using git for version control."
      ],
      "metadata": {
        "id": "qFsm_gKbgB8A"
      }
    },
    {
      "cell_type": "code",
      "source": [
        ""
      ],
      "metadata": {
        "id": "34-2ix323pM7"
      },
      "execution_count": null,
      "outputs": []
    },
    {
      "cell_type": "code",
      "source": [
        ""
      ],
      "metadata": {
        "id": "wFGLZ4Vd12Kl"
      },
      "execution_count": null,
      "outputs": []
    },
    {
      "cell_type": "code",
      "source": [
        ""
      ],
      "metadata": {
        "id": "p_nrLQEPgCgx"
      },
      "execution_count": null,
      "outputs": []
    },
    {
      "cell_type": "markdown",
      "source": [
        "10. Share your notebook with us as a Google Colab notebook. Include your github account in your Colab notebook intro and make sure your commits are public. \n"
      ],
      "metadata": {
        "id": "vd_snBowgHLm"
      }
    },
    {
      "cell_type": "code",
      "source": [
        ""
      ],
      "metadata": {
        "id": "_U5tZSbCgH3C"
      },
      "execution_count": null,
      "outputs": []
    }
  ]
}