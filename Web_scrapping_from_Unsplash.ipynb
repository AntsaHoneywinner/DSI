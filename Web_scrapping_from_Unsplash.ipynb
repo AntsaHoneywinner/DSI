{
  "cells": [
    {
      "cell_type": "markdown",
      "metadata": {
        "id": "view-in-github",
        "colab_type": "text"
      },
      "source": [
        "<a href=\"https://colab.research.google.com/github/AntsaHoneywinner/DSI/blob/main/Web_scrapping_from_Unsplash.ipynb\" target=\"_parent\"><img src=\"https://colab.research.google.com/assets/colab-badge.svg\" alt=\"Open In Colab\"/></a>"
      ]
    },
    {
      "cell_type": "markdown",
      "metadata": {
        "id": "r2n2G4TQLq1z"
      },
      "source": [
        "# Web scrapping happy girl and Sad girl from unsplash\n",
        "\n",
        "\n",
        "For our data, we will take photos of happy girls from https://unsplash.com/s/photos/happy-girl and photos of sad girls from https://unsplash.com/s/photos/sad-girl.\n",
        "\n",
        "We will first put them in two different folder happy and sad."
      ]
    },
    {
      "cell_type": "code",
      "execution_count": 172,
      "metadata": {
        "id": "cjAMMAthMvps",
        "colab": {
          "base_uri": "https://localhost:8080/"
        },
        "outputId": "16981b10-e564-41a8-83ba-38a080736479"
      },
      "outputs": [
        {
          "output_type": "stream",
          "name": "stdout",
          "text": [
            "Requirement already satisfied: selenium in /usr/local/lib/python3.7/dist-packages (4.1.0)\n",
            "Requirement already satisfied: urllib3[secure]~=1.26 in /usr/local/lib/python3.7/dist-packages (from selenium) (1.26.8)\n",
            "Requirement already satisfied: trio~=0.17 in /usr/local/lib/python3.7/dist-packages (from selenium) (0.19.0)\n",
            "Requirement already satisfied: trio-websocket~=0.9 in /usr/local/lib/python3.7/dist-packages (from selenium) (0.9.2)\n",
            "Requirement already satisfied: idna in /usr/local/lib/python3.7/dist-packages (from trio~=0.17->selenium) (2.10)\n",
            "Requirement already satisfied: attrs>=19.2.0 in /usr/local/lib/python3.7/dist-packages (from trio~=0.17->selenium) (21.4.0)\n",
            "Requirement already satisfied: outcome in /usr/local/lib/python3.7/dist-packages (from trio~=0.17->selenium) (1.1.0)\n",
            "Requirement already satisfied: sortedcontainers in /usr/local/lib/python3.7/dist-packages (from trio~=0.17->selenium) (2.4.0)\n",
            "Requirement already satisfied: sniffio in /usr/local/lib/python3.7/dist-packages (from trio~=0.17->selenium) (1.2.0)\n",
            "Requirement already satisfied: async-generator>=1.9 in /usr/local/lib/python3.7/dist-packages (from trio~=0.17->selenium) (1.10)\n",
            "Requirement already satisfied: wsproto>=0.14 in /usr/local/lib/python3.7/dist-packages (from trio-websocket~=0.9->selenium) (1.0.0)\n",
            "Requirement already satisfied: cryptography>=1.3.4 in /usr/local/lib/python3.7/dist-packages (from urllib3[secure]~=1.26->selenium) (36.0.1)\n",
            "Requirement already satisfied: certifi in /usr/local/lib/python3.7/dist-packages (from urllib3[secure]~=1.26->selenium) (2021.10.8)\n",
            "Requirement already satisfied: pyOpenSSL>=0.14 in /usr/local/lib/python3.7/dist-packages (from urllib3[secure]~=1.26->selenium) (22.0.0)\n",
            "Requirement already satisfied: cffi>=1.12 in /usr/local/lib/python3.7/dist-packages (from cryptography>=1.3.4->urllib3[secure]~=1.26->selenium) (1.15.0)\n",
            "Requirement already satisfied: pycparser in /usr/local/lib/python3.7/dist-packages (from cffi>=1.12->cryptography>=1.3.4->urllib3[secure]~=1.26->selenium) (2.21)\n",
            "Requirement already satisfied: h11<1,>=0.9.0 in /usr/local/lib/python3.7/dist-packages (from wsproto>=0.14->trio-websocket~=0.9->selenium) (0.13.0)\n",
            "Requirement already satisfied: typing-extensions in /usr/local/lib/python3.7/dist-packages (from h11<1,>=0.9.0->wsproto>=0.14->trio-websocket~=0.9->selenium) (3.10.0.2)\n"
          ]
        }
      ],
      "source": [
        "pip install selenium"
      ]
    },
    {
      "cell_type": "code",
      "execution_count": 173,
      "metadata": {
        "id": "SEyxzRlLjCA3"
      },
      "outputs": [],
      "source": [
        "from urllib.request import urlopen"
      ]
    },
    {
      "cell_type": "code",
      "execution_count": 174,
      "metadata": {
        "colab": {
          "base_uri": "https://localhost:8080/"
        },
        "id": "EY7tp2A-NxY4",
        "outputId": "48d4843a-685c-4509-8528-7e8bfa083b3b"
      },
      "outputs": [
        {
          "output_type": "stream",
          "name": "stdout",
          "text": [
            "Drive already mounted at /content/drive; to attempt to forcibly remount, call drive.mount(\"/content/drive\", force_remount=True).\n"
          ]
        }
      ],
      "source": [
        "# mounting drive\n",
        "from google.colab import drive\n",
        "drive.mount('/content/drive')"
      ]
    },
    {
      "cell_type": "code",
      "execution_count": 175,
      "metadata": {
        "id": "91eSl-MCPi0G"
      },
      "outputs": [],
      "source": [
        "from google.colab import files\n",
        "from bs4 import BeautifulSoup\n",
        "import requests\n",
        "import re\n",
        "import os\n",
        "try:\n",
        "    import cookielib\n",
        "except:\n",
        "    import http.cookiejar\n",
        "    cookielib = http.cookiejar\n",
        "import json\n"
      ]
    },
    {
      "cell_type": "code",
      "execution_count": null,
      "metadata": {
        "id": "ihbxNzn5barK"
      },
      "outputs": [],
      "source": [
        "\n"
      ]
    },
    {
      "cell_type": "code",
      "execution_count": 176,
      "metadata": {
        "colab": {
          "base_uri": "https://localhost:8080/"
        },
        "id": "Ga_V61fpPist",
        "outputId": "684ab4bf-6840-4bcc-c92e-ec917858fdb8"
      },
      "outputs": [
        {
          "output_type": "stream",
          "name": "stdout",
          "text": [
            "Cloning into 'WebScrapping_Python'...\n",
            "remote: Enumerating objects: 15, done.\u001b[K\n",
            "remote: Total 15 (delta 0), reused 0 (delta 0), pack-reused 15\u001b[K\n",
            "Unpacking objects: 100% (15/15), done.\n"
          ]
        }
      ],
      "source": [
        "!git clone https://github.com/AntsaHoneywinner/WebScrapping_Python"
      ]
    },
    {
      "cell_type": "code",
      "execution_count": 177,
      "metadata": {
        "colab": {
          "base_uri": "https://localhost:8080/"
        },
        "id": "OcMs5f3hS4co",
        "outputId": "c2327f4f-1eb1-43cb-f9af-1aba5a2acf76"
      },
      "outputs": [
        {
          "output_type": "stream",
          "name": "stdout",
          "text": [
            "/content/WebScrapping_Python/WebScrapping_Python/WebScrapping_Python\n"
          ]
        }
      ],
      "source": [
        "cd WebScrapping_Python/"
      ]
    },
    {
      "cell_type": "code",
      "execution_count": 178,
      "metadata": {
        "colab": {
          "base_uri": "https://localhost:8080/"
        },
        "id": "hbVB0EAZTEHA",
        "outputId": "fa92becf-ee82-4749-cd7d-60ed48afca27"
      },
      "outputs": [
        {
          "output_type": "stream",
          "name": "stdout",
          "text": [
            "geckodriver.exe  geckodriver.log  links.txt  README.md  scrap.py\n"
          ]
        }
      ],
      "source": [
        "ls"
      ]
    },
    {
      "cell_type": "markdown",
      "metadata": {
        "id": "rihqd36YT8u1"
      },
      "source": [
        "https://gist.github.com/korakot/5c8e21a5af63966d80a676af0ce15067"
      ]
    },
    {
      "cell_type": "code",
      "execution_count": null,
      "metadata": {
        "id": "Tl13cRS7Tccy"
      },
      "outputs": [],
      "source": [
        "# install chromium, its driver, and selenium\n",
        "!apt update\n",
        "!apt install chromium-chromedriver\n",
        "!pip install selenium\n",
        "# set options to be headless, ..\n",
        "from selenium import webdriver\n",
        "options = webdriver.ChromeOptions()\n",
        "options.add_argument('--headless')\n",
        "options.add_argument('--no-sandbox')\n",
        "options.add_argument('--disable-dev-shm-usage')\n",
        "# open it, go to a website, and get results\n",
        "wd = webdriver.Chrome(options=options)\n",
        "#wd.get(\"https://www.website.com\")\n",
        "#print(wd.page_source)  # results\n",
        "# divs = wd.find_elements_by_css_selector('div')"
      ]
    },
    {
      "cell_type": "code",
      "execution_count": 181,
      "metadata": {
        "id": "EZnzU_C8Th7q"
      },
      "outputs": [],
      "source": [
        "#url = \"https://unsplash.com/search/photos/mountains/\"\n",
        "#wd.get(url)\n",
        "#just tried if it gonna make sense"
      ]
    },
    {
      "cell_type": "code",
      "execution_count": 182,
      "metadata": {
        "colab": {
          "base_uri": "https://localhost:8080/"
        },
        "id": "0343GAyDLfdo",
        "outputId": "e51f5f26-393e-44c3-c8a4-da82765ea801"
      },
      "outputs": [
        {
          "output_type": "stream",
          "name": "stderr",
          "text": [
            "/usr/local/lib/python3.7/dist-packages/ipykernel_launcher.py:3: DeprecationWarning: find_elements_by_* commands are deprecated. Please use find_elements() instead\n",
            "  This is separate from the ipykernel package so we can avoid doing imports until\n"
          ]
        }
      ],
      "source": [
        "def view_webpage(link_file):\n",
        "    try:\n",
        "        elem1 = wd.find_elements_by_tag_name('a')\n",
        "    except:\n",
        "        print('some error occured')\n",
        "    try:\n",
        "        for elem in elem1:\n",
        "            if elem.get_attribute('title') == 'Download photo':\n",
        "                print(elem.get_attribute('href'), file=link_file)\n",
        "    except:\n",
        "        print(\"No data in Element\")\n",
        "\n",
        "url = \"https://unsplash.com/s/photos/happy-girl\" \n",
        "wd.get(url)\n",
        "complete = False\n",
        "# we will open the file in append mode\n",
        "link_file = open(\"linkhappy.txt\", mode=\"a+\")\n",
        "\n",
        "while not complete:\n",
        "    view_webpage(link_file)\n",
        "    complete = True\n",
        "    \n",
        "# Closing the file to save in drive\n",
        "link_file.close()"
      ]
    },
    {
      "cell_type": "code",
      "execution_count": 183,
      "metadata": {
        "colab": {
          "base_uri": "https://localhost:8080/"
        },
        "id": "uHgac-q6Wcxb",
        "outputId": "29c9c431-7d81-44b7-bd73-cdba285d8914"
      },
      "outputs": [
        {
          "output_type": "stream",
          "name": "stdout",
          "text": [
            "geckodriver.exe  geckodriver.log  linkhappy.txt  links.txt  README.md  scrap.py\n"
          ]
        }
      ],
      "source": [
        "ls"
      ]
    },
    {
      "cell_type": "code",
      "execution_count": 184,
      "metadata": {
        "id": "YEZ6sLyzSqig",
        "colab": {
          "base_uri": "https://localhost:8080/"
        },
        "outputId": "ac549a97-3b2d-4736-87c4-57a89e30af9c"
      },
      "outputs": [
        {
          "output_type": "stream",
          "name": "stdout",
          "text": [
            "https://unsplash.com/photos/oTweoxMKdkA/download?ixid=MnwxMjA3fDB8MXxzZWFyY2h8MXx8aGFwcHklMjBnaXJsfGVufDB8fHx8MTY0NDQ0NDUyMg&force=true\n",
            "https://unsplash.com/photos/mEZ3PoFGs_k/download?ixid=MnwxMjA3fDB8MXxzZWFyY2h8NHx8aGFwcHklMjBnaXJsfGVufDB8fHx8MTY0NDQ0NDUyMg&force=true\n",
            "https://unsplash.com/photos/55bVEzGVnzY/download?ixid=MnwxMjA3fDB8MXxzZWFyY2h8Nnx8aGFwcHklMjBnaXJsfGVufDB8fHx8MTY0NDQ0NDUyMg&force=true\n",
            "https://unsplash.com/photos/dnL6ZIpht2s/download?ixid=MnwxMjA3fDB8MXxzZWFyY2h8OHx8aGFwcHklMjBnaXJsfGVufDB8fHx8MTY0NDQ0NDUyMg&force=true\n",
            "https://unsplash.com/photos/mx-ukEhDpHo/download?ixid=MnwxMjA3fDB8MXxzZWFyY2h8MTB8fGhhcHB5JTIwZ2lybHxlbnwwfHx8fDE2NDQ0NDQ1MjI&force=true\n",
            "https://unsplash.com/photos/TWB035qnbQs/download?ixid=MnwxMjA3fDB8MXxzZWFyY2h8MTJ8fGhhcHB5JTIwZ2lybHxlbnwwfHx8fDE2NDQ0NDQ1MjI&force=true\n",
            "https://unsplash.com/photos/r2nJPbEYuSQ/download?ixid=MnwxMjA3fDB8MXxzZWFyY2h8MTR8fGhhcHB5JTIwZ2lybHxlbnwwfHx8fDE2NDQ0NDQ1MjI&force=true\n",
            "https://unsplash.com/photos/XM_2oqcbpIQ/download?ixid=MnwxMjA3fDB8MXxzZWFyY2h8MTV8fGhhcHB5JTIwZ2lybHxlbnwwfHx8fDE2NDQ0NDQ1MjI&force=true\n",
            "https://unsplash.com/photos/IcAtXrAZx8E/download?ixid=MnwxMjA3fDB8MXxzZWFyY2h8MTd8fGhhcHB5JTIwZ2lybHxlbnwwfHx8fDE2NDQ0NDQ1MjI&force=true\n",
            "https://unsplash.com/photos/kUY6bln4Les/download?ixid=MnwxMjA3fDB8MXxzZWFyY2h8MjB8fGhhcHB5JTIwZ2lybHxlbnwwfHx8fDE2NDQ0NDQ1MjI&force=true\n",
            "https://unsplash.com/photos/00ByEXKcSkA/download?ixid=MnwxMjA3fDB8MXxzZWFyY2h8Mnx8aGFwcHklMjBnaXJsfGVufDB8fHx8MTY0NDQ0NDUyMg&force=true\n",
            "https://unsplash.com/photos/8A7fD6Y5VF8/download?ixid=MnwxMjA3fDB8MXxzZWFyY2h8M3x8aGFwcHklMjBnaXJsfGVufDB8fHx8MTY0NDQ0NDUyMg&force=true\n",
            "https://unsplash.com/photos/yZwrmzKGKZA/download?ixid=MnwxMjA3fDB8MXxzZWFyY2h8NXx8aGFwcHklMjBnaXJsfGVufDB8fHx8MTY0NDQ0NDUyMg&force=true\n",
            "https://unsplash.com/photos/HtQLD6HOS94/download?ixid=MnwxMjA3fDB8MXxzZWFyY2h8N3x8aGFwcHklMjBnaXJsfGVufDB8fHx8MTY0NDQ0NDUyMg&force=true\n",
            "https://unsplash.com/photos/gG70fyu3qsg/download?ixid=MnwxMjA3fDB8MXxzZWFyY2h8OXx8aGFwcHklMjBnaXJsfGVufDB8fHx8MTY0NDQ0NDUyMg&force=true\n",
            "https://unsplash.com/photos/sh3LSNbyj7k/download?ixid=MnwxMjA3fDB8MXxzZWFyY2h8MTF8fGhhcHB5JTIwZ2lybHxlbnwwfHx8fDE2NDQ0NDQ1MjI&force=true\n",
            "https://unsplash.com/photos/LaK153ghdig/download?ixid=MnwxMjA3fDB8MXxzZWFyY2h8MTN8fGhhcHB5JTIwZ2lybHxlbnwwfHx8fDE2NDQ0NDQ1MjI&force=true\n",
            "https://unsplash.com/photos/swZl5qH7Y9o/download?ixid=MnwxMjA3fDB8MXxzZWFyY2h8MTZ8fGhhcHB5JTIwZ2lybHxlbnwwfHx8fDE2NDQ0NDQ1MjI&force=true\n",
            "https://unsplash.com/photos/Hr6dzqNLzhw/download?ixid=MnwxMjA3fDB8MXxzZWFyY2h8MTh8fGhhcHB5JTIwZ2lybHxlbnwwfHx8fDE2NDQ0NDQ1MjI&force=true\n",
            "https://unsplash.com/photos/6mlAfBZFKmM/download?ixid=MnwxMjA3fDB8MXxzZWFyY2h8MTl8fGhhcHB5JTIwZ2lybHxlbnwwfHx8fDE2NDQ0NDQ1MjI&force=true\n",
            "\n"
          ]
        }
      ],
      "source": [
        "from google.colab import files\n",
        "import io\n",
        "\n",
        "with open('linkhappy.txt') as f:\n",
        "  print(f.read())"
      ]
    },
    {
      "cell_type": "code",
      "execution_count": 185,
      "metadata": {
        "colab": {
          "base_uri": "https://localhost:8080/"
        },
        "id": "mbg6rGaeWgpj",
        "outputId": "9fc2a7e6-c44a-4334-c021-c625908aca3f"
      },
      "outputs": [
        {
          "output_type": "stream",
          "name": "stderr",
          "text": [
            "/usr/local/lib/python3.7/dist-packages/ipykernel_launcher.py:3: DeprecationWarning: find_elements_by_* commands are deprecated. Please use find_elements() instead\n",
            "  This is separate from the ipykernel package so we can avoid doing imports until\n"
          ]
        }
      ],
      "source": [
        "url = \"https://unsplash.com/s/photos/sad-girl\" \n",
        "wd.get(url)\n",
        "complete = False\n",
        "# we will open the file in append mode\n",
        "link_file = open(\"linksad.txt\", mode=\"a+\")\n",
        "\n",
        "while not complete:\n",
        "    view_webpage(link_file)\n",
        "    complete = True\n",
        "    \n",
        "# Closing the file to save in drive\n",
        "link_file.close()"
      ]
    },
    {
      "cell_type": "code",
      "execution_count": 186,
      "metadata": {
        "colab": {
          "base_uri": "https://localhost:8080/"
        },
        "id": "9pdvjfHLXg7V",
        "outputId": "96cdd655-5db0-438d-920e-58f9f1177b34"
      },
      "outputs": [
        {
          "output_type": "stream",
          "name": "stdout",
          "text": [
            "https://unsplash.com/photos/RTVIvk6-nNA/download?ixid=MnwxMjA3fDB8MXxzZWFyY2h8MXx8c2FkJTIwZ2lybHxlbnwwfHx8fDE2NDQ1MjI2NjE&force=true\n",
            "https://unsplash.com/photos/I8gQVrDcXzY/download?ixid=MnwxMjA3fDB8MXxzZWFyY2h8NHx8c2FkJTIwZ2lybHxlbnwwfHx8fDE2NDQ1MjI2NjE&force=true\n",
            "https://unsplash.com/photos/-1c8Oi8X77g/download?ixid=MnwxMjA3fDB8MXxzZWFyY2h8Nnx8c2FkJTIwZ2lybHxlbnwwfHx8fDE2NDQ1MjI2NjE&force=true\n",
            "https://unsplash.com/photos/T9THJMIIMPM/download?ixid=MnwxMjA3fDB8MXxzZWFyY2h8OHx8c2FkJTIwZ2lybHxlbnwwfHx8fDE2NDQ1MjI2NjE&force=true\n",
            "https://unsplash.com/photos/ETiUU3z74lM/download?ixid=MnwxMjA3fDB8MXxzZWFyY2h8OXx8c2FkJTIwZ2lybHxlbnwwfHx8fDE2NDQ1MjI2NjE&force=true\n",
            "https://unsplash.com/photos/nXo2ZsKHTHg/download?ixid=MnwxMjA3fDB8MXxzZWFyY2h8MTF8fHNhZCUyMGdpcmx8ZW58MHx8fHwxNjQ0NTIyNjYx&force=true\n",
            "https://unsplash.com/photos/P9rQn2qcEV0/download?ixid=MnwxMjA3fDB8MXxzZWFyY2h8MTN8fHNhZCUyMGdpcmx8ZW58MHx8fHwxNjQ0NTIyNjYx&force=true\n",
            "https://unsplash.com/photos/7KHCNCddn2U/download?ixid=MnwxMjA3fDB8MXxzZWFyY2h8MTR8fHNhZCUyMGdpcmx8ZW58MHx8fHwxNjQ0NTIyNjYx&force=true\n",
            "https://unsplash.com/photos/vgyr8je8Ba0/download?ixid=MnwxMjA3fDB8MXxzZWFyY2h8MTZ8fHNhZCUyMGdpcmx8ZW58MHx8fHwxNjQ0NTIyNjYx&force=true\n",
            "https://unsplash.com/photos/tHs82PkN5rg/download?ixid=MnwxMjA3fDB8MXxzZWFyY2h8MTd8fHNhZCUyMGdpcmx8ZW58MHx8fHwxNjQ0NTIyNjYx&force=true\n",
            "https://unsplash.com/photos/ZiR_hfn5i40/download?ixid=MnwxMjA3fDB8MXxzZWFyY2h8MTl8fHNhZCUyMGdpcmx8ZW58MHx8fHwxNjQ0NTIyNjYx&force=true\n",
            "https://unsplash.com/photos/akT1bnnuMMk/download?ixid=MnwxMjA3fDB8MXxzZWFyY2h8Mnx8c2FkJTIwZ2lybHxlbnwwfHx8fDE2NDQ1MjI2NjE&force=true\n",
            "https://unsplash.com/photos/N3moZ3Gn-gI/download?ixid=MnwxMjA3fDB8MXxzZWFyY2h8M3x8c2FkJTIwZ2lybHxlbnwwfHx8fDE2NDQ1MjI2NjE&force=true\n",
            "https://unsplash.com/photos/_sh9vkVbVgo/download?ixid=MnwxMjA3fDB8MXxzZWFyY2h8NXx8c2FkJTIwZ2lybHxlbnwwfHx8fDE2NDQ1MjI2NjE&force=true\n",
            "https://unsplash.com/photos/1VXvvPNvzmI/download?ixid=MnwxMjA3fDB8MXxzZWFyY2h8N3x8c2FkJTIwZ2lybHxlbnwwfHx8fDE2NDQ1MjI2NjE&force=true\n",
            "https://unsplash.com/photos/HGfGrLRhVIA/download?ixid=MnwxMjA3fDB8MXxzZWFyY2h8MTB8fHNhZCUyMGdpcmx8ZW58MHx8fHwxNjQ0NTIyNjYx&force=true\n",
            "https://unsplash.com/photos/6LZuSzSwso0/download?ixid=MnwxMjA3fDB8MXxzZWFyY2h8MTJ8fHNhZCUyMGdpcmx8ZW58MHx8fHwxNjQ0NTIyNjYx&force=true\n",
            "https://unsplash.com/photos/y6zzdkT6tt8/download?ixid=MnwxMjA3fDB8MXxzZWFyY2h8MTV8fHNhZCUyMGdpcmx8ZW58MHx8fHwxNjQ0NTIyNjYx&force=true\n",
            "https://unsplash.com/photos/Cp-LUHPRpWM/download?ixid=MnwxMjA3fDB8MXxzZWFyY2h8MTh8fHNhZCUyMGdpcmx8ZW58MHx8fHwxNjQ0NTIyNjYx&force=true\n",
            "https://unsplash.com/photos/v4gN0jOscAU/download?ixid=MnwxMjA3fDB8MXxzZWFyY2h8MjB8fHNhZCUyMGdpcmx8ZW58MHx8fHwxNjQ0NTIyNjYx&force=true\n",
            "\n"
          ]
        }
      ],
      "source": [
        "with open('linksad.txt') as f:\n",
        "  print(f.read())"
      ]
    },
    {
      "cell_type": "code",
      "execution_count": 187,
      "metadata": {
        "id": "aF4_iptvoL_b"
      },
      "outputs": [],
      "source": [
        "with open('linksad.txt', 'r') as f:\n",
        "    sad = f.readlines()"
      ]
    },
    {
      "cell_type": "code",
      "execution_count": 188,
      "metadata": {
        "colab": {
          "base_uri": "https://localhost:8080/"
        },
        "id": "M_gwRYGfojMU",
        "outputId": "6c8743d1-ac53-4b04-d1f4-93c66ad1b1ad"
      },
      "outputs": [
        {
          "output_type": "execute_result",
          "data": {
            "text/plain": [
              "['https://unsplash.com/photos/RTVIvk6-nNA/download?ixid=MnwxMjA3fDB8MXxzZWFyY2h8MXx8c2FkJTIwZ2lybHxlbnwwfHx8fDE2NDQ1MjI2NjE&force=true\\n',\n",
              " 'https://unsplash.com/photos/I8gQVrDcXzY/download?ixid=MnwxMjA3fDB8MXxzZWFyY2h8NHx8c2FkJTIwZ2lybHxlbnwwfHx8fDE2NDQ1MjI2NjE&force=true\\n',\n",
              " 'https://unsplash.com/photos/-1c8Oi8X77g/download?ixid=MnwxMjA3fDB8MXxzZWFyY2h8Nnx8c2FkJTIwZ2lybHxlbnwwfHx8fDE2NDQ1MjI2NjE&force=true\\n',\n",
              " 'https://unsplash.com/photos/T9THJMIIMPM/download?ixid=MnwxMjA3fDB8MXxzZWFyY2h8OHx8c2FkJTIwZ2lybHxlbnwwfHx8fDE2NDQ1MjI2NjE&force=true\\n',\n",
              " 'https://unsplash.com/photos/ETiUU3z74lM/download?ixid=MnwxMjA3fDB8MXxzZWFyY2h8OXx8c2FkJTIwZ2lybHxlbnwwfHx8fDE2NDQ1MjI2NjE&force=true\\n',\n",
              " 'https://unsplash.com/photos/nXo2ZsKHTHg/download?ixid=MnwxMjA3fDB8MXxzZWFyY2h8MTF8fHNhZCUyMGdpcmx8ZW58MHx8fHwxNjQ0NTIyNjYx&force=true\\n',\n",
              " 'https://unsplash.com/photos/P9rQn2qcEV0/download?ixid=MnwxMjA3fDB8MXxzZWFyY2h8MTN8fHNhZCUyMGdpcmx8ZW58MHx8fHwxNjQ0NTIyNjYx&force=true\\n',\n",
              " 'https://unsplash.com/photos/7KHCNCddn2U/download?ixid=MnwxMjA3fDB8MXxzZWFyY2h8MTR8fHNhZCUyMGdpcmx8ZW58MHx8fHwxNjQ0NTIyNjYx&force=true\\n',\n",
              " 'https://unsplash.com/photos/vgyr8je8Ba0/download?ixid=MnwxMjA3fDB8MXxzZWFyY2h8MTZ8fHNhZCUyMGdpcmx8ZW58MHx8fHwxNjQ0NTIyNjYx&force=true\\n',\n",
              " 'https://unsplash.com/photos/tHs82PkN5rg/download?ixid=MnwxMjA3fDB8MXxzZWFyY2h8MTd8fHNhZCUyMGdpcmx8ZW58MHx8fHwxNjQ0NTIyNjYx&force=true\\n',\n",
              " 'https://unsplash.com/photos/ZiR_hfn5i40/download?ixid=MnwxMjA3fDB8MXxzZWFyY2h8MTl8fHNhZCUyMGdpcmx8ZW58MHx8fHwxNjQ0NTIyNjYx&force=true\\n',\n",
              " 'https://unsplash.com/photos/akT1bnnuMMk/download?ixid=MnwxMjA3fDB8MXxzZWFyY2h8Mnx8c2FkJTIwZ2lybHxlbnwwfHx8fDE2NDQ1MjI2NjE&force=true\\n',\n",
              " 'https://unsplash.com/photos/N3moZ3Gn-gI/download?ixid=MnwxMjA3fDB8MXxzZWFyY2h8M3x8c2FkJTIwZ2lybHxlbnwwfHx8fDE2NDQ1MjI2NjE&force=true\\n',\n",
              " 'https://unsplash.com/photos/_sh9vkVbVgo/download?ixid=MnwxMjA3fDB8MXxzZWFyY2h8NXx8c2FkJTIwZ2lybHxlbnwwfHx8fDE2NDQ1MjI2NjE&force=true\\n',\n",
              " 'https://unsplash.com/photos/1VXvvPNvzmI/download?ixid=MnwxMjA3fDB8MXxzZWFyY2h8N3x8c2FkJTIwZ2lybHxlbnwwfHx8fDE2NDQ1MjI2NjE&force=true\\n',\n",
              " 'https://unsplash.com/photos/HGfGrLRhVIA/download?ixid=MnwxMjA3fDB8MXxzZWFyY2h8MTB8fHNhZCUyMGdpcmx8ZW58MHx8fHwxNjQ0NTIyNjYx&force=true\\n',\n",
              " 'https://unsplash.com/photos/6LZuSzSwso0/download?ixid=MnwxMjA3fDB8MXxzZWFyY2h8MTJ8fHNhZCUyMGdpcmx8ZW58MHx8fHwxNjQ0NTIyNjYx&force=true\\n',\n",
              " 'https://unsplash.com/photos/y6zzdkT6tt8/download?ixid=MnwxMjA3fDB8MXxzZWFyY2h8MTV8fHNhZCUyMGdpcmx8ZW58MHx8fHwxNjQ0NTIyNjYx&force=true\\n',\n",
              " 'https://unsplash.com/photos/Cp-LUHPRpWM/download?ixid=MnwxMjA3fDB8MXxzZWFyY2h8MTh8fHNhZCUyMGdpcmx8ZW58MHx8fHwxNjQ0NTIyNjYx&force=true\\n',\n",
              " 'https://unsplash.com/photos/v4gN0jOscAU/download?ixid=MnwxMjA3fDB8MXxzZWFyY2h8MjB8fHNhZCUyMGdpcmx8ZW58MHx8fHwxNjQ0NTIyNjYx&force=true\\n']"
            ]
          },
          "metadata": {},
          "execution_count": 188
        }
      ],
      "source": [
        "sad"
      ]
    },
    {
      "cell_type": "code",
      "execution_count": 189,
      "metadata": {
        "id": "QOu3LiyzYIBA"
      },
      "outputs": [],
      "source": [
        "with open('linkhappy.txt', 'r') as f:\n",
        "    happy = f.readlines()"
      ]
    },
    {
      "cell_type": "code",
      "execution_count": 190,
      "metadata": {
        "colab": {
          "base_uri": "https://localhost:8080/"
        },
        "id": "T_dctLMQYjPS",
        "outputId": "4b69b807-6d60-4db6-81a4-18adeaf76cd4"
      },
      "outputs": [
        {
          "output_type": "execute_result",
          "data": {
            "text/plain": [
              "['https://unsplash.com/photos/oTweoxMKdkA/download?ixid=MnwxMjA3fDB8MXxzZWFyY2h8MXx8aGFwcHklMjBnaXJsfGVufDB8fHx8MTY0NDQ0NDUyMg&force=true\\n',\n",
              " 'https://unsplash.com/photos/mEZ3PoFGs_k/download?ixid=MnwxMjA3fDB8MXxzZWFyY2h8NHx8aGFwcHklMjBnaXJsfGVufDB8fHx8MTY0NDQ0NDUyMg&force=true\\n',\n",
              " 'https://unsplash.com/photos/55bVEzGVnzY/download?ixid=MnwxMjA3fDB8MXxzZWFyY2h8Nnx8aGFwcHklMjBnaXJsfGVufDB8fHx8MTY0NDQ0NDUyMg&force=true\\n',\n",
              " 'https://unsplash.com/photos/dnL6ZIpht2s/download?ixid=MnwxMjA3fDB8MXxzZWFyY2h8OHx8aGFwcHklMjBnaXJsfGVufDB8fHx8MTY0NDQ0NDUyMg&force=true\\n',\n",
              " 'https://unsplash.com/photos/mx-ukEhDpHo/download?ixid=MnwxMjA3fDB8MXxzZWFyY2h8MTB8fGhhcHB5JTIwZ2lybHxlbnwwfHx8fDE2NDQ0NDQ1MjI&force=true\\n',\n",
              " 'https://unsplash.com/photos/TWB035qnbQs/download?ixid=MnwxMjA3fDB8MXxzZWFyY2h8MTJ8fGhhcHB5JTIwZ2lybHxlbnwwfHx8fDE2NDQ0NDQ1MjI&force=true\\n',\n",
              " 'https://unsplash.com/photos/r2nJPbEYuSQ/download?ixid=MnwxMjA3fDB8MXxzZWFyY2h8MTR8fGhhcHB5JTIwZ2lybHxlbnwwfHx8fDE2NDQ0NDQ1MjI&force=true\\n',\n",
              " 'https://unsplash.com/photos/XM_2oqcbpIQ/download?ixid=MnwxMjA3fDB8MXxzZWFyY2h8MTV8fGhhcHB5JTIwZ2lybHxlbnwwfHx8fDE2NDQ0NDQ1MjI&force=true\\n',\n",
              " 'https://unsplash.com/photos/IcAtXrAZx8E/download?ixid=MnwxMjA3fDB8MXxzZWFyY2h8MTd8fGhhcHB5JTIwZ2lybHxlbnwwfHx8fDE2NDQ0NDQ1MjI&force=true\\n',\n",
              " 'https://unsplash.com/photos/kUY6bln4Les/download?ixid=MnwxMjA3fDB8MXxzZWFyY2h8MjB8fGhhcHB5JTIwZ2lybHxlbnwwfHx8fDE2NDQ0NDQ1MjI&force=true\\n',\n",
              " 'https://unsplash.com/photos/00ByEXKcSkA/download?ixid=MnwxMjA3fDB8MXxzZWFyY2h8Mnx8aGFwcHklMjBnaXJsfGVufDB8fHx8MTY0NDQ0NDUyMg&force=true\\n',\n",
              " 'https://unsplash.com/photos/8A7fD6Y5VF8/download?ixid=MnwxMjA3fDB8MXxzZWFyY2h8M3x8aGFwcHklMjBnaXJsfGVufDB8fHx8MTY0NDQ0NDUyMg&force=true\\n',\n",
              " 'https://unsplash.com/photos/yZwrmzKGKZA/download?ixid=MnwxMjA3fDB8MXxzZWFyY2h8NXx8aGFwcHklMjBnaXJsfGVufDB8fHx8MTY0NDQ0NDUyMg&force=true\\n',\n",
              " 'https://unsplash.com/photos/HtQLD6HOS94/download?ixid=MnwxMjA3fDB8MXxzZWFyY2h8N3x8aGFwcHklMjBnaXJsfGVufDB8fHx8MTY0NDQ0NDUyMg&force=true\\n',\n",
              " 'https://unsplash.com/photos/gG70fyu3qsg/download?ixid=MnwxMjA3fDB8MXxzZWFyY2h8OXx8aGFwcHklMjBnaXJsfGVufDB8fHx8MTY0NDQ0NDUyMg&force=true\\n',\n",
              " 'https://unsplash.com/photos/sh3LSNbyj7k/download?ixid=MnwxMjA3fDB8MXxzZWFyY2h8MTF8fGhhcHB5JTIwZ2lybHxlbnwwfHx8fDE2NDQ0NDQ1MjI&force=true\\n',\n",
              " 'https://unsplash.com/photos/LaK153ghdig/download?ixid=MnwxMjA3fDB8MXxzZWFyY2h8MTN8fGhhcHB5JTIwZ2lybHxlbnwwfHx8fDE2NDQ0NDQ1MjI&force=true\\n',\n",
              " 'https://unsplash.com/photos/swZl5qH7Y9o/download?ixid=MnwxMjA3fDB8MXxzZWFyY2h8MTZ8fGhhcHB5JTIwZ2lybHxlbnwwfHx8fDE2NDQ0NDQ1MjI&force=true\\n',\n",
              " 'https://unsplash.com/photos/Hr6dzqNLzhw/download?ixid=MnwxMjA3fDB8MXxzZWFyY2h8MTh8fGhhcHB5JTIwZ2lybHxlbnwwfHx8fDE2NDQ0NDQ1MjI&force=true\\n',\n",
              " 'https://unsplash.com/photos/6mlAfBZFKmM/download?ixid=MnwxMjA3fDB8MXxzZWFyY2h8MTl8fGhhcHB5JTIwZ2lybHxlbnwwfHx8fDE2NDQ0NDQ1MjI&force=true\\n']"
            ]
          },
          "metadata": {},
          "execution_count": 190
        }
      ],
      "source": [
        "happy"
      ]
    },
    {
      "cell_type": "code",
      "execution_count": null,
      "metadata": {
        "id": "AwvUHomiYmUR"
      },
      "outputs": [],
      "source": [
        "file_url = \"https://unsplash.com/photos/RTVIvk6-nNA/download?ixid=MnwxMjA3fDB8MXxzZWFyY2h8MXx8c2FkJTIwZ2lybHxlbnwwfHx8fDE2NDQ1MjI2NjE&force=true\""
      ]
    },
    {
      "cell_type": "markdown",
      "metadata": {
        "id": "QfpGB5bpZcPb"
      },
      "source": [
        "Here I could have the link to my image files."
      ]
    },
    {
      "cell_type": "markdown",
      "metadata": {
        "id": "xVfEtNOblMHr"
      },
      "source": [
        "### Taking the images into folders"
      ]
    },
    {
      "cell_type": "code",
      "source": [
        "pwd"
      ],
      "metadata": {
        "colab": {
          "base_uri": "https://localhost:8080/",
          "height": 35
        },
        "id": "LSzh8Aos0VHo",
        "outputId": "877285a3-c9da-48bb-d5ae-8a8ef4111930"
      },
      "execution_count": 192,
      "outputs": [
        {
          "output_type": "execute_result",
          "data": {
            "application/vnd.google.colaboratory.intrinsic+json": {
              "type": "string"
            },
            "text/plain": [
              "'/content/WebScrapping_Python/WebScrapping_Python/WebScrapping_Python'"
            ]
          },
          "metadata": {},
          "execution_count": 192
        }
      ]
    },
    {
      "cell_type": "code",
      "source": [
        "!mkdir happy_vs_sad/"
      ],
      "metadata": {
        "id": "pv3Pz_yr0awx"
      },
      "execution_count": 193,
      "outputs": []
    },
    {
      "cell_type": "code",
      "execution_count": 194,
      "metadata": {
        "id": "GfK0wDpSmM4P"
      },
      "outputs": [],
      "source": [
        "!mkdir happy_vs_sad/dataset\n",
        "\n"
      ]
    },
    {
      "cell_type": "code",
      "execution_count": 195,
      "metadata": {
        "id": "bDLW45fzmbzX"
      },
      "outputs": [],
      "source": [
        "# taking the sad girls image in sad directory\n",
        "i=0\n",
        "for link in sad :\n",
        "  response = requests.get(link, allow_redirects=True)\n",
        "  open('happy_vs_sad/dataset/sad.'+str(i)+'.jpg', 'wb').write(response.content)\n",
        "  i +=1\n",
        "i=0\n",
        "for link in happy :\n",
        "  response = requests.get(link, allow_redirects=True)\n",
        "  open('happy_vs_sad/dataset/happy.'+str(i)+'.jpg', 'wb').write(response.content)\n",
        "  i +=1"
      ]
    },
    {
      "cell_type": "code",
      "execution_count": 202,
      "metadata": {
        "colab": {
          "base_uri": "https://localhost:8080/"
        },
        "id": "Q7OrnMEgcPNr",
        "outputId": "d49d9897-bbc7-4569-abb4-2666a6440e8d"
      },
      "outputs": [
        {
          "output_type": "stream",
          "name": "stdout",
          "text": [
            "happy.0.jpg   happy.16.jpg  happy.4.jpg  sad.10.jpg  sad.17.jpg  sad.5.jpg\n",
            "happy.10.jpg  happy.17.jpg  happy.5.jpg  sad.11.jpg  sad.18.jpg  sad.6.jpg\n",
            "happy.11.jpg  happy.18.jpg  happy.6.jpg  sad.12.jpg  sad.19.jpg  sad.7.jpg\n",
            "happy.12.jpg  happy.19.jpg  happy.7.jpg  sad.13.jpg  sad.1.jpg   sad.8.jpg\n",
            "happy.13.jpg  happy.1.jpg   happy.8.jpg  sad.14.jpg  sad.2.jpg   sad.9.jpg\n",
            "happy.14.jpg  happy.2.jpg   happy.9.jpg  sad.15.jpg  sad.3.jpg\n",
            "happy.15.jpg  happy.3.jpg   sad.0.jpg    sad.16.jpg  sad.4.jpg\n"
          ]
        }
      ],
      "source": [
        "ls happy_vs_sad/dataset/"
      ]
    },
    {
      "cell_type": "code",
      "execution_count": 203,
      "metadata": {
        "id": "mQ_sWnlueFX5",
        "colab": {
          "base_uri": "https://localhost:8080/",
          "height": 35
        },
        "outputId": "e469b12d-eb3e-481c-e8d2-38fe8bfef790"
      },
      "outputs": [
        {
          "output_type": "execute_result",
          "data": {
            "application/vnd.google.colaboratory.intrinsic+json": {
              "type": "string"
            },
            "text/plain": [
              "'/content/WebScrapping_Python/WebScrapping_Python/WebScrapping_Python'"
            ]
          },
          "metadata": {},
          "execution_count": 203
        }
      ],
      "source": [
        "pwd"
      ]
    },
    {
      "cell_type": "code",
      "execution_count": 204,
      "metadata": {
        "colab": {
          "base_uri": "https://localhost:8080/"
        },
        "id": "RYRbzf7pee9C",
        "outputId": "0db4aa7f-9efd-4776-ffe2-0efe051ee02b"
      },
      "outputs": [
        {
          "output_type": "stream",
          "name": "stdout",
          "text": [
            "happy.0.jpg   happy.16.jpg  happy.4.jpg  sad.10.jpg  sad.17.jpg  sad.5.jpg\n",
            "happy.10.jpg  happy.17.jpg  happy.5.jpg  sad.11.jpg  sad.18.jpg  sad.6.jpg\n",
            "happy.11.jpg  happy.18.jpg  happy.6.jpg  sad.12.jpg  sad.19.jpg  sad.7.jpg\n",
            "happy.12.jpg  happy.19.jpg  happy.7.jpg  sad.13.jpg  sad.1.jpg   sad.8.jpg\n",
            "happy.13.jpg  happy.1.jpg   happy.8.jpg  sad.14.jpg  sad.2.jpg   sad.9.jpg\n",
            "happy.14.jpg  happy.2.jpg   happy.9.jpg  sad.15.jpg  sad.3.jpg\n",
            "happy.15.jpg  happy.3.jpg   sad.0.jpg    sad.16.jpg  sad.4.jpg\n"
          ]
        }
      ],
      "source": [
        "ls '/content/WebScrapping_Python/WebScrapping_Python/WebScrapping_Python/happy_vs_sad/dataset'"
      ]
    },
    {
      "cell_type": "code",
      "execution_count": 198,
      "metadata": {
        "id": "dj_BH8klegK7",
        "colab": {
          "base_uri": "https://localhost:8080/",
          "height": 35
        },
        "outputId": "d87a11a8-e9d8-4933-fa5d-5926dac5bb9d"
      },
      "outputs": [
        {
          "output_type": "execute_result",
          "data": {
            "application/vnd.google.colaboratory.intrinsic+json": {
              "type": "string"
            },
            "text/plain": [
              "'/content/WebScrapping_Python/WebScrapping_Python/WebScrapping_Python'"
            ]
          },
          "metadata": {},
          "execution_count": 198
        }
      ],
      "source": [
        "pwd"
      ]
    },
    {
      "cell_type": "code",
      "source": [
        "ls '/content/WebScrapping_Python/WebScrapping_Python/WebScrapping_Python/happy_vs_sad/dataset'"
      ],
      "metadata": {
        "id": "vu7mD1QswNa3",
        "colab": {
          "base_uri": "https://localhost:8080/"
        },
        "outputId": "c8842e42-6667-40fd-d985-80270b8e201b"
      },
      "execution_count": 205,
      "outputs": [
        {
          "output_type": "stream",
          "name": "stdout",
          "text": [
            "happy.0.jpg   happy.16.jpg  happy.4.jpg  sad.10.jpg  sad.17.jpg  sad.5.jpg\n",
            "happy.10.jpg  happy.17.jpg  happy.5.jpg  sad.11.jpg  sad.18.jpg  sad.6.jpg\n",
            "happy.11.jpg  happy.18.jpg  happy.6.jpg  sad.12.jpg  sad.19.jpg  sad.7.jpg\n",
            "happy.12.jpg  happy.19.jpg  happy.7.jpg  sad.13.jpg  sad.1.jpg   sad.8.jpg\n",
            "happy.13.jpg  happy.1.jpg   happy.8.jpg  sad.14.jpg  sad.2.jpg   sad.9.jpg\n",
            "happy.14.jpg  happy.2.jpg   happy.9.jpg  sad.15.jpg  sad.3.jpg\n",
            "happy.15.jpg  happy.3.jpg   sad.0.jpg    sad.16.jpg  sad.4.jpg\n"
          ]
        }
      ]
    },
    {
      "cell_type": "code",
      "source": [
        "ls /content/drive/MyDrive/"
      ],
      "metadata": {
        "colab": {
          "base_uri": "https://localhost:8080/"
        },
        "id": "SD8BRv5cynwO",
        "outputId": "6f9bcdc9-a95a-41d0-996d-aab87ba0cb79"
      },
      "execution_count": 167,
      "outputs": [
        {
          "output_type": "stream",
          "name": "stdout",
          "text": [
            " \u001b[0m\u001b[01;34mClassroom\u001b[0m/          \u001b[01;34mgdrive\u001b[0m/\n",
            "\u001b[01;34m'Colab Notebooks'\u001b[0m/   \u001b[01;34mtensorflow-great-barrier-reef\u001b[0m/\n",
            " \u001b[01;34mdogs-vs-cats\u001b[0m/       tensorflow-great-barrier-reef.zip\n",
            " dogs-vs-cats.zip\n"
          ]
        }
      ]
    },
    {
      "cell_type": "code",
      "source": [
        "!cp  '/content/WebScrapping_Python/WebScrapping_Python/WebScrapping_Python/happy_vs_sad/dataset' -r /content/drive/MyDrive/Happy_vs_sad"
      ],
      "metadata": {
        "id": "5Re2kjqGyYpc"
      },
      "execution_count": 208,
      "outputs": []
    },
    {
      "cell_type": "code",
      "source": [
        "ls /content/drive/MyDrive/Happy_vs_sad/dataset"
      ],
      "metadata": {
        "colab": {
          "base_uri": "https://localhost:8080/"
        },
        "id": "N-sz5KlHyvO2",
        "outputId": "e2ee925a-2118-4725-cb4d-63dfa59a1246"
      },
      "execution_count": 209,
      "outputs": [
        {
          "output_type": "stream",
          "name": "stdout",
          "text": [
            "ls: cannot access '/content/drive/MyDrive/Happy_vs_sad/dataset': No such file or directory\n"
          ]
        }
      ]
    },
    {
      "cell_type": "code",
      "source": [
        "Happy_vs_sad/"
      ],
      "metadata": {
        "colab": {
          "base_uri": "https://localhost:8080/"
        },
        "id": "x9Aw9CZsyza-",
        "outputId": "8aa6751f-2c55-42b3-be34-c57e2f06c1fa"
      },
      "execution_count": 212,
      "outputs": [
        {
          "output_type": "stream",
          "name": "stdout",
          "text": [
            "ls: cannot access '/content/drive/MyDriveHappy_vs_sad//': No such file or directory\n"
          ]
        }
      ]
    },
    {
      "cell_type": "code",
      "source": [
        "ls /content/drive/MyDrive/Happy_vs_sad/"
      ],
      "metadata": {
        "colab": {
          "base_uri": "https://localhost:8080/"
        },
        "id": "LGAx9d-Q1dWb",
        "outputId": "1b4b26d2-f6d5-4627-9c82-08c886dfc08d"
      },
      "execution_count": 214,
      "outputs": [
        {
          "output_type": "stream",
          "name": "stdout",
          "text": [
            "happy.0.jpg   happy.16.jpg  happy.4.jpg  sad.10.jpg  sad.17.jpg  sad.5.jpg\n",
            "happy.10.jpg  happy.17.jpg  happy.5.jpg  sad.11.jpg  sad.18.jpg  sad.6.jpg\n",
            "happy.11.jpg  happy.18.jpg  happy.6.jpg  sad.12.jpg  sad.19.jpg  sad.7.jpg\n",
            "happy.12.jpg  happy.19.jpg  happy.7.jpg  sad.13.jpg  sad.1.jpg   sad.8.jpg\n",
            "happy.13.jpg  happy.1.jpg   happy.8.jpg  sad.14.jpg  sad.2.jpg   sad.9.jpg\n",
            "happy.14.jpg  happy.2.jpg   happy.9.jpg  sad.15.jpg  sad.3.jpg\n",
            "happy.15.jpg  happy.3.jpg   sad.0.jpg    sad.16.jpg  sad.4.jpg\n"
          ]
        }
      ]
    },
    {
      "cell_type": "code",
      "source": [
        ""
      ],
      "metadata": {
        "id": "GyseE3OU1kus"
      },
      "execution_count": null,
      "outputs": []
    }
  ],
  "metadata": {
    "colab": {
      "name": "Web scrapping from Unsplash.ipynb",
      "provenance": [],
      "include_colab_link": true
    },
    "kernelspec": {
      "display_name": "Python 3",
      "name": "python3"
    },
    "language_info": {
      "name": "python"
    }
  },
  "nbformat": 4,
  "nbformat_minor": 0
}